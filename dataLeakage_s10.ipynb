{
  "nbformat": 4,
  "nbformat_minor": 0,
  "metadata": {
    "colab": {
      "name": "dataLeakage_s10.ipynb",
      "provenance": [],
      "collapsed_sections": [],
      "toc_visible": true,
      "authorship_tag": "ABX9TyM8BXC2eRlMzc/8Wr3mJb1r"
    },
    "kernelspec": {
      "name": "python3",
      "display_name": "Python 3"
    }
  },
  "cells": [
    {
      "cell_type": "markdown",
      "metadata": {
        "id": "F3dLq0PsObLh",
        "colab_type": "text"
      },
      "source": [
        "# Avoiding Data Leakage When Performing Data Preparation\n",
        "## 25/06/220\n",
        "## Authors RIHAD & SAMIRA\n",
        "\n",
        "![](https://media.giphy.com/media/aQCCNezRpb9Hq/giphy.gif)\n"
      ]
    },
    {
      "cell_type": "markdown",
      "metadata": {
        "id": "2Xov37FhOgES",
        "colab_type": "text"
      },
      "source": [
        "The naive approach to preparing data applies the transform on the entire dataset before evaluating the performance of the model. This results in a problem referred to as **data leakage**, where knowledge of the hold-out test set leaks into the dataset used to train the model. ***This can result in an incorrect estimate of model performance when making predictions on new data***\n",
        "\n",
        "> *A careful application of **data preparation** is required in order to avoid **data leakage**, and this varies depending on the model evaluation scheme used* \n",
        "\n",
        "+ train-test splits OR \n",
        "+ k-fold cross-validation\n",
        "\n",
        "> ***Data preparation is the process of transforming raw data into a form that is appropriate for modeling***\n",
        "\n",
        "In this blog, we'll discover how to avoid **data leakage** during data preparation when evaluating machine learning models\n",
        "\n"
      ]
    },
    {
      "cell_type": "markdown",
      "metadata": {
        "id": "dL89mNjyPf67",
        "colab_type": "text"
      },
      "source": [
        "## Problem with Naive Data Preparation\n",
        "### The manner in which data preparation techniques are applied to data matters\n",
        "\n",
        "The common approach is to first apply one or more transforms to the entire dataset. Then, the dataset is split into train-test sets or k-fold cross-validation is used to fit and evaluate the model\n",
        "\n",
        "> ***Although this is a common approach, it is dangerously incorrect in most cases***\n",
        "\n",
        "**Data leakage** refers to a problem where information about the hold-out dataset, such as a test or validation dataset, is made available to the model in the training dataset. This leakage is often small and subtle but can have a marked effect on performance\n",
        "\n",
        "> ***… leakage means that data is revealed to the model that gives it an unrealistic advantage to make better predictions. This could happen when test data is leaked into the training set, or when data from the future is leaked to the past. Any time that a model is given information that it shouldn’t have access to when it is making predictions in real time in production, there is leakage***\n",
        "\n",
        "This is not a direct type of **data leakage**, where we would train the model on the test set. Instead, it is an indirect type of **data leakage**, where some knowledge about the test set, captured in summary statistics is available to the model during training. This can make it a harder type of **data leakage** to spot, especially for beginners\n",
        "\n",
        "> *One other aspect of resampling is related to the concept of information leakage which is where the test set are used (directly or indirectly) during the training process. This can lead to overly optimistic results that do not replicate on future data and can occur in subtle ways*\n",
        "\n",
        "For example, consider the case where we want to normalize data, that is scale input variables to the range 0-1\n",
        "\n",
        "When we normalize the input variables, this requires that we first calculate the minimum and maximum values for each variable before using these values to scale the variables. The dataset is then split into train and test sets, but the examples in the training set know something about the data in the test set; ***they have been scaled by the global minimum and maximum values, so they know more about the global distribution of the variables then they should***\n",
        "\n",
        "We get the same type of leakage with almost all data preparation techniques; for example, standardization estimates the mean and standard deviation values from the domain in order to scale the variables; even models that impute missing values using a model or summary statistics will draw on the full dataset to fill in values in the training set\n",
        "\n",
        "### The solution is straightforward\n",
        "\n",
        "**Data preparation must be fit on the training set only**. That is, any coefficients or models prepared for the data preparation process must only use rows of data in the training set\n",
        "\n",
        "Once fit, the data preparation algorithms can then be applied to the training set, and to the test set\n",
        "\n",
        "1. Split Data\n",
        "2. Fit Data Preparation on Training Set\n",
        "3. Apply Data Preparation to Train and Test Sets\n",
        "4. Evaluate Models\n",
        "\n",
        "More generally, the entire modeling pipeline must be prepared only on the training set to avoid **data leakage**. This might include data transforms, but also other techniques such as\n",
        "\n",
        "+ feature selection, \n",
        "+ dimensionality reduction, \n",
        "+ feature engineering and more\n",
        "\n",
        "This means so-called *model evaluation* should really be called ***modeling pipeline evaluation***\n",
        "\n",
        "\n",
        "> *In order for any resampling scheme to produce performance estimates that generalize to new data, it must contain all of the steps in the modeling process that could significantly affect the model’s effectiveness*"
      ]
    },
    {
      "cell_type": "markdown",
      "metadata": {
        "id": "EDy8yK3rVOBV",
        "colab_type": "text"
      },
      "source": [
        "# Data Preparation with Train-Test sets\n",
        "\n",
        "We will evaluate a logistic regression model using train and test sets on a **synthetic binary classification dataset** where the input variables have been normalized\n",
        "\n",
        "First, let’s define our **synthetic dataset**\n",
        "\n",
        "We will use the make_classification() function to create the dataset with 1,000 rows of data and 20 numerical input features. The example below creates the dataset and summarizes the shape of the input and output variable arrays"
      ]
    },
    {
      "cell_type": "code",
      "metadata": {
        "id": "HvkqQElsYP97",
        "colab_type": "code",
        "colab": {}
      },
      "source": [
        "# naive approach to normalizing the data before splitting the data and evaluating the model\n",
        "import pandas as pd\n",
        "import numpy as np\n",
        "from sklearn.datasets import make_classification\n",
        "from sklearn.model_selection import train_test_split\n",
        "from sklearn.preprocessing import MinMaxScaler\n",
        "from sklearn.linear_model import LogisticRegression\n",
        "from sklearn.metrics import accuracy_score"
      ],
      "execution_count": null,
      "outputs": []
    },
    {
      "cell_type": "code",
      "metadata": {
        "id": "glMmOWwiVvN5",
        "colab_type": "code",
        "colab": {
          "base_uri": "https://localhost:8080/",
          "height": 34
        },
        "outputId": "3cd573dc-c59b-4d0f-8965-963e8725bf38"
      },
      "source": [
        "# define df\n",
        "X, y = make_classification(n_samples=1000, \n",
        "                           n_features=20, \n",
        "                           n_informative=15, \n",
        "                           n_redundant=5, \n",
        "                           random_state=7)\n",
        "\n",
        "# summarize df\n",
        "print(X.shape, y.shape)"
      ],
      "execution_count": null,
      "outputs": [
        {
          "output_type": "stream",
          "text": [
            "(1000, 20) (1000,)\n"
          ],
          "name": "stdout"
        }
      ]
    },
    {
      "cell_type": "markdown",
      "metadata": {
        "id": "6AYvBe0pXN3b",
        "colab_type": "text"
      },
      "source": [
        "Inference the example creates the dataset and confirms that the input part of the dataset has 1,000 rows and 20 columns for the 20 input variables and that the output variable has 1,000 examples to match the 1,000 rows of input data, one value per row\n",
        "\n",
        "Next, we can evaluate our model on the scaled dataset, starting with their naive or incorrect approach\n",
        "\n",
        "### Train-Test Evaluation with NAIVE Data Preparation\n",
        "***The naive approach involves first applying the data preparation method, then splitting the data before finally evaluating the model***\n",
        "\n",
        "We can normalize the input variables using the *MinMaxScaler class*, which is first defined with the default configuration scaling the data to the range 0-1, then the fit_transform() function is called to fit the transform on the dataset and apply it to the dataset in a single step. The result is a normalized version of the input variables, where each column in the array is separately normalized (e.g. has its own minimum and maximum calculated)"
      ]
    },
    {
      "cell_type": "code",
      "metadata": {
        "id": "jv9-DiSFWsHt",
        "colab_type": "code",
        "colab": {}
      },
      "source": [
        "# standardize the df\n",
        "scaler = MinMaxScaler()\n",
        "X = scaler.fit_transform(X)"
      ],
      "execution_count": null,
      "outputs": []
    },
    {
      "cell_type": "markdown",
      "metadata": {
        "id": "3NOAZxvKYwtH",
        "colab_type": "text"
      },
      "source": [
        "Next, we can split our dataset into train and test sets using the *train_test_split()* function. We will use 67 percent for the training set and 33 percent for the test set"
      ]
    },
    {
      "cell_type": "code",
      "metadata": {
        "id": "l1MPJhTWYGBf",
        "colab_type": "code",
        "colab": {}
      },
      "source": [
        "# split df into train and test sets\n",
        "X_train, X_test, y_train, y_test = train_test_split(X, \n",
        "                                                    y, \n",
        "                                                    test_size=0.33, \n",
        "                                                    random_state=1)"
      ],
      "execution_count": null,
      "outputs": []
    },
    {
      "cell_type": "markdown",
      "metadata": {
        "id": "hFuo_NbPZ9sa",
        "colab_type": "text"
      },
      "source": [
        "We can then define our logistic regression algorithm via the *LogisticRegression* class, with default configuration, and fit it on the training dataset"
      ]
    },
    {
      "cell_type": "code",
      "metadata": {
        "id": "q7f-P_KqZNpk",
        "colab_type": "code",
        "colab": {
          "base_uri": "https://localhost:8080/",
          "height": 104
        },
        "outputId": "d1f4648d-5946-4d3c-e687-a21ee727ee38"
      },
      "source": [
        "# fit the model\n",
        "model = LogisticRegression()\n",
        "model.fit(X_train, y_train)"
      ],
      "execution_count": null,
      "outputs": [
        {
          "output_type": "execute_result",
          "data": {
            "text/plain": [
              "LogisticRegression(C=1.0, class_weight=None, dual=False, fit_intercept=True,\n",
              "                   intercept_scaling=1, l1_ratio=None, max_iter=100,\n",
              "                   multi_class='auto', n_jobs=None, penalty='l2',\n",
              "                   random_state=None, solver='lbfgs', tol=0.0001, verbose=0,\n",
              "                   warm_start=False)"
            ]
          },
          "metadata": {
            "tags": []
          },
          "execution_count": 5
        }
      ]
    },
    {
      "cell_type": "markdown",
      "metadata": {
        "id": "MxkT5ONVbkFX",
        "colab_type": "text"
      },
      "source": [
        "The fit model can then make a prediction for the input data for the test set, and we can compare the predictions to the expected values and calculate a classification accuracy score"
      ]
    },
    {
      "cell_type": "code",
      "metadata": {
        "id": "2B6tPyEhaT6u",
        "colab_type": "code",
        "colab": {
          "base_uri": "https://localhost:8080/",
          "height": 34
        },
        "outputId": "a4ded2ad-8828-48b2-ebce-0a016265332e"
      },
      "source": [
        "# evaluate the model\n",
        "yhat = model.predict(X_test)\n",
        "\n",
        "# evaluate predictions\n",
        "accuracy = accuracy_score(y_test, yhat)\n",
        "print('Accuracy: %.3f' % (accuracy*100))"
      ],
      "execution_count": null,
      "outputs": [
        {
          "output_type": "stream",
          "text": [
            "Accuracy: 84.848\n"
          ],
          "name": "stdout"
        }
      ]
    },
    {
      "cell_type": "markdown",
      "metadata": {
        "id": "qy1imeMbex_H",
        "colab_type": "text"
      },
      "source": [
        "Inference running the example normalizes the data, splits the data into train and test sets, then fits and evaluates the model\n",
        "\n",
        "Your specific results may vary given the stochastic nature of the learning algorithm and evaluation procedure\n",
        "\n",
        "In this case, we can see that the estimate for the model is about 84.848%\n",
        "\n",
        "> ***Given we know that there was data leakage, we know that this estimate of model accuracy is wrong. Let’s explore how we might correctly prepare the data to avoid data leakage***\n",
        "\n",
        "### Train-Test Evaluation with CORRECT Data Preparation\n",
        "\n",
        "The correct approach to performing data preparation with a train-test split evaluation is to fit the data preparation on the training set, then apply the transform to the train and test sets\n",
        "\n",
        "This requires that we first split the data into train and test sets\n"
      ]
    },
    {
      "cell_type": "code",
      "metadata": {
        "id": "HVMU9H8dcOOO",
        "colab_type": "code",
        "colab": {}
      },
      "source": [
        "# split df into train and test sets\n",
        "X_train, X_test, y_train, y_test = train_test_split(X, \n",
        "                                                    y, \n",
        "                                                    test_size=0.33, \n",
        "                                                    random_state=1)"
      ],
      "execution_count": null,
      "outputs": []
    },
    {
      "cell_type": "markdown",
      "metadata": {
        "id": "jCSkr9egm_om",
        "colab_type": "text"
      },
      "source": [
        "We can then define the *MinMaxScale()* and call the *fit()* function on the training set, then apply the *transform()* function on the train and test sets to create a normalized version of each dataset"
      ]
    },
    {
      "cell_type": "code",
      "metadata": {
        "id": "XcISvBbrm8ea",
        "colab_type": "code",
        "colab": {}
      },
      "source": [
        "# define the scaler\n",
        "scaler = MinMaxScaler()\n",
        "\n",
        "# fit on training set\n",
        "scaler.fit(X_train)\n",
        "\n",
        "# scale the training set\n",
        "X_train = scaler.transform(X_train)\n",
        "\n",
        "# scale the test set\n",
        "X_test = scaler.transform(X_test)"
      ],
      "execution_count": null,
      "outputs": []
    },
    {
      "cell_type": "markdown",
      "metadata": {
        "id": "A2TabQHKoWV8",
        "colab_type": "text"
      },
      "source": [
        "This avoids **data leakage** as the calculation of the minimum and maximum value for each input variable is calculated using only the training dataset (X_train) instead of the entire dataset(X)\n",
        "\n",
        "The model can then be evaluated as before"
      ]
    },
    {
      "cell_type": "code",
      "metadata": {
        "id": "unWZdt21oO0N",
        "colab_type": "code",
        "colab": {
          "base_uri": "https://localhost:8080/",
          "height": 34
        },
        "outputId": "4c1b59d3-e6ba-491d-c1a9-328378e68b42"
      },
      "source": [
        "# fit the model\n",
        "model = LogisticRegression()\n",
        "model.fit(X_train, y_train)\n",
        "\n",
        "# evaluate the model\n",
        "yhat = model.predict(X_test)\n",
        "\n",
        "# evaluate predictions\n",
        "accuracy = accuracy_score(y_test, yhat)\n",
        "print('Accuracy: %.3f' % (accuracy*100))"
      ],
      "execution_count": null,
      "outputs": [
        {
          "output_type": "stream",
          "text": [
            "Accuracy: 85.455\n"
          ],
          "name": "stdout"
        }
      ]
    },
    {
      "cell_type": "markdown",
      "metadata": {
        "id": "vLzDYDdBpJAh",
        "colab_type": "text"
      },
      "source": [
        "Inference running the example splits the data into train and test sets, normalizes the data correctly, then fits and evaluates the model\n",
        "\n",
        "In this case, we can see that the estimate for the model is about 85.455%, which is more accurate than the estimate with **data leakage** in the previous section that achieved an accuracy of 84.848%\n",
        "\n",
        "We expect **data leakage** to result in an incorrect estimate of model performance. We would expect this to be an optimistic estimate with **data leakage**, e.g. better performance, although in this case, we can see that **data leakage** resulted in slightly worse performance. This might be because of the difficulty of the prediction task"
      ]
    },
    {
      "cell_type": "markdown",
      "metadata": {
        "id": "U1TIoMTspop-",
        "colab_type": "text"
      },
      "source": [
        "# Data Preparation with k-fold Cross-Validation\n",
        "\n",
        "In this section, we'll evaluate a **logistic regression** model using **k-fold cv** on a synthetic binary classification dataset where the input variables have been normalized\n",
        "\n",
        "You may recall that **k-fold cv** *involves splitting a dataset into k non-overlapping groups of rows. The model is then trained on all but one group to form a training dataset and then evaluated on the held-out fold. This process is repeated so that each fold is given a chance to be used as the holdout test set*\n",
        "\n",
        "> *Finally, the average performance across all evaluations is reported*\n",
        "\n",
        "The k-fold cv procedure generally gives a more reliable estimate of model performance than a train-test split, although it is more computationally expensive given the repeated fitting and evaluation of models\n",
        "\n",
        "Let’s first look at naive data preparation with k-fold cross-validation\n",
        "\n",
        "\n"
      ]
    },
    {
      "cell_type": "markdown",
      "metadata": {
        "id": "LxjjHlr4gb3J",
        "colab_type": "text"
      },
      "source": [
        "### CV Evaluation with NAIVE Data Preparation\n",
        "Naive data preparation with cross-validation involves applying the data transforms first, then using the cv procedure\n",
        "\n",
        "We'll use the synthetic dataset prepared in the previous section and normalize the data directly"
      ]
    },
    {
      "cell_type": "markdown",
      "metadata": {
        "id": "qtgJQzyHaxWZ",
        "colab_type": "text"
      },
      "source": [
        "The k-fold cv procedure must first be defined. We will use repeated stratified 10-fold cv, which is a best practice for classification\n",
        "\n",
        "> Repeated means that the whole cv procedure is repeated multiple times, 3 in this case\n",
        "\n",
        "> Stratified means that each group of samples will have the relative composition of examples from each class as the whole dataset. We will use k=10\n",
        "\n",
        "This can be achieved using the *RepeatedStratifiedKFold* which can be configured to 3 repeats and 10 folds, and then using the *cross_val_score()* function to perform the procedure, passing in the defined model, cv object, and metric to calculate, in this case, accuracy\n",
        "\n",
        "We can then report the average accuracy across all of the repeats and folds"
      ]
    },
    {
      "cell_type": "code",
      "metadata": {
        "id": "a3JMA-ylbSoT",
        "colab_type": "code",
        "colab": {}
      },
      "source": [
        "# naive data preparation for model evaluation with k-fold cv\n",
        "from numpy import mean\n",
        "from numpy import std\n",
        "from sklearn.datasets import make_classification\n",
        "from sklearn.model_selection import cross_val_score\n",
        "from sklearn.model_selection import RepeatedStratifiedKFold\n",
        "from sklearn.preprocessing import MinMaxScaler\n",
        "from sklearn.linear_model import LogisticRegression"
      ],
      "execution_count": null,
      "outputs": []
    },
    {
      "cell_type": "code",
      "metadata": {
        "id": "cNmgsqyfc_QN",
        "colab_type": "code",
        "colab": {}
      },
      "source": [
        "# define dataset\n",
        "X, y = make_classification(n_samples=1000,\n",
        "                    n_features=20,\n",
        "                    n_informative=15,\n",
        "                    n_redundant=5,\n",
        "                    random_state=7)"
      ],
      "execution_count": null,
      "outputs": []
    },
    {
      "cell_type": "code",
      "metadata": {
        "id": "bzaIVGcZdfh6",
        "colab_type": "code",
        "colab": {}
      },
      "source": [
        "# standardize dataset\n",
        "scaler = MinMaxScaler()\n",
        "X = scaler.fit_transform(X)"
      ],
      "execution_count": null,
      "outputs": []
    },
    {
      "cell_type": "code",
      "metadata": {
        "id": "RN15vQ-fd-mJ",
        "colab_type": "code",
        "colab": {}
      },
      "source": [
        "# define model\n",
        "model = LogisticRegression()"
      ],
      "execution_count": null,
      "outputs": []
    },
    {
      "cell_type": "code",
      "metadata": {
        "id": "XcRcZrbxeJNf",
        "colab_type": "code",
        "colab": {}
      },
      "source": [
        "# define evaluation procedure\n",
        "cv = RepeatedStratifiedKFold(n_splits=10,\n",
        "                             n_repeats=3,\n",
        "                             random_state=1)"
      ],
      "execution_count": null,
      "outputs": []
    },
    {
      "cell_type": "code",
      "metadata": {
        "id": "zIJI2l4peiC_",
        "colab_type": "code",
        "colab": {}
      },
      "source": [
        "# evaluate model using cv\n",
        "scores = cross_val_score(model, \n",
        "                        X,\n",
        "                        y,\n",
        "                        scoring='accuracy',\n",
        "                        cv=cv,\n",
        "                        n_jobs=1)"
      ],
      "execution_count": null,
      "outputs": []
    },
    {
      "cell_type": "code",
      "metadata": {
        "id": "i8rLtLb2e4sG",
        "colab_type": "code",
        "colab": {
          "base_uri": "https://localhost:8080/",
          "height": 34
        },
        "outputId": "0f0d956e-9124-4431-98bc-9e9278e9083e"
      },
      "source": [
        "# report performance\n",
        "print('Accuracy: %.3f (%.3f)' % (mean(scores)*100, std(scores)*100))"
      ],
      "execution_count": null,
      "outputs": [
        {
          "output_type": "stream",
          "text": [
            "Accuracy: 85.300 (3.607)\n"
          ],
          "name": "stdout"
        }
      ]
    },
    {
      "cell_type": "markdown",
      "metadata": {
        "id": "9tUP0TBjfzQj",
        "colab_type": "text"
      },
      "source": [
        "Inference, running the example normalizes the data first, then evaluates the model using repeated stratified cv\n",
        "\n",
        "Your specific results may vary given the stochastic nature of the learning algorithm and evaluation procedure\n",
        "\n",
        "> In this case, we can see that the model achieved an estimated accuracy of about 85.300%, which we know is incorrect given the ***data leakage*** allowed via the data preparation procedure\n",
        "\n"
      ]
    },
    {
      "cell_type": "markdown",
      "metadata": {
        "id": "2B4k33PkjMDX",
        "colab_type": "text"
      },
      "source": [
        "### CV Evaluation with CORRECT Data Preparation\n",
        "\n",
        "Data preparation without **data leakage** when using cv is slightly more challenging\n",
        "\n",
        "It requires that the data preparation method is prepared on the training set and applied to the train and test sets within the cv procedure, e.g. the groups of folds of rows\n",
        "\n",
        "> We can achieve this by defining a modeling pipeline that defines a sequence of data preparation steps to perform and ending in the model to fit and evaluate\n",
        "\n",
        "The evaluation procedure changes from simply and incorrectly evaluating just the model to correctly evaluating the entire pipeline of data preparation and model together as a single atomic unit\n",
        "\n",
        "> *This can be achieved using the Pipeline class*\n",
        "\n",
        "This class takes a list of steps that define the pipeline. Each step in the list is a tuple with 2 elements. The first element is the name of the step (a string) and the second is the configured object of the step, such as a transform or a model. The model is only supported as the final step, although we can have as many transforms as we like in the sequence\n",
        "\n"
      ]
    },
    {
      "cell_type": "code",
      "metadata": {
        "id": "mznHmy88fTSd",
        "colab_type": "code",
        "colab": {}
      },
      "source": [
        "# correct data preparation for model evaluation with k-fold cv\n",
        "from numpy import mean\n",
        "from numpy import std\n",
        "from sklearn.datasets import make_classification\n",
        "from sklearn.model_selection import cross_val_score\n",
        "from sklearn.model_selection import RepeatedStratifiedKFold\n",
        "from sklearn.preprocessing import MinMaxScaler\n",
        "from sklearn.linear_model import LogisticRegression\n",
        "from sklearn.pipeline import Pipeline"
      ],
      "execution_count": null,
      "outputs": []
    },
    {
      "cell_type": "code",
      "metadata": {
        "id": "RhQDCYLDlKaQ",
        "colab_type": "code",
        "colab": {}
      },
      "source": [
        "# define dataset\n",
        "X, y = make_classification(n_samples=1000,\n",
        "                           n_features=20,\n",
        "                           n_informative=15,\n",
        "                           n_redundant=5,\n",
        "                           random_state=7)"
      ],
      "execution_count": null,
      "outputs": []
    },
    {
      "cell_type": "code",
      "metadata": {
        "id": "H26AtIqFlVRx",
        "colab_type": "code",
        "colab": {}
      },
      "source": [
        "# define pipeline\n",
        "steps = list()\n",
        "steps.append(('scaler', MinMaxScaler()))\n",
        "steps.append(('model', LogisticRegression()))\n",
        "pipeline = Pipeline(steps=steps)"
      ],
      "execution_count": null,
      "outputs": []
    },
    {
      "cell_type": "code",
      "metadata": {
        "id": "hrexhJUil115",
        "colab_type": "code",
        "colab": {}
      },
      "source": [
        "# define evaluation procedure\n",
        "cv = RepeatedStratifiedKFold(n_splits=10,\n",
        "                             n_repeats=3,\n",
        "                             random_state=1)"
      ],
      "execution_count": null,
      "outputs": []
    },
    {
      "cell_type": "code",
      "metadata": {
        "id": "wwFHJvqfmFnk",
        "colab_type": "code",
        "colab": {}
      },
      "source": [
        "# evaluate model using cv\n",
        "scores = cross_val_score(pipeline,\n",
        "                         X,\n",
        "                         y,\n",
        "                         scoring='accuracy',\n",
        "                         cv=cv,\n",
        "                         n_jobs=1)"
      ],
      "execution_count": null,
      "outputs": []
    },
    {
      "cell_type": "code",
      "metadata": {
        "id": "ziDSroTrmbgV",
        "colab_type": "code",
        "colab": {
          "base_uri": "https://localhost:8080/",
          "height": 34
        },
        "outputId": "f000750f-f1c2-4ec0-e2b7-6fd421e45493"
      },
      "source": [
        "# report performance\n",
        "print('Accuracy: %.3f (%.3f)' % (mean(scores)*100, std(scores)*100))"
      ],
      "execution_count": null,
      "outputs": [
        {
          "output_type": "stream",
          "text": [
            "Accuracy: 85.433 (3.471)\n"
          ],
          "name": "stdout"
        }
      ]
    },
    {
      "cell_type": "markdown",
      "metadata": {
        "id": "ZTnMCJKOmo41",
        "colab_type": "text"
      },
      "source": [
        "Inference, running the example normalizes the data correctly within the cv folds of the evaluation procedure to **avoid data leakage**\n",
        "\n",
        "Your specific results may vary given the stochastic nature of the learning algorithm and evaluation procedure\n",
        "\n",
        "> In this case, we can see that the model has an estimated accuracy of about 85.433%, compared to the approach with data leakage that achieved an accuracy of about 85.300%\n",
        "\n",
        "As with the train-test example in the previous section, removing data leakage has resulted in a slight improvement in performance when our intuition might suggest a drop given that data leakage often results in an optimistic estimate of model performance. Nevertheless, the examples clearly demonstrate that data leakage does impact the estimate of model performance and how to correct data leakage by correctly performing data preparation after the data is split"
      ]
    },
    {
      "cell_type": "markdown",
      "metadata": {
        "id": "YL7Qbz3MnL7l",
        "colab_type": "text"
      },
      "source": [
        "# Conclusion\n",
        "\n",
        "1. A Naive application of data preparation methods to the whole dataset results in **data leakage** that causes incorrect estimates of model performance\n",
        "2. Data preparation must be prepared on the **training set only** in order to avoid **data leakage**\n",
        "3. How to implement data preparation without **data leakage** for train-test splits and k-fold cv in python\n"
      ]
    }
  ]
}