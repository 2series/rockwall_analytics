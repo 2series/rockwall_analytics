{
  "nbformat": 4,
  "nbformat_minor": 0,
  "metadata": {
    "colab": {
      "name": "successAtStartup_s3.ipynb",
      "provenance": [],
      "collapsed_sections": [],
      "authorship_tag": "ABX9TyOqe3T+tIejgDrNBw5TFF1o"
    },
    "kernelspec": {
      "name": "python3",
      "display_name": "Python 3"
    }
  },
  "cells": [
    {
      "cell_type": "markdown",
      "metadata": {
        "id": "DoVkHidY-3oP",
        "colab_type": "text"
      },
      "source": [
        "# BUILDING SUCCESS AT A STARTUP\n",
        "## June 19, 2020 \n",
        "## About RIHAD VARIAWA\n",
        "> As a Data Scientist and former head of global fintech research at Malastare.ai, I find fulfillment tacking challenges to solve complex problems using data\n",
        "\n",
        "*Here are 6 tips that will help data scientists and other data professionals succeed if they have the opportunity to work at a startup*\n",
        "\n",
        "![](https://media.giphy.com/media/f9TAtXbHefameh2gZE/giphy.gif)\n",
        "\n",
        "Whether a data scientist is just beginning her professional career, or she is already a seasoned professional, working at a **startup** offers a number of advantages. Most startups are more hands-on, and usually most employees are involved in many aspects of the company. This offers a great opportunity for involvement and the expansion of skill sets\n",
        "\n",
        "At a larger company, one team might be responsible for R&D while another team is responsible for Quality Assurance. At a **startup**, the same team might be responsible for all aspects of research, development, and testing. As such, **startup** professionals are exposed to a wider array of experiences because they see the big picture and quickly gain the tools needed to become team leaders\n",
        "\n",
        "If a data scientist gets the opportunity to work at a startup, here are six tips that will help her and other data professionals succeed: \n",
        "\n",
        "1. **Study the Notebooks**\n",
        " \n",
        "As a team player, a data scientist should review notebooks not only when called for a *Code Review*, but should also read all of the team’s notebooks and side notebooks (including ones who might have a differing focus). This ensures one gains the fullest understanding of the entire process and how research is evolving. Data scientists make a myriad of decisions every day that they’re not even aware of. Studying notebooks allows players to reap the benefits of code review done by others at the startup\n",
        "\n",
        "The benefits are twofold:\n",
        "\n",
        "+ Tips, tricks, and hacks are nuggets of gold a data scientist can mine when studying the code review of her co-workers, thereby increasing her own productivity and enhancing her skill sets\n",
        "+ Notebooks can reveal information that didn’t come up during standard code review or in meetings, challenging previous assumptions and shedding light on what next steps might be.\n",
        " \n",
        "2. **Check in with Teammates**\n",
        " \n",
        "By actively checking in with the team, a data scientist will not only have one's finger on the pulse of what others are working on, (s)he will find out how they can contribute in a meaningful and valuable way\n",
        "\n",
        "+ Be a sounding board for others. Embrace becoming a rubber duck\n",
        "+ Inquire about the challenges other team members are facing and offer to help if you are able\n",
        "+ Get familiar with new tools, approaches, and problem-solving methods\n",
        " \n",
        "3. **Embrace The DIY Spirit**\n",
        " \n",
        "Embracing the *do-it-yourself* ethos of a *startup* gives a data scientist the opportunity to develop software tools that in a larger company would be developed by separate engineering teams. This not only grows one’s skill set, it also makes one more self-sufficient, enabling one to troubleshoot and fix problems independently\n",
        "\n",
        "4. **Take a Holistic Approach**\n",
        " \n",
        "At a smaller startup, each player of the team is a valuable part of a larger ecosystem working in harmony to create a product or service. This translates into the opportunity to be involved in and understand the reasoning behind every aspect of a company’s mission\n",
        "\n",
        "5. **UI Through a User’s Eyes**\n",
        " \n",
        "Understanding the user’s interface is just as important as understanding the flow and the system’s stakeholders. When addressing a hypothesis, build an internal tool, train a model, a data scientist must consider:\n",
        "\n",
        "+ Who is using this model’s output?\n",
        "+ What does her/his usage look like?\n",
        "+ What is the impact of this intelligence task?\n",
        "\n",
        "A Data Scientist can better understand what works with UI by seeking out user feedback, if it is available at the *startup* (s)he is working at. Sometimes users might already know what works and what doesn’t so by listening to them it can help one decide what features to focus on developing. It’s also important to get feedback from teammates about possible blind spots, as their perspective will be different, and their vantage points will uncover oversights\n",
        "\n",
        "By taking full responsibility for what a data scientist creates, (s)he can gain valuable insights offered by users and others on the team to good use\n",
        "\n",
        "6. **A Pull Request is Just the Beginning**\n",
        " \n",
        "At a larger company, after testing a Pull Request, a data scientist job ends. At a *startup*, the same data scientist would go one step further and examine how the model is performing live and how insights are being implemented. Data scientists at startups must also pay attention to the live monitors and the logs, checking a few of them to spot any irregularities in the first few minutes/hours/days   \n",
        "\n",
        "## Conclusion\n",
        "As these 6 tips demonstrate, success at a startup requires a greater level of adaptability, a willingness to improvise, and ability to pivot when needed. It also requires the desire to be a part of a tight knit team and see a product/service through every stage of development. Though the risk might be high, **the reward can be great**\n",
        "\n",
        "![](https://drive.google.com/uc?export=view&id=1i7fzIUxz-oEs8V4uMdoZCQUl51NMrbVz)\n"
      ]
    }
  ]
}