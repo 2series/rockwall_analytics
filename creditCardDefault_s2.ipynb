{
  "nbformat": 4,
  "nbformat_minor": 0,
  "metadata": {
    "colab": {
      "name": "creditCardDefault_09_05_220.ipynb",
      "provenance": [],
      "collapsed_sections": [],
      "authorship_tag": "ABX9TyPD6MOwXf5QtB3bzPLC2smb",
      "include_colab_link": true
    },
    "kernelspec": {
      "name": "python3",
      "display_name": "Python 3"
    }
  },
  "cells": [
    {
      "cell_type": "markdown",
      "metadata": {
        "id": "view-in-github",
        "colab_type": "text"
      },
      "source": [
        "<a href=\"https://colab.research.google.com/github/2series/self_analysis/blob/master/creditCardDefault_09_05_220.ipynb\" target=\"_parent\"><img src=\"https://colab.research.google.com/assets/colab-badge.svg\" alt=\"Open In Colab\"/></a>"
      ]
    },
    {
      "cell_type": "markdown",
      "metadata": {
        "id": "kM_8yCkU_t1e",
        "colab_type": "text"
      },
      "source": [
        "# Credit Card Default Prediction\n",
        "## Intro to h2o's GLM using lending club loan data\n"
      ]
    },
    {
      "cell_type": "code",
      "metadata": {
        "id": "5y4aa2G5_7rs",
        "colab_type": "code",
        "outputId": "d6d554ac-d68f-498f-e3a1-585656a20b29",
        "colab": {
          "base_uri": "https://localhost:8080/",
          "height": 168
        }
      },
      "source": [
        "# dependencies\n",
        "!pip install requests\n",
        "!pip install tabulate\n",
        "!pip install \"colorama>=0.3.8\"\n",
        "!pip install future"
      ],
      "execution_count": 2,
      "outputs": [
        {
          "output_type": "stream",
          "text": [
            "Requirement already satisfied: requests in /usr/local/lib/python3.6/dist-packages (2.23.0)\n",
            "Requirement already satisfied: certifi>=2017.4.17 in /usr/local/lib/python3.6/dist-packages (from requests) (2020.4.5.1)\n",
            "Requirement already satisfied: chardet<4,>=3.0.2 in /usr/local/lib/python3.6/dist-packages (from requests) (3.0.4)\n",
            "Requirement already satisfied: urllib3!=1.25.0,!=1.25.1,<1.26,>=1.21.1 in /usr/local/lib/python3.6/dist-packages (from requests) (1.24.3)\n",
            "Requirement already satisfied: idna<3,>=2.5 in /usr/local/lib/python3.6/dist-packages (from requests) (2.9)\n",
            "Requirement already satisfied: tabulate in /usr/local/lib/python3.6/dist-packages (0.8.7)\n",
            "Requirement already satisfied: colorama>=0.3.8 in /usr/local/lib/python3.6/dist-packages (0.4.3)\n",
            "Requirement already satisfied: future in /usr/local/lib/python3.6/dist-packages (0.16.0)\n"
          ],
          "name": "stdout"
        }
      ]
    },
    {
      "cell_type": "code",
      "metadata": {
        "id": "CBCsmPAP_7i-",
        "colab_type": "code",
        "outputId": "db64c004-3375-48cd-d4f6-d0dd2b826399",
        "colab": {
          "base_uri": "https://localhost:8080/",
          "height": 185
        }
      },
      "source": [
        "!pip install h2o"
      ],
      "execution_count": 3,
      "outputs": [
        {
          "output_type": "stream",
          "text": [
            "Requirement already satisfied: h2o in /usr/local/lib/python3.6/dist-packages (3.30.0.2)\n",
            "Requirement already satisfied: requests in /usr/local/lib/python3.6/dist-packages (from h2o) (2.23.0)\n",
            "Requirement already satisfied: colorama>=0.3.8 in /usr/local/lib/python3.6/dist-packages (from h2o) (0.4.3)\n",
            "Requirement already satisfied: tabulate in /usr/local/lib/python3.6/dist-packages (from h2o) (0.8.7)\n",
            "Requirement already satisfied: future in /usr/local/lib/python3.6/dist-packages (from h2o) (0.16.0)\n",
            "Requirement already satisfied: chardet<4,>=3.0.2 in /usr/local/lib/python3.6/dist-packages (from requests->h2o) (3.0.4)\n",
            "Requirement already satisfied: urllib3!=1.25.0,!=1.25.1,<1.26,>=1.21.1 in /usr/local/lib/python3.6/dist-packages (from requests->h2o) (1.24.3)\n",
            "Requirement already satisfied: idna<3,>=2.5 in /usr/local/lib/python3.6/dist-packages (from requests->h2o) (2.9)\n",
            "Requirement already satisfied: certifi>=2017.4.17 in /usr/local/lib/python3.6/dist-packages (from requests->h2o) (2020.4.5.1)\n"
          ],
          "name": "stdout"
        }
      ]
    },
    {
      "cell_type": "code",
      "metadata": {
        "id": "vkdMXJeH_7eI",
        "colab_type": "code",
        "outputId": "0767e07b-42e3-497b-98ab-4a75bb7379b4",
        "colab": {
          "base_uri": "https://localhost:8080/",
          "height": 491
        }
      },
      "source": [
        "import h2o # h2o python module\n",
        "from h2o.automl import H2OAutoML\n",
        "h2o.init(max_mem_size='16G') # starting + connecting to h2o cluster"
      ],
      "execution_count": 4,
      "outputs": [
        {
          "output_type": "stream",
          "text": [
            "Checking whether there is an H2O instance running at http://localhost:54321 ..... not found.\n",
            "Attempting to start a local H2O server...\n",
            "  Java Version: openjdk version \"11.0.7\" 2020-04-14; OpenJDK Runtime Environment (build 11.0.7+10-post-Ubuntu-2ubuntu218.04); OpenJDK 64-Bit Server VM (build 11.0.7+10-post-Ubuntu-2ubuntu218.04, mixed mode, sharing)\n",
            "  Starting server from /usr/local/lib/python3.6/dist-packages/h2o/backend/bin/h2o.jar\n",
            "  Ice root: /tmp/tmpm_59j9pa\n",
            "  JVM stdout: /tmp/tmpm_59j9pa/h2o_unknownUser_started_from_python.out\n",
            "  JVM stderr: /tmp/tmpm_59j9pa/h2o_unknownUser_started_from_python.err\n",
            "  Server is running at http://127.0.0.1:54321\n",
            "Connecting to H2O server at http://127.0.0.1:54321 ... successful.\n"
          ],
          "name": "stdout"
        },
        {
          "output_type": "display_data",
          "data": {
            "text/html": [
              "<div style=\"overflow:auto\"><table style=\"width:50%\"><tr><td>H2O_cluster_uptime:</td>\n",
              "<td>02 secs</td></tr>\n",
              "<tr><td>H2O_cluster_timezone:</td>\n",
              "<td>Etc/UTC</td></tr>\n",
              "<tr><td>H2O_data_parsing_timezone:</td>\n",
              "<td>UTC</td></tr>\n",
              "<tr><td>H2O_cluster_version:</td>\n",
              "<td>3.30.0.2</td></tr>\n",
              "<tr><td>H2O_cluster_version_age:</td>\n",
              "<td>14 days, 8 hours and 37 minutes </td></tr>\n",
              "<tr><td>H2O_cluster_name:</td>\n",
              "<td>H2O_from_python_unknownUser_8edepb</td></tr>\n",
              "<tr><td>H2O_cluster_total_nodes:</td>\n",
              "<td>1</td></tr>\n",
              "<tr><td>H2O_cluster_free_memory:</td>\n",
              "<td>16 Gb</td></tr>\n",
              "<tr><td>H2O_cluster_total_cores:</td>\n",
              "<td>2</td></tr>\n",
              "<tr><td>H2O_cluster_allowed_cores:</td>\n",
              "<td>2</td></tr>\n",
              "<tr><td>H2O_cluster_status:</td>\n",
              "<td>accepting new members, healthy</td></tr>\n",
              "<tr><td>H2O_connection_url:</td>\n",
              "<td>http://127.0.0.1:54321</td></tr>\n",
              "<tr><td>H2O_connection_proxy:</td>\n",
              "<td>{\"http\": null, \"https\": null}</td></tr>\n",
              "<tr><td>H2O_internal_security:</td>\n",
              "<td>False</td></tr>\n",
              "<tr><td>H2O_API_Extensions:</td>\n",
              "<td>Amazon S3, XGBoost, Algos, AutoML, Core V3, TargetEncoder, Core V4</td></tr>\n",
              "<tr><td>Python_version:</td>\n",
              "<td>3.6.9 final</td></tr></table></div>"
            ],
            "text/plain": [
              "--------------------------  ------------------------------------------------------------------\n",
              "H2O_cluster_uptime:         02 secs\n",
              "H2O_cluster_timezone:       Etc/UTC\n",
              "H2O_data_parsing_timezone:  UTC\n",
              "H2O_cluster_version:        3.30.0.2\n",
              "H2O_cluster_version_age:    14 days, 8 hours and 37 minutes\n",
              "H2O_cluster_name:           H2O_from_python_unknownUser_8edepb\n",
              "H2O_cluster_total_nodes:    1\n",
              "H2O_cluster_free_memory:    16 Gb\n",
              "H2O_cluster_total_cores:    2\n",
              "H2O_cluster_allowed_cores:  2\n",
              "H2O_cluster_status:         accepting new members, healthy\n",
              "H2O_connection_url:         http://127.0.0.1:54321\n",
              "H2O_connection_proxy:       {\"http\": null, \"https\": null}\n",
              "H2O_internal_security:      False\n",
              "H2O_API_Extensions:         Amazon S3, XGBoost, Algos, AutoML, Core V3, TargetEncoder, Core V4\n",
              "Python_version:             3.6.9 final\n",
              "--------------------------  ------------------------------------------------------------------"
            ]
          },
          "metadata": {
            "tags": []
          }
        }
      ]
    },
    {
      "cell_type": "markdown",
      "metadata": {
        "id": "oovXn45kBmhh",
        "colab_type": "text"
      },
      "source": [
        "## Data in H2O\n",
        "###Data Import\n",
        "\n",
        "The most common function for loading data into an H2O cluster is to use the import_file on files that are visible to the cluster using either a server-side file system path, HDFS path, S3, or a URL. If the data files are local to the Python client, the upload_file function uploads files based upon a local path to the H2O cluster\n",
        "\n",
        "This exploration of H2O will use a version of the Lending Club Loan Data that can be found on Kaggle. This data consists of 15 variables:\n",
        "\n",
        "+ **loan_amnt**: Requested loan amount (US dollars)\n",
        "+ **term**: Loan term length (months)\n",
        "+ **int_rate**: Recommended interest rate\n",
        "+ **emp_length**: Employment length (years)\n",
        "+ **home_ownership**: Housing status\n",
        "+ **annual_inc**: Annual income (US dollars)\n",
        "+ **purpose**: Purpose for the loan\n",
        "+ **addr_state**: State of residence\n",
        "+ **dti**: Debt to income ratio\n",
        "+ **delinq_2yrs**: Number of delinquencies in the past 2 years\n",
        "+ **revol_util**: Percent of revolving credit line utilized\n",
        "+ **total_acc**: Number of active accounts\n",
        "+ **bad_loan**: Bad loan indicator\n",
        "+ **longest_credit_length**: Age of oldest active account\n",
        "+ **verification_status**: Income verification status"
      ]
    },
    {
      "cell_type": "code",
      "metadata": {
        "id": "aFN-mauo_g8Q",
        "colab_type": "code",
        "outputId": "820a6460-f6f0-4155-f28f-38c321981fb0",
        "colab": {
          "base_uri": "https://localhost:8080/",
          "height": 33
        }
      },
      "source": [
        "# load data\n",
        "train_path = 'https://raw.githubusercontent.com/h2oai/app-consumer-loan/master/data/loan.csv'\n",
        "\n",
        "train = h2o.import_file(train_path, destination_frame='loan_train')"
      ],
      "execution_count": 5,
      "outputs": [
        {
          "output_type": "stream",
          "text": [
            "Parse progress: |█████████████████████████████████████████████████████████| 100%\n"
          ],
          "name": "stdout"
        }
      ]
    },
    {
      "cell_type": "code",
      "metadata": {
        "id": "Xax3RiSmEx-e",
        "colab_type": "code",
        "outputId": "78a769fc-7461-4d18-b385-02e3efcd0fc8",
        "colab": {
          "base_uri": "https://localhost:8080/",
          "height": 401
        }
      },
      "source": [
        "train.head()"
      ],
      "execution_count": 6,
      "outputs": [
        {
          "output_type": "display_data",
          "data": {
            "text/html": [
              "<table>\n",
              "<thead>\n",
              "<tr><th style=\"text-align: right;\">  loan_amnt</th><th>term     </th><th style=\"text-align: right;\">  int_rate</th><th style=\"text-align: right;\">  emp_length</th><th>home_ownership  </th><th style=\"text-align: right;\">  annual_inc</th><th>purpose           </th><th>addr_state  </th><th style=\"text-align: right;\">  dti</th><th style=\"text-align: right;\">  delinq_2yrs</th><th style=\"text-align: right;\">  revol_util</th><th style=\"text-align: right;\">  total_acc</th><th style=\"text-align: right;\">  bad_loan</th><th style=\"text-align: right;\">  longest_credit_length</th><th>verification_status  </th></tr>\n",
              "</thead>\n",
              "<tbody>\n",
              "<tr><td style=\"text-align: right;\">       5000</td><td>36 months</td><td style=\"text-align: right;\">     10.65</td><td style=\"text-align: right;\">          10</td><td>RENT            </td><td style=\"text-align: right;\">       24000</td><td>credit_card       </td><td>AZ          </td><td style=\"text-align: right;\">27.65</td><td style=\"text-align: right;\">            0</td><td style=\"text-align: right;\">        83.7</td><td style=\"text-align: right;\">          9</td><td style=\"text-align: right;\">         0</td><td style=\"text-align: right;\">                     26</td><td>verified             </td></tr>\n",
              "<tr><td style=\"text-align: right;\">       2500</td><td>60 months</td><td style=\"text-align: right;\">     15.27</td><td style=\"text-align: right;\">           0</td><td>RENT            </td><td style=\"text-align: right;\">       30000</td><td>car               </td><td>GA          </td><td style=\"text-align: right;\"> 1   </td><td style=\"text-align: right;\">            0</td><td style=\"text-align: right;\">         9.4</td><td style=\"text-align: right;\">          4</td><td style=\"text-align: right;\">         1</td><td style=\"text-align: right;\">                     12</td><td>verified             </td></tr>\n",
              "<tr><td style=\"text-align: right;\">       2400</td><td>36 months</td><td style=\"text-align: right;\">     15.96</td><td style=\"text-align: right;\">          10</td><td>RENT            </td><td style=\"text-align: right;\">       12252</td><td>small_business    </td><td>IL          </td><td style=\"text-align: right;\"> 8.72</td><td style=\"text-align: right;\">            0</td><td style=\"text-align: right;\">        98.5</td><td style=\"text-align: right;\">         10</td><td style=\"text-align: right;\">         0</td><td style=\"text-align: right;\">                     10</td><td>not verified         </td></tr>\n",
              "<tr><td style=\"text-align: right;\">      10000</td><td>36 months</td><td style=\"text-align: right;\">     13.49</td><td style=\"text-align: right;\">          10</td><td>RENT            </td><td style=\"text-align: right;\">       49200</td><td>other             </td><td>CA          </td><td style=\"text-align: right;\">20   </td><td style=\"text-align: right;\">            0</td><td style=\"text-align: right;\">        21  </td><td style=\"text-align: right;\">         37</td><td style=\"text-align: right;\">         0</td><td style=\"text-align: right;\">                     15</td><td>verified             </td></tr>\n",
              "<tr><td style=\"text-align: right;\">       5000</td><td>36 months</td><td style=\"text-align: right;\">      7.9 </td><td style=\"text-align: right;\">           3</td><td>RENT            </td><td style=\"text-align: right;\">       36000</td><td>wedding           </td><td>AZ          </td><td style=\"text-align: right;\">11.2 </td><td style=\"text-align: right;\">            0</td><td style=\"text-align: right;\">        28.3</td><td style=\"text-align: right;\">         12</td><td style=\"text-align: right;\">         0</td><td style=\"text-align: right;\">                      7</td><td>verified             </td></tr>\n",
              "<tr><td style=\"text-align: right;\">       3000</td><td>36 months</td><td style=\"text-align: right;\">     18.64</td><td style=\"text-align: right;\">           9</td><td>RENT            </td><td style=\"text-align: right;\">       48000</td><td>car               </td><td>CA          </td><td style=\"text-align: right;\"> 5.35</td><td style=\"text-align: right;\">            0</td><td style=\"text-align: right;\">        87.5</td><td style=\"text-align: right;\">          4</td><td style=\"text-align: right;\">         0</td><td style=\"text-align: right;\">                      4</td><td>verified             </td></tr>\n",
              "<tr><td style=\"text-align: right;\">       5600</td><td>60 months</td><td style=\"text-align: right;\">     21.28</td><td style=\"text-align: right;\">           4</td><td>OWN             </td><td style=\"text-align: right;\">       40000</td><td>small_business    </td><td>CA          </td><td style=\"text-align: right;\"> 5.55</td><td style=\"text-align: right;\">            0</td><td style=\"text-align: right;\">        32.6</td><td style=\"text-align: right;\">         13</td><td style=\"text-align: right;\">         1</td><td style=\"text-align: right;\">                      7</td><td>verified             </td></tr>\n",
              "<tr><td style=\"text-align: right;\">       5375</td><td>60 months</td><td style=\"text-align: right;\">     12.69</td><td style=\"text-align: right;\">           0</td><td>RENT            </td><td style=\"text-align: right;\">       15000</td><td>other             </td><td>TX          </td><td style=\"text-align: right;\">18.08</td><td style=\"text-align: right;\">            0</td><td style=\"text-align: right;\">        36.5</td><td style=\"text-align: right;\">          3</td><td style=\"text-align: right;\">         1</td><td style=\"text-align: right;\">                      7</td><td>verified             </td></tr>\n",
              "<tr><td style=\"text-align: right;\">       6500</td><td>60 months</td><td style=\"text-align: right;\">     14.65</td><td style=\"text-align: right;\">           5</td><td>OWN             </td><td style=\"text-align: right;\">       72000</td><td>debt_consolidation</td><td>AZ          </td><td style=\"text-align: right;\">16.12</td><td style=\"text-align: right;\">            0</td><td style=\"text-align: right;\">        20.6</td><td style=\"text-align: right;\">         23</td><td style=\"text-align: right;\">         0</td><td style=\"text-align: right;\">                     13</td><td>not verified         </td></tr>\n",
              "<tr><td style=\"text-align: right;\">      12000</td><td>36 months</td><td style=\"text-align: right;\">     12.69</td><td style=\"text-align: right;\">          10</td><td>OWN             </td><td style=\"text-align: right;\">       75000</td><td>debt_consolidation</td><td>CA          </td><td style=\"text-align: right;\">10.78</td><td style=\"text-align: right;\">            0</td><td style=\"text-align: right;\">        67.1</td><td style=\"text-align: right;\">         34</td><td style=\"text-align: right;\">         0</td><td style=\"text-align: right;\">                     22</td><td>verified             </td></tr>\n",
              "</tbody>\n",
              "</table>"
            ]
          },
          "metadata": {
            "tags": []
          }
        },
        {
          "output_type": "execute_result",
          "data": {
            "text/plain": [
              ""
            ]
          },
          "metadata": {
            "tags": []
          },
          "execution_count": 6
        }
      ]
    },
    {
      "cell_type": "code",
      "metadata": {
        "id": "VAkJoPRuGqhM",
        "colab_type": "code",
        "outputId": "456e5e2a-bfee-4527-cd1d-57b3cb643bd8",
        "colab": {
          "base_uri": "https://localhost:8080/",
          "height": 33
        }
      },
      "source": [
        "train.shape"
      ],
      "execution_count": 7,
      "outputs": [
        {
          "output_type": "execute_result",
          "data": {
            "text/plain": [
              "(163987, 15)"
            ]
          },
          "metadata": {
            "tags": []
          },
          "execution_count": 7
        }
      ]
    },
    {
      "cell_type": "code",
      "metadata": {
        "id": "fUccxuhHChfo",
        "colab_type": "code",
        "outputId": "6ec1ce89-6afe-4717-ff88-660b9c19ef28",
        "colab": {
          "base_uri": "https://localhost:8080/",
          "height": 33
        }
      },
      "source": [
        "# data object\n",
        "type(train)"
      ],
      "execution_count": 8,
      "outputs": [
        {
          "output_type": "execute_result",
          "data": {
            "text/plain": [
              "h2o.frame.H2OFrame"
            ]
          },
          "metadata": {
            "tags": []
          },
          "execution_count": 8
        }
      ]
    },
    {
      "cell_type": "code",
      "metadata": {
        "id": "RiGg7S7-DJG9",
        "colab_type": "code",
        "colab": {}
      },
      "source": [
        "# help on the class H2OFrame in module h2o.frame\n",
        "#help(h2o.H2OFrame)"
      ],
      "execution_count": 0,
      "outputs": []
    },
    {
      "cell_type": "code",
      "metadata": {
        "id": "5miK807PDu5L",
        "colab_type": "code",
        "outputId": "fdb7fed5-c999-4bb6-f362-bbf1604cb80e",
        "colab": {
          "base_uri": "https://localhost:8080/",
          "height": 264
        }
      },
      "source": [
        "# feature names\n",
        "train.col_names"
      ],
      "execution_count": 10,
      "outputs": [
        {
          "output_type": "execute_result",
          "data": {
            "text/plain": [
              "['loan_amnt',\n",
              " 'term',\n",
              " 'int_rate',\n",
              " 'emp_length',\n",
              " 'home_ownership',\n",
              " 'annual_inc',\n",
              " 'purpose',\n",
              " 'addr_state',\n",
              " 'dti',\n",
              " 'delinq_2yrs',\n",
              " 'revol_util',\n",
              " 'total_acc',\n",
              " 'bad_loan',\n",
              " 'longest_credit_length',\n",
              " 'verification_status']"
            ]
          },
          "metadata": {
            "tags": []
          },
          "execution_count": 10
        }
      ]
    },
    {
      "cell_type": "code",
      "metadata": {
        "id": "x0o4hkMdEGTo",
        "colab_type": "code",
        "outputId": "29bf45ba-5e95-4657-9ea4-0e18a6dbeb7b",
        "colab": {
          "base_uri": "https://localhost:8080/",
          "height": 264
        }
      },
      "source": [
        "# features and data types\n",
        "train.types"
      ],
      "execution_count": 11,
      "outputs": [
        {
          "output_type": "execute_result",
          "data": {
            "text/plain": [
              "{'addr_state': 'enum',\n",
              " 'annual_inc': 'real',\n",
              " 'bad_loan': 'int',\n",
              " 'delinq_2yrs': 'int',\n",
              " 'dti': 'real',\n",
              " 'emp_length': 'int',\n",
              " 'home_ownership': 'enum',\n",
              " 'int_rate': 'real',\n",
              " 'loan_amnt': 'int',\n",
              " 'longest_credit_length': 'int',\n",
              " 'purpose': 'enum',\n",
              " 'revol_util': 'real',\n",
              " 'term': 'enum',\n",
              " 'total_acc': 'int',\n",
              " 'verification_status': 'enum'}"
            ]
          },
          "metadata": {
            "tags": []
          },
          "execution_count": 11
        }
      ]
    },
    {
      "cell_type": "markdown",
      "metadata": {
        "id": "YHm5P310FGkb",
        "colab_type": "text"
      },
      "source": [
        "## Response variable 'bad_loan' is intergy dtype"
      ]
    },
    {
      "cell_type": "code",
      "metadata": {
        "id": "mtcK9aTXETIt",
        "colab_type": "code",
        "outputId": "c15e492f-93b1-4802-c420-c27b6145bbf8",
        "colab": {
          "base_uri": "https://localhost:8080/",
          "height": 33
        }
      },
      "source": [
        "print(train.frame_id)"
      ],
      "execution_count": 12,
      "outputs": [
        {
          "output_type": "stream",
          "text": [
            "loan_train\n"
          ],
          "name": "stdout"
        }
      ]
    },
    {
      "cell_type": "code",
      "metadata": {
        "id": "AwUljKGSEqFZ",
        "colab_type": "code",
        "colab": {}
      },
      "source": [
        "train['bad_loan'] = train['bad_loan'].asfactor()"
      ],
      "execution_count": 0,
      "outputs": []
    },
    {
      "cell_type": "code",
      "metadata": {
        "id": "KtHihIGhFgRV",
        "colab_type": "code",
        "outputId": "52103b2b-365f-4b30-cd6f-081b23af0950",
        "colab": {
          "base_uri": "https://localhost:8080/",
          "height": 33
        }
      },
      "source": [
        "print(train.frame_id)"
      ],
      "execution_count": 14,
      "outputs": [
        {
          "output_type": "stream",
          "text": [
            "py_2_sid_9199\n"
          ],
          "name": "stdout"
        }
      ]
    },
    {
      "cell_type": "markdown",
      "metadata": {
        "id": "8xLNWh3eFwHE",
        "colab_type": "text"
      },
      "source": [
        "## EDA of response variable\n",
        "\n",
        "### A Quick Look at the Target Variable\n",
        "We will begin our exploration with a quick look at the frequency of **bad_loan** status in the data using H2OFrame's table method. Since the table method returns an H2OFrame, it is converted to a pandas DataFrame using the as_data_frame method. The bad_loan rate for customers in this dataset is roughly 18%"
      ]
    },
    {
      "cell_type": "code",
      "metadata": {
        "id": "38FNab4ZFj1a",
        "colab_type": "code",
        "outputId": "80572ec5-1bb0-44bd-e17c-fc80c811984f",
        "colab": {
          "base_uri": "https://localhost:8080/",
          "height": 99
        }
      },
      "source": [
        "tbl = train[\"bad_loan\"].table()\n",
        "tbl = tbl.as_data_frame()\n",
        "\n",
        "print(tbl)\n",
        "print(\"\\nFraction of bad_loan = {:0.4f}\".format(tbl[tbl[\"bad_loan\"] == 1][\"Count\"].values[0] / tbl[\"Count\"].sum()))"
      ],
      "execution_count": 15,
      "outputs": [
        {
          "output_type": "stream",
          "text": [
            "   bad_loan   Count\n",
            "0         0  133971\n",
            "1         1   30016\n",
            "\n",
            "Fraction of bad_loan = 0.1830\n"
          ],
          "name": "stdout"
        }
      ]
    },
    {
      "cell_type": "markdown",
      "metadata": {
        "id": "WTp13L3tGRDu",
        "colab_type": "text"
      },
      "source": [
        "# O = good_loan, 1 = bad_loan\n",
        "\n",
        "### A Quick Look at the Predictor Variables\n",
        "In preparation for our modeling bad_loan, we can turn to H2OFrame's describe method to provide summary statistics for each of the features in the dataset, which includes minimums, maximums, means, and standard deviations\n",
        "\n",
        "Given the nature of this data, it will also be useful to explore the skewness and shape of the numeric data, columns_by_type(\"numeric\"), using H2OFrame's skewness and kurtosis methods. These aspects of the data are shown graphically using H2OFrame's hist method to produce histograms for numeric columns\n",
        "\n",
        "As the summaries below show, most of the numeric features contain skewed data that we will address during **feature engineering**\n"
      ]
    },
    {
      "cell_type": "code",
      "metadata": {
        "id": "JOUY1hBlFpXA",
        "colab_type": "code",
        "outputId": "db16a19b-9604-40e1-d61a-1ace5ed0f7fe",
        "colab": {
          "base_uri": "https://localhost:8080/",
          "height": 593
        }
      },
      "source": [
        "train.describe()"
      ],
      "execution_count": 16,
      "outputs": [
        {
          "output_type": "stream",
          "text": [
            "Rows:163987\n",
            "Cols:15\n",
            "\n",
            "\n"
          ],
          "name": "stdout"
        },
        {
          "output_type": "display_data",
          "data": {
            "text/html": [
              "<table>\n",
              "<thead>\n",
              "<tr><th>       </th><th>loan_amnt         </th><th>term     </th><th>int_rate          </th><th>emp_length        </th><th>home_ownership  </th><th>annual_inc        </th><th>purpose           </th><th>addr_state  </th><th>dti               </th><th>delinq_2yrs       </th><th>revol_util        </th><th>total_acc         </th><th>bad_loan  </th><th>longest_credit_length  </th><th>verification_status  </th></tr>\n",
              "</thead>\n",
              "<tbody>\n",
              "<tr><td>type   </td><td>int               </td><td>enum     </td><td>real              </td><td>int               </td><td>enum            </td><td>real              </td><td>enum              </td><td>enum        </td><td>real              </td><td>int               </td><td>real              </td><td>int               </td><td>enum      </td><td>int                    </td><td>enum                 </td></tr>\n",
              "<tr><td>mins   </td><td>500.0             </td><td>         </td><td>5.42              </td><td>0.0               </td><td>                </td><td>1896.0            </td><td>                  </td><td>            </td><td>0.0               </td><td>0.0               </td><td>0.0               </td><td>1.0               </td><td>          </td><td>0.0                    </td><td>                     </td></tr>\n",
              "<tr><td>mean   </td><td>13074.169141456343</td><td>         </td><td>13.715904065566196</td><td>5.684352932995332 </td><td>                </td><td>71915.67051974912 </td><td>                  </td><td>            </td><td>15.881530121290096</td><td>0.2273570060625282</td><td>54.07917280242263 </td><td>24.579733834274666</td><td>          </td><td>14.854273655448347     </td><td>                     </td></tr>\n",
              "<tr><td>maxs   </td><td>35000.0           </td><td>         </td><td>26.06             </td><td>10.0              </td><td>                </td><td>7141778.0         </td><td>                  </td><td>            </td><td>39.99             </td><td>29.0              </td><td>150.70000000000002</td><td>118.0             </td><td>          </td><td>65.0                   </td><td>                     </td></tr>\n",
              "<tr><td>sigma  </td><td>7993.55618873466  </td><td>         </td><td>4.391939870545791 </td><td>3.6106637311002343</td><td>                </td><td>59070.915654918215</td><td>                  </td><td>            </td><td>7.587668224192543 </td><td>0.6941679229284188</td><td>25.285366766770505</td><td>11.685190365910671</td><td>          </td><td>6.947732922546691      </td><td>                     </td></tr>\n",
              "<tr><td>zeros  </td><td>0                 </td><td>         </td><td>0                 </td><td>14248             </td><td>                </td><td>0                 </td><td>                  </td><td>            </td><td>270               </td><td>139459            </td><td>1562              </td><td>0                 </td><td>          </td><td>11                     </td><td>                     </td></tr>\n",
              "<tr><td>missing</td><td>0                 </td><td>0        </td><td>0                 </td><td>5804              </td><td>0               </td><td>4                 </td><td>0                 </td><td>0           </td><td>0                 </td><td>29                </td><td>193               </td><td>29                </td><td>0         </td><td>29                     </td><td>0                    </td></tr>\n",
              "<tr><td>0      </td><td>5000.0            </td><td>36 months</td><td>10.65             </td><td>10.0              </td><td>RENT            </td><td>24000.0           </td><td>credit_card       </td><td>AZ          </td><td>27.65             </td><td>0.0               </td><td>83.7              </td><td>9.0               </td><td>0         </td><td>26.0                   </td><td>verified             </td></tr>\n",
              "<tr><td>1      </td><td>2500.0            </td><td>60 months</td><td>15.27             </td><td>0.0               </td><td>RENT            </td><td>30000.0           </td><td>car               </td><td>GA          </td><td>1.0               </td><td>0.0               </td><td>9.4               </td><td>4.0               </td><td>1         </td><td>12.0                   </td><td>verified             </td></tr>\n",
              "<tr><td>2      </td><td>2400.0            </td><td>36 months</td><td>15.96             </td><td>10.0              </td><td>RENT            </td><td>12252.0           </td><td>small_business    </td><td>IL          </td><td>8.72              </td><td>0.0               </td><td>98.5              </td><td>10.0              </td><td>0         </td><td>10.0                   </td><td>not verified         </td></tr>\n",
              "<tr><td>3      </td><td>10000.0           </td><td>36 months</td><td>13.49             </td><td>10.0              </td><td>RENT            </td><td>49200.0           </td><td>other             </td><td>CA          </td><td>20.0              </td><td>0.0               </td><td>21.0              </td><td>37.0              </td><td>0         </td><td>15.0                   </td><td>verified             </td></tr>\n",
              "<tr><td>4      </td><td>5000.0            </td><td>36 months</td><td>7.9               </td><td>3.0               </td><td>RENT            </td><td>36000.0           </td><td>wedding           </td><td>AZ          </td><td>11.2              </td><td>0.0               </td><td>28.3              </td><td>12.0              </td><td>0         </td><td>7.0                    </td><td>verified             </td></tr>\n",
              "<tr><td>5      </td><td>3000.0            </td><td>36 months</td><td>18.64             </td><td>9.0               </td><td>RENT            </td><td>48000.0           </td><td>car               </td><td>CA          </td><td>5.3500000000000005</td><td>0.0               </td><td>87.5              </td><td>4.0               </td><td>0         </td><td>4.0                    </td><td>verified             </td></tr>\n",
              "<tr><td>6      </td><td>5600.0            </td><td>60 months</td><td>21.28             </td><td>4.0               </td><td>OWN             </td><td>40000.0           </td><td>small_business    </td><td>CA          </td><td>5.55              </td><td>0.0               </td><td>32.6              </td><td>13.0              </td><td>1         </td><td>7.0                    </td><td>verified             </td></tr>\n",
              "<tr><td>7      </td><td>5375.0            </td><td>60 months</td><td>12.69             </td><td>0.0               </td><td>RENT            </td><td>15000.0           </td><td>other             </td><td>TX          </td><td>18.08             </td><td>0.0               </td><td>36.5              </td><td>3.0               </td><td>1         </td><td>7.0                    </td><td>verified             </td></tr>\n",
              "<tr><td>8      </td><td>6500.0            </td><td>60 months</td><td>14.65             </td><td>5.0               </td><td>OWN             </td><td>72000.0           </td><td>debt_consolidation</td><td>AZ          </td><td>16.12             </td><td>0.0               </td><td>20.6              </td><td>23.0              </td><td>0         </td><td>13.0                   </td><td>not verified         </td></tr>\n",
              "<tr><td>9      </td><td>12000.0           </td><td>36 months</td><td>12.69             </td><td>10.0              </td><td>OWN             </td><td>75000.0           </td><td>debt_consolidation</td><td>CA          </td><td>10.78             </td><td>0.0               </td><td>67.10000000000001 </td><td>34.0              </td><td>0         </td><td>22.0                   </td><td>verified             </td></tr>\n",
              "</tbody>\n",
              "</table>"
            ]
          },
          "metadata": {
            "tags": []
          }
        }
      ]
    },
    {
      "cell_type": "markdown",
      "metadata": {
        "id": "vfLGp4YAHP0Y",
        "colab_type": "text"
      },
      "source": [
        "## Explore shape and skewness of numeric data columns"
      ]
    },
    {
      "cell_type": "code",
      "metadata": {
        "id": "mWBO2M4YGiIJ",
        "colab_type": "code",
        "outputId": "81d08ad4-9fe0-4243-bcb5-3d02372da213",
        "colab": {
          "base_uri": "https://localhost:8080/",
          "height": 165
        }
      },
      "source": [
        "# feature skewness\n",
        "{train.col_names[int(j)] : train[int(j)].skewness(na_rm=True)[0] for j in train.columns_by_type(\"numeric\")}"
      ],
      "execution_count": 17,
      "outputs": [
        {
          "output_type": "execute_result",
          "data": {
            "text/plain": [
              "{'annual_inc': 35.49017527656552,\n",
              " 'delinq_2yrs': 5.9610641741129875,\n",
              " 'dti': 0.1821584006068137,\n",
              " 'emp_length': -0.10544152153509748,\n",
              " 'int_rate': 0.32786188664582,\n",
              " 'loan_amnt': 0.8753344731629368,\n",
              " 'longest_credit_length': 1.1320402013275574,\n",
              " 'revol_util': -0.24909373161407677,\n",
              " 'total_acc': 0.7672568687389283}"
            ]
          },
          "metadata": {
            "tags": []
          },
          "execution_count": 17
        }
      ]
    },
    {
      "cell_type": "code",
      "metadata": {
        "id": "hj_tg5WPHb_7",
        "colab_type": "code",
        "outputId": "031999b2-d676-41b0-b144-194db7e44c64",
        "colab": {
          "base_uri": "https://localhost:8080/",
          "height": 165
        }
      },
      "source": [
        "# feature kurtosis\n",
        "{train.col_names[int(j)] : train[int(j)].kurtosis(na_rm=True)[0] for j in train.columns_by_type(\"numeric\")}"
      ],
      "execution_count": 18,
      "outputs": [
        {
          "output_type": "execute_result",
          "data": {
            "text/plain": [
              "{'annual_inc': 3270.7235742066455,\n",
              " 'delinq_2yrs': 75.67871449256873,\n",
              " 'dti': 2.476608894474025,\n",
              " 'emp_length': 1.5971274246737552,\n",
              " 'int_rate': 2.679198621886723,\n",
              " 'loan_amnt': 3.2288978583663206,\n",
              " 'longest_credit_length': 4.9621647223568734,\n",
              " 'revol_util': 2.197947871921963,\n",
              " 'total_acc': 3.6270448687188783}"
            ]
          },
          "metadata": {
            "tags": []
          },
          "execution_count": 18
        }
      ]
    },
    {
      "cell_type": "code",
      "metadata": {
        "id": "wvai0a8zHuW7",
        "colab_type": "code",
        "colab": {}
      },
      "source": [
        "import matplotlib.pyplot as plt\n",
        "%matplotlib inline\n",
        "\n",
        "import warnings\n",
        "import matplotlib.cbook\n",
        "warnings.filterwarnings(\"ignore\", category=matplotlib.cbook.mplDeprecation)"
      ],
      "execution_count": 0,
      "outputs": []
    },
    {
      "cell_type": "code",
      "metadata": {
        "id": "cJXDtuyyIW9E",
        "colab_type": "code",
        "outputId": "548286b2-8756-4073-c9a9-9a2c4939e2f4",
        "colab": {
          "base_uri": "https://localhost:8080/",
          "height": 1000
        }
      },
      "source": [
        "for j in train.columns_by_type('numeric'):\n",
        "  train[int(j)].hist()\n",
        "plt.show()  "
      ],
      "execution_count": 20,
      "outputs": [
        {
          "output_type": "display_data",
          "data": {
            "image/png": "[encoded data removed]",
            "text/plain": [
              "<Figure size 432x288 with 1 Axes>"
            ]
          },
          "metadata": {
            "tags": [],
            "needs_background": "light"
          }
        },
        {
          "output_type": "display_data",
          "data": {
            "image/png": "[encoded data removed]",
            "text/plain": [
              "<Figure size 432x288 with 1 Axes>"
            ]
          },
          "metadata": {
            "tags": [],
            "needs_background": "light"
          }
        },
        {
          "output_type": "display_data",
          "data": {
            "image/png": "[encoded data removed]",
            "text/plain": [
              "<Figure size 432x288 with 1 Axes>"
            ]
          },
          "metadata": {
            "tags": [],
            "needs_background": "light"
          }
        },
        {
          "output_type": "display_data",
          "data": {
            "image/png": "[encoded data removed]",
            "text/plain": [
              "<Figure size 432x288 with 1 Axes>"
            ]
          },
          "metadata": {
            "tags": [],
            "needs_background": "light"
          }
        },
        {
          "output_type": "display_data",
          "data": {
            "image/png": "[encoded data removed]",
            "text/plain": [
              "<Figure size 432x288 with 1 Axes>"
            ]
          },
          "metadata": {
            "tags": [],
            "needs_background": "light"
          }
        },
        {
          "output_type": "display_data",
          "data": {
            "image/png": "[encoded data removed]",
            "text/plain": [
              "<Figure size 432x288 with 1 Axes>"
            ]
          },
          "metadata": {
            "tags": [],
            "needs_background": "light"
          }
        },
        {
          "output_type": "display_data",
          "data": {
            "image/png": "[encoded data removed]",
            "text/plain": [
              "<Figure size 432x288 with 1 Axes>"
            ]
          },
          "metadata": {
            "tags": [],
            "needs_background": "light"
          }
        },
        {
          "output_type": "display_data",
          "data": {
            "image/png": "[encoded data removed]",
            "text/plain": [
              "<Figure size 432x288 with 1 Axes>"
            ]
          },
          "metadata": {
            "tags": [],
            "needs_background": "light"
          }
        },
        {
          "output_type": "display_data",
          "data": {
            "image/png": "[encoded data removed]",
            "text/plain": [
              "<Figure size 432x288 with 1 Axes>"
            ]
          },
          "metadata": {
            "tags": [],
            "needs_background": "light"
          }
        }
      ]
    },
    {
      "cell_type": "markdown",
      "metadata": {
        "id": "TlHcjn8GJi_U",
        "colab_type": "text"
      },
      "source": [
        "## Features Engineering\n",
        "\n",
        "Since the goal of this analysis is to **predict credit card default**, we will create a string, y, for the response variable, \"bad_loan\", and a list of column names for the original set of predictors, x_orig\n",
        "\n",
        "The original set of predictors should not include **interest rate** since they were set based upon a risk assessment that the loan would be bad\n",
        "\n",
        "The goal of this section is to improve upon these **predictors** through a number of feature engineering steps. In particular, we will perform three feature engineering tasks:\n",
        "\n",
        "i.e. separate, convert, create\n",
        "\n",
        "1. **Separating Typical from Extreme Loan Amount**\n",
        "2. **Converting Term to a 0/1 Indicator**\n",
        "3. **Creating Missing Value Indicator for Employment Length**\n",
        "4. **Combining Categories in Home Ownership**\n",
        "5. **Separating Typical from Extreme Annual Income**\n",
        "6. **Target Encoding for Loan Purpose**\n",
        "7. **Target Encoding for State of Residence**\n",
        "8. **Separating Typical from Extreme Debt to Income Ratio**\n",
        "9. **Separating Typical from Extreme Number of Delinquencies in the Past 2 Years**\n",
        "10. **Separating Typical from Extreme Revolving Credit Line Utilized**\n",
        "11. **Separating Typical from Extreme Number of Credit Lines**\n",
        "12. **Separating Typical from Extreme Longest Credit Length**\n",
        "13. **Converting Income Verification Status to a 0/1 Indicator**"
      ]
    },
    {
      "cell_type": "code",
      "metadata": {
        "id": "87Q6-iQJIxb7",
        "colab_type": "code",
        "outputId": "73a38cfc-cc40-45ec-ab40-8548d96b56f5",
        "colab": {
          "base_uri": "https://localhost:8080/",
          "height": 231
        }
      },
      "source": [
        "y = 'bad_loan' # create str y for target variable\n",
        "x_orig = train.col_names # list of original feature names\n",
        "x_orig.remove(y) # target variable remove from original set\n",
        "x_orig.remove('int_rate') # feature remove, based upon risk assessment from original set\n",
        "\n",
        "x_train = x_orig.copy()\n",
        "x_train"
      ],
      "execution_count": 21,
      "outputs": [
        {
          "output_type": "execute_result",
          "data": {
            "text/plain": [
              "['loan_amnt',\n",
              " 'term',\n",
              " 'emp_length',\n",
              " 'home_ownership',\n",
              " 'annual_inc',\n",
              " 'purpose',\n",
              " 'addr_state',\n",
              " 'dti',\n",
              " 'delinq_2yrs',\n",
              " 'revol_util',\n",
              " 'total_acc',\n",
              " 'longest_credit_length',\n",
              " 'verification_status']"
            ]
          },
          "metadata": {
            "tags": []
          },
          "execution_count": 21
        }
      ]
    },
    {
      "cell_type": "markdown",
      "metadata": {
        "id": "pwkcSBLnLfoj",
        "colab_type": "text"
      },
      "source": [
        "### CV and target encoding\n",
        "\n",
        "This analysis will use **cross-validated mean target encoding of the categorical predictors** as OHE can lead to overfitting of infrequent categories\n",
        "\n",
        "To achieve this goal, we will first create soft partitions using H2OFrame's kfold_column function, then calculate summary statistics using H2O's group_by function, and finally join these engineered features using H2OFrame's merge"
      ]
    },
    {
      "cell_type": "code",
      "metadata": {
        "id": "E2WgXrS-K19o",
        "colab_type": "code",
        "colab": {}
      },
      "source": [
        "cv_nfolds = 5\n",
        "cv_seed = 987"
      ],
      "execution_count": 0,
      "outputs": []
    },
    {
      "cell_type": "code",
      "metadata": {
        "id": "Oa27VbxDLthM",
        "colab_type": "code",
        "colab": {}
      },
      "source": [
        "train['cv_fold'] = train.kfold_column(n_folds=cv_nfolds, seed=cv_seed)"
      ],
      "execution_count": 0,
      "outputs": []
    },
    {
      "cell_type": "code",
      "metadata": {
        "id": "q1tUW5kbMDHB",
        "colab_type": "code",
        "outputId": "5027863b-36e0-41ea-e659-d1191d52e822",
        "colab": {
          "base_uri": "https://localhost:8080/",
          "height": 126
        }
      },
      "source": [
        "train['cv_fold'].table()"
      ],
      "execution_count": 24,
      "outputs": [
        {
          "output_type": "display_data",
          "data": {
            "text/html": [
              "<table>\n",
              "<thead>\n",
              "<tr><th style=\"text-align: right;\">  cv_fold</th><th style=\"text-align: right;\">  Count</th></tr>\n",
              "</thead>\n",
              "<tbody>\n",
              "<tr><td style=\"text-align: right;\">        0</td><td style=\"text-align: right;\">  32818</td></tr>\n",
              "<tr><td style=\"text-align: right;\">        1</td><td style=\"text-align: right;\">  32810</td></tr>\n",
              "<tr><td style=\"text-align: right;\">        2</td><td style=\"text-align: right;\">  33045</td></tr>\n",
              "<tr><td style=\"text-align: right;\">        3</td><td style=\"text-align: right;\">  32570</td></tr>\n",
              "<tr><td style=\"text-align: right;\">        4</td><td style=\"text-align: right;\">  32744</td></tr>\n",
              "</tbody>\n",
              "</table>"
            ]
          },
          "metadata": {
            "tags": []
          }
        },
        {
          "output_type": "execute_result",
          "data": {
            "text/plain": [
              ""
            ]
          },
          "metadata": {
            "tags": []
          },
          "execution_count": 24
        }
      ]
    },
    {
      "cell_type": "code",
      "metadata": {
        "id": "wLK3QslHMJmF",
        "colab_type": "code",
        "colab": {}
      },
      "source": [
        "import numpy as np\n",
        "import pandas as pd"
      ],
      "execution_count": 0,
      "outputs": []
    },
    {
      "cell_type": "code",
      "metadata": {
        "id": "6a39ZsLNMn7l",
        "colab_type": "code",
        "colab": {}
      },
      "source": [
        "def logit(p):\n",
        "  return np.log(p) - np.log(1 - p)"
      ],
      "execution_count": 0,
      "outputs": []
    },
    {
      "cell_type": "code",
      "metadata": {
        "id": "Q-f1ITjAfZ7J",
        "colab_type": "code",
        "colab": {}
      },
      "source": [
        "def mean_target(data, x, y='bad_loan'):\n",
        "  grouped_data = data[[x, y]].group_by([x])\n",
        "  stats = grouped_data.count(na='ignore').mean(na='ignore')\n",
        "  return stats.get_frame().as_data_frame()"
      ],
      "execution_count": 0,
      "outputs": []
    },
    {
      "cell_type": "code",
      "metadata": {
        "id": "G4Y9L3YJgV7N",
        "colab_type": "code",
        "colab": {}
      },
      "source": [
        "def mean_target_encoding(data, x, y='bad_loan', fold_column='cv_fold', prior_mean=0.183, prior_count=1):\n",
        "    \"\"\"\n",
        "    Creates target encoding for binary target\n",
        "    data (H2OFrame) : data set\n",
        "    x (string) : categorical predictor column name\n",
        "    y (string) : binary target column name\n",
        "    fold_column (string) : cross-validation fold column name\n",
        "    prior_mean (float) : proportion of 1s in the target column\n",
        "    prior_count (positive number) : weight to give to prior_mean\n",
        "    \"\"\" \n",
        "    grouped_data = data[[x, fold_column, y]].group_by([x, fold_column])\n",
        "    grouped_data.sum(na='ignore').count(na='ignore')\n",
        "    df = grouped_data.get_frame().as_data_frame()\n",
        "    df_list = []\n",
        "    nfold = int(data[fold_column].max()) + 1\n",
        "    for j in range(0, nfold):\n",
        "        te_x = 'te_{}'.format(x)\n",
        "        sum_y = 'sum_{}'.format(y)\n",
        "        oof = df.loc[df[fold_column] != j, [x, sum_y, 'nrow']]\n",
        "        stats = oof.groupby([x]).sum()\n",
        "        stats[x] = stats.index\n",
        "        stats[fold_column] = j\n",
        "        p = (stats[sum_y] + (prior_count * prior_mean)) / (stats['nrow'] + prior_count)\n",
        "        stats[te_x] = logit(p)\n",
        "        df_list.append(stats[[x, fold_column, te_x]])\n",
        "    return h2o.H2OFrame(pd.concat(df_list))\n"
      ],
      "execution_count": 0,
      "outputs": []
    },
    {
      "cell_type": "markdown",
      "metadata": {
        "id": "kHLlAsyJhhyD",
        "colab_type": "text"
      },
      "source": [
        "### 1. Separating Typical from Extreme Loan Amount"
      ]
    },
    {
      "cell_type": "code",
      "metadata": {
        "id": "Ha9xBJN_hEvT",
        "colab_type": "code",
        "outputId": "bb21d9bb-d41f-4261-f477-8394075981f3",
        "colab": {
          "base_uri": "https://localhost:8080/",
          "height": 162
        }
      },
      "source": [
        "train['loan_amnt'].quantile([0, 0.05, 0.25, 0.5, 0.75, 0.95, 1])"
      ],
      "execution_count": 29,
      "outputs": [
        {
          "output_type": "display_data",
          "data": {
            "text/html": [
              "<table>\n",
              "<thead>\n",
              "<tr><th style=\"text-align: right;\">  Probs</th><th style=\"text-align: right;\">  loan_amntQuantiles</th></tr>\n",
              "</thead>\n",
              "<tbody>\n",
              "<tr><td style=\"text-align: right;\">   0   </td><td style=\"text-align: right;\">                 500</td></tr>\n",
              "<tr><td style=\"text-align: right;\">   0.05</td><td style=\"text-align: right;\">                3000</td></tr>\n",
              "<tr><td style=\"text-align: right;\">   0.25</td><td style=\"text-align: right;\">                7000</td></tr>\n",
              "<tr><td style=\"text-align: right;\">   0.5 </td><td style=\"text-align: right;\">               11325</td></tr>\n",
              "<tr><td style=\"text-align: right;\">   0.75</td><td style=\"text-align: right;\">               18000</td></tr>\n",
              "<tr><td style=\"text-align: right;\">   0.95</td><td style=\"text-align: right;\">               30000</td></tr>\n",
              "<tr><td style=\"text-align: right;\">   1   </td><td style=\"text-align: right;\">               35000</td></tr>\n",
              "</tbody>\n",
              "</table>"
            ]
          },
          "metadata": {
            "tags": []
          }
        },
        {
          "output_type": "execute_result",
          "data": {
            "text/plain": [
              ""
            ]
          },
          "metadata": {
            "tags": []
          },
          "execution_count": 29
        }
      ]
    },
    {
      "cell_type": "code",
      "metadata": {
        "id": "NIk_F1gfh8Ot",
        "colab_type": "code",
        "colab": {}
      },
      "source": [
        "breaks = np.linspace(0, 35000, 8).tolist()\n",
        "train['loan_amnt_cat'] = train['loan_amnt'].cut(breaks=breaks)"
      ],
      "execution_count": 0,
      "outputs": []
    },
    {
      "cell_type": "code",
      "metadata": {
        "id": "4gCqU1GEimET",
        "colab_type": "code",
        "colab": {}
      },
      "source": [
        "df = mean_target(train, 'loan_amnt_cat')"
      ],
      "execution_count": 0,
      "outputs": []
    },
    {
      "cell_type": "code",
      "metadata": {
        "id": "lLimdv57i4KN",
        "colab_type": "code",
        "outputId": "9a663a75-f7ec-4555-951a-617b4e271e7e",
        "colab": {
          "base_uri": "https://localhost:8080/",
          "height": 348
        }
      },
      "source": [
        "plt.xticks(rotation=90)\n",
        "plt.yscale('logit')\n",
        "plt.plot(df['loan_amnt_cat'], df['mean_bad_loan'])\n",
        "plt.show()"
      ],
      "execution_count": 32,
      "outputs": [
        {
          "output_type": "display_data",
          "data": {
            "image/png": "[encoded data removed]",
            "text/plain": [
              "<Figure size 432x288 with 1 Axes>"
            ]
          },
          "metadata": {
            "tags": [],
            "needs_background": "light"
          }
        }
      ]
    },
    {
      "cell_type": "markdown",
      "metadata": {
        "id": "g57P0dED37jn",
        "colab_type": "text"
      },
      "source": [
        "After binning loan_amt using H2OFrame's cut function and looking at the fraction of bad loans on a logit scale, we see that the chance of a bad loan roughly increases linearly in loan amount from \\$5,000 to \\$30,000 and is relatively flat below \\$5,000 and above \\$30,000\n",
        "\n",
        "To reflect this finding in the modeling, we will replace the original loan_amnt measure with two derived measures:"
      ]
    },
    {
      "cell_type": "code",
      "metadata": {
        "id": "4pu4dbqKjWe4",
        "colab_type": "code",
        "outputId": "3887e111-c597-4d83-e2c9-b2decfe9b23d",
        "colab": {
          "base_uri": "https://localhost:8080/",
          "height": 246
        }
      },
      "source": [
        "df"
      ],
      "execution_count": 33,
      "outputs": [
        {
          "output_type": "execute_result",
          "data": {
            "text/html": [
              "<div>\n",
              "<style scoped>\n",
              "    .dataframe tbody tr th:only-of-type {\n",
              "        vertical-align: middle;\n",
              "    }\n",
              "\n",
              "    .dataframe tbody tr th {\n",
              "        vertical-align: top;\n",
              "    }\n",
              "\n",
              "    .dataframe thead th {\n",
              "        text-align: right;\n",
              "    }\n",
              "</style>\n",
              "<table border=\"1\" class=\"dataframe\">\n",
              "  <thead>\n",
              "    <tr style=\"text-align: right;\">\n",
              "      <th></th>\n",
              "      <th>loan_amnt_cat</th>\n",
              "      <th>nrow</th>\n",
              "      <th>mean_bad_loan</th>\n",
              "    </tr>\n",
              "  </thead>\n",
              "  <tbody>\n",
              "    <tr>\n",
              "      <th>0</th>\n",
              "      <td>(0.0,5000.0]</td>\n",
              "      <td>25785</td>\n",
              "      <td>0.163234</td>\n",
              "    </tr>\n",
              "    <tr>\n",
              "      <th>1</th>\n",
              "      <td>(5000.0,10000.0]</td>\n",
              "      <td>50384</td>\n",
              "      <td>0.164278</td>\n",
              "    </tr>\n",
              "    <tr>\n",
              "      <th>2</th>\n",
              "      <td>(10000.0,15000.0]</td>\n",
              "      <td>35552</td>\n",
              "      <td>0.173436</td>\n",
              "    </tr>\n",
              "    <tr>\n",
              "      <th>3</th>\n",
              "      <td>(15000.0,20000.0]</td>\n",
              "      <td>24659</td>\n",
              "      <td>0.208281</td>\n",
              "    </tr>\n",
              "    <tr>\n",
              "      <th>4</th>\n",
              "      <td>(20000.0,25000.0]</td>\n",
              "      <td>14447</td>\n",
              "      <td>0.214508</td>\n",
              "    </tr>\n",
              "    <tr>\n",
              "      <th>5</th>\n",
              "      <td>(25000.0,30000.0]</td>\n",
              "      <td>6913</td>\n",
              "      <td>0.238825</td>\n",
              "    </tr>\n",
              "    <tr>\n",
              "      <th>6</th>\n",
              "      <td>(30000.0,35000.0]</td>\n",
              "      <td>6247</td>\n",
              "      <td>0.236594</td>\n",
              "    </tr>\n",
              "  </tbody>\n",
              "</table>\n",
              "</div>"
            ],
            "text/plain": [
              "       loan_amnt_cat   nrow  mean_bad_loan\n",
              "0       (0.0,5000.0]  25785       0.163234\n",
              "1   (5000.0,10000.0]  50384       0.164278\n",
              "2  (10000.0,15000.0]  35552       0.173436\n",
              "3  (15000.0,20000.0]  24659       0.208281\n",
              "4  (20000.0,25000.0]  14447       0.214508\n",
              "5  (25000.0,30000.0]   6913       0.238825\n",
              "6  (30000.0,35000.0]   6247       0.236594"
            ]
          },
          "metadata": {
            "tags": []
          },
          "execution_count": 33
        }
      ]
    },
    {
      "cell_type": "code",
      "metadata": {
        "id": "AHGOxFhSje0m",
        "colab_type": "code",
        "colab": {}
      },
      "source": [
        "x_train.remove('loan_amnt')\n",
        "x_train.append('loan_amnt_core')\n",
        "x_train.append('loan_amnt_delta')\n",
        "\n",
        "train['loan_amnt_core'] = h2o.H2OFrame.ifelse(train['loan_amnt'] <= 5000, 5000, train['loan_amnt'])\n",
        "train['loan_amnt_core'] = h2o.H2OFrame.ifelse(train['loan_amnt_core'] <= 30000, train['loan_amnt_core'], 30000)\n",
        "\n",
        "train['loan_amnt_delta'] = train[\"loan_amnt\"] - train['loan_amnt_core']"
      ],
      "execution_count": 0,
      "outputs": []
    },
    {
      "cell_type": "markdown",
      "metadata": {
        "id": "uiq1Q04TkWwj",
        "colab_type": "text"
      },
      "source": [
        "### 2. Converting Term to a 0/1 Indicator"
      ]
    },
    {
      "cell_type": "code",
      "metadata": {
        "id": "yRIzJboIj_9D",
        "colab_type": "code",
        "outputId": "057fa851-8cf9-4f43-ab61-274c2e1eaa2f",
        "colab": {
          "base_uri": "https://localhost:8080/",
          "height": 72
        }
      },
      "source": [
        "train['term'].table()"
      ],
      "execution_count": 35,
      "outputs": [
        {
          "output_type": "display_data",
          "data": {
            "text/html": [
              "<table>\n",
              "<thead>\n",
              "<tr><th>term     </th><th style=\"text-align: right;\">  Count</th></tr>\n",
              "</thead>\n",
              "<tbody>\n",
              "<tr><td>36 months</td><td style=\"text-align: right;\"> 129950</td></tr>\n",
              "<tr><td>60 months</td><td style=\"text-align: right;\">  34037</td></tr>\n",
              "</tbody>\n",
              "</table>"
            ]
          },
          "metadata": {
            "tags": []
          }
        },
        {
          "output_type": "execute_result",
          "data": {
            "text/plain": [
              ""
            ]
          },
          "metadata": {
            "tags": []
          },
          "execution_count": 35
        }
      ]
    },
    {
      "cell_type": "markdown",
      "metadata": {
        "id": "4EnrPBdm3t8v",
        "colab_type": "text"
      },
      "source": [
        "Given that term of the loans are either 3 or 5 years, we will create a simplifed term_36month binary indicator that is 1 when the terms of the loan is for 5 years and 0 for loans with a term of 3 years"
      ]
    },
    {
      "cell_type": "code",
      "metadata": {
        "id": "H4Ud0_hCkphO",
        "colab_type": "code",
        "colab": {}
      },
      "source": [
        "x_train.remove('term')\n",
        "x_train.append('term_60months')\n",
        "\n",
        "train['term_60months'] = train['term'] == '60 months'"
      ],
      "execution_count": 0,
      "outputs": []
    },
    {
      "cell_type": "code",
      "metadata": {
        "id": "aUyWl51LlI69",
        "colab_type": "code",
        "outputId": "4b1209d8-76c8-4e33-8240-a2304fa82391",
        "colab": {
          "base_uri": "https://localhost:8080/",
          "height": 72
        }
      },
      "source": [
        "train['term_60months'].table()"
      ],
      "execution_count": 37,
      "outputs": [
        {
          "output_type": "display_data",
          "data": {
            "text/html": [
              "<table>\n",
              "<thead>\n",
              "<tr><th style=\"text-align: right;\">  term_60months</th><th style=\"text-align: right;\">  Count</th></tr>\n",
              "</thead>\n",
              "<tbody>\n",
              "<tr><td style=\"text-align: right;\">              0</td><td style=\"text-align: right;\"> 129950</td></tr>\n",
              "<tr><td style=\"text-align: right;\">              1</td><td style=\"text-align: right;\">  34037</td></tr>\n",
              "</tbody>\n",
              "</table>"
            ]
          },
          "metadata": {
            "tags": []
          }
        },
        {
          "output_type": "execute_result",
          "data": {
            "text/plain": [
              ""
            ]
          },
          "metadata": {
            "tags": []
          },
          "execution_count": 37
        }
      ]
    },
    {
      "cell_type": "markdown",
      "metadata": {
        "id": "P0lxk6csltF3",
        "colab_type": "text"
      },
      "source": [
        "### 3. Creating Missing Value Indicator for Employment Length"
      ]
    },
    {
      "cell_type": "code",
      "metadata": {
        "id": "zOWAhm2WlRSx",
        "colab_type": "code",
        "outputId": "c7f95461-7d1d-4f6f-9b97-9ba314bb2d70",
        "colab": {
          "base_uri": "https://localhost:8080/",
          "height": 342
        }
      },
      "source": [
        "train['emp_length'].summary()"
      ],
      "execution_count": 38,
      "outputs": [
        {
          "output_type": "display_data",
          "data": {
            "text/html": [
              "<table>\n",
              "<thead>\n",
              "<tr><th>       </th><th>emp_length        </th></tr>\n",
              "</thead>\n",
              "<tbody>\n",
              "<tr><td>type   </td><td>int               </td></tr>\n",
              "<tr><td>mins   </td><td>0.0               </td></tr>\n",
              "<tr><td>mean   </td><td>5.684352932995332 </td></tr>\n",
              "<tr><td>maxs   </td><td>10.0              </td></tr>\n",
              "<tr><td>sigma  </td><td>3.6106637311002343</td></tr>\n",
              "<tr><td>zeros  </td><td>14248             </td></tr>\n",
              "<tr><td>missing</td><td>5804              </td></tr>\n",
              "<tr><td>0      </td><td>10.0              </td></tr>\n",
              "<tr><td>1      </td><td>0.0               </td></tr>\n",
              "<tr><td>2      </td><td>10.0              </td></tr>\n",
              "<tr><td>3      </td><td>10.0              </td></tr>\n",
              "<tr><td>4      </td><td>3.0               </td></tr>\n",
              "<tr><td>5      </td><td>9.0               </td></tr>\n",
              "<tr><td>6      </td><td>4.0               </td></tr>\n",
              "<tr><td>7      </td><td>0.0               </td></tr>\n",
              "<tr><td>8      </td><td>5.0               </td></tr>\n",
              "<tr><td>9      </td><td>10.0              </td></tr>\n",
              "</tbody>\n",
              "</table>"
            ]
          },
          "metadata": {
            "tags": []
          }
        }
      ]
    },
    {
      "cell_type": "markdown",
      "metadata": {
        "id": "8lNLAWMt3jJz",
        "colab_type": "text"
      },
      "source": [
        "The most interesting characteristic about employment length is whether or not it is missing. The divide between those with missing values for employment length to those who have a recorded employment length is 26.3% bad loans to 18.0% bad loans respectively\n",
        "\n",
        "Interestingly, there doesn't appear to be any differences in bad loans across employment lengths"
      ]
    },
    {
      "cell_type": "code",
      "metadata": {
        "id": "giVeQZw9ly8_",
        "colab_type": "code",
        "colab": {}
      },
      "source": [
        "x_train.append('emp_length_missing')\n",
        "\n",
        "train['emp_length_missing'] = train['emp_length'] == None"
      ],
      "execution_count": 0,
      "outputs": []
    },
    {
      "cell_type": "code",
      "metadata": {
        "id": "NoWAERGZTtBp",
        "colab_type": "code",
        "outputId": "0a019bd8-e9e9-4f90-fe6d-a6de8524bd90",
        "colab": {
          "base_uri": "https://localhost:8080/",
          "height": 232
        }
      },
      "source": [
        "mean_target_encoding(train, 'emp_length_missing')"
      ],
      "execution_count": 40,
      "outputs": [
        {
          "output_type": "stream",
          "text": [
            "Parse progress: |█████████████████████████████████████████████████████████| 100%\n"
          ],
          "name": "stdout"
        },
        {
          "output_type": "display_data",
          "data": {
            "text/html": [
              "<table>\n",
              "<thead>\n",
              "<tr><th style=\"text-align: right;\">  emp_length_missing</th><th style=\"text-align: right;\">  cv_fold</th><th style=\"text-align: right;\">  te_emp_length_missing</th></tr>\n",
              "</thead>\n",
              "<tbody>\n",
              "<tr><td style=\"text-align: right;\">                   0</td><td style=\"text-align: right;\">        0</td><td style=\"text-align: right;\">               -1.51627</td></tr>\n",
              "<tr><td style=\"text-align: right;\">                   1</td><td style=\"text-align: right;\">        0</td><td style=\"text-align: right;\">               -1.04832</td></tr>\n",
              "<tr><td style=\"text-align: right;\">                   0</td><td style=\"text-align: right;\">        1</td><td style=\"text-align: right;\">               -1.5119 </td></tr>\n",
              "<tr><td style=\"text-align: right;\">                   1</td><td style=\"text-align: right;\">        1</td><td style=\"text-align: right;\">               -1.00873</td></tr>\n",
              "<tr><td style=\"text-align: right;\">                   0</td><td style=\"text-align: right;\">        2</td><td style=\"text-align: right;\">               -1.52094</td></tr>\n",
              "<tr><td style=\"text-align: right;\">                   1</td><td style=\"text-align: right;\">        2</td><td style=\"text-align: right;\">               -1.03431</td></tr>\n",
              "<tr><td style=\"text-align: right;\">                   0</td><td style=\"text-align: right;\">        3</td><td style=\"text-align: right;\">               -1.51924</td></tr>\n",
              "<tr><td style=\"text-align: right;\">                   1</td><td style=\"text-align: right;\">        3</td><td style=\"text-align: right;\">               -1.02358</td></tr>\n",
              "<tr><td style=\"text-align: right;\">                   0</td><td style=\"text-align: right;\">        4</td><td style=\"text-align: right;\">               -1.50977</td></tr>\n",
              "<tr><td style=\"text-align: right;\">                   1</td><td style=\"text-align: right;\">        4</td><td style=\"text-align: right;\">               -1.04019</td></tr>\n",
              "</tbody>\n",
              "</table>"
            ]
          },
          "metadata": {
            "tags": []
          }
        },
        {
          "output_type": "execute_result",
          "data": {
            "text/plain": [
              ""
            ]
          },
          "metadata": {
            "tags": []
          },
          "execution_count": 40
        }
      ]
    },
    {
      "cell_type": "code",
      "metadata": {
        "id": "6-tdWIHRUUi6",
        "colab_type": "code",
        "colab": {}
      },
      "source": [
        "df = mean_target(train, 'emp_length')"
      ],
      "execution_count": 0,
      "outputs": []
    },
    {
      "cell_type": "code",
      "metadata": {
        "id": "TV9CQwBMVQ2R",
        "colab_type": "code",
        "outputId": "cb94793a-e643-4ba9-e1bc-fd3ee7fd512a",
        "colab": {
          "base_uri": "https://localhost:8080/",
          "height": 264
        }
      },
      "source": [
        "plt.yscale('logit')\n",
        "plt.plot(df['emp_length'], df['mean_bad_loan'])\n",
        "plt.show()"
      ],
      "execution_count": 42,
      "outputs": [
        {
          "output_type": "display_data",
          "data": {
            "image/png": "[encoded data removed]",
            "text/plain": [
              "<Figure size 432x288 with 1 Axes>"
            ]
          },
          "metadata": {
            "tags": [],
            "needs_background": "light"
          }
        }
      ]
    },
    {
      "cell_type": "code",
      "metadata": {
        "id": "2PrASK5_V_p_",
        "colab_type": "code",
        "outputId": "0d87efe1-aa56-43e0-9779-0baf8d1ccb3e",
        "colab": {
          "base_uri": "https://localhost:8080/",
          "height": 388
        }
      },
      "source": [
        "df"
      ],
      "execution_count": 43,
      "outputs": [
        {
          "output_type": "execute_result",
          "data": {
            "text/html": [
              "<div>\n",
              "<style scoped>\n",
              "    .dataframe tbody tr th:only-of-type {\n",
              "        vertical-align: middle;\n",
              "    }\n",
              "\n",
              "    .dataframe tbody tr th {\n",
              "        vertical-align: top;\n",
              "    }\n",
              "\n",
              "    .dataframe thead th {\n",
              "        text-align: right;\n",
              "    }\n",
              "</style>\n",
              "<table border=\"1\" class=\"dataframe\">\n",
              "  <thead>\n",
              "    <tr style=\"text-align: right;\">\n",
              "      <th></th>\n",
              "      <th>emp_length</th>\n",
              "      <th>nrow</th>\n",
              "      <th>mean_bad_loan</th>\n",
              "    </tr>\n",
              "  </thead>\n",
              "  <tbody>\n",
              "    <tr>\n",
              "      <th>0</th>\n",
              "      <td>NaN</td>\n",
              "      <td>0</td>\n",
              "      <td>0.262922</td>\n",
              "    </tr>\n",
              "    <tr>\n",
              "      <th>1</th>\n",
              "      <td>0.0</td>\n",
              "      <td>14248</td>\n",
              "      <td>0.184307</td>\n",
              "    </tr>\n",
              "    <tr>\n",
              "      <th>2</th>\n",
              "      <td>1.0</td>\n",
              "      <td>11414</td>\n",
              "      <td>0.177238</td>\n",
              "    </tr>\n",
              "    <tr>\n",
              "      <th>3</th>\n",
              "      <td>2.0</td>\n",
              "      <td>15766</td>\n",
              "      <td>0.173728</td>\n",
              "    </tr>\n",
              "    <tr>\n",
              "      <th>4</th>\n",
              "      <td>3.0</td>\n",
              "      <td>13611</td>\n",
              "      <td>0.178679</td>\n",
              "    </tr>\n",
              "    <tr>\n",
              "      <th>5</th>\n",
              "      <td>4.0</td>\n",
              "      <td>11024</td>\n",
              "      <td>0.173258</td>\n",
              "    </tr>\n",
              "    <tr>\n",
              "      <th>6</th>\n",
              "      <td>5.0</td>\n",
              "      <td>12347</td>\n",
              "      <td>0.181664</td>\n",
              "    </tr>\n",
              "    <tr>\n",
              "      <th>7</th>\n",
              "      <td>6.0</td>\n",
              "      <td>10000</td>\n",
              "      <td>0.188500</td>\n",
              "    </tr>\n",
              "    <tr>\n",
              "      <th>8</th>\n",
              "      <td>7.0</td>\n",
              "      <td>9079</td>\n",
              "      <td>0.190770</td>\n",
              "    </tr>\n",
              "    <tr>\n",
              "      <th>9</th>\n",
              "      <td>8.0</td>\n",
              "      <td>7424</td>\n",
              "      <td>0.185614</td>\n",
              "    </tr>\n",
              "    <tr>\n",
              "      <th>10</th>\n",
              "      <td>9.0</td>\n",
              "      <td>6087</td>\n",
              "      <td>0.187120</td>\n",
              "    </tr>\n",
              "    <tr>\n",
              "      <th>11</th>\n",
              "      <td>10.0</td>\n",
              "      <td>47183</td>\n",
              "      <td>0.177670</td>\n",
              "    </tr>\n",
              "  </tbody>\n",
              "</table>\n",
              "</div>"
            ],
            "text/plain": [
              "    emp_length   nrow  mean_bad_loan\n",
              "0          NaN      0       0.262922\n",
              "1          0.0  14248       0.184307\n",
              "2          1.0  11414       0.177238\n",
              "3          2.0  15766       0.173728\n",
              "4          3.0  13611       0.178679\n",
              "5          4.0  11024       0.173258\n",
              "6          5.0  12347       0.181664\n",
              "7          6.0  10000       0.188500\n",
              "8          7.0   9079       0.190770\n",
              "9          8.0   7424       0.185614\n",
              "10         9.0   6087       0.187120\n",
              "11        10.0  47183       0.177670"
            ]
          },
          "metadata": {
            "tags": []
          },
          "execution_count": 43
        }
      ]
    },
    {
      "cell_type": "markdown",
      "metadata": {
        "id": "s5ppVI9DW1PA",
        "colab_type": "text"
      },
      "source": [
        "### 4. Combining Categories in Home Ownership"
      ]
    },
    {
      "cell_type": "code",
      "metadata": {
        "id": "Y69L1fyqWMmR",
        "colab_type": "code",
        "outputId": "e33d547b-a59b-48a8-efa0-27e8d54d8140",
        "colab": {
          "base_uri": "https://localhost:8080/",
          "height": 217
        }
      },
      "source": [
        "mean_target(train, 'home_ownership')"
      ],
      "execution_count": 44,
      "outputs": [
        {
          "output_type": "execute_result",
          "data": {
            "text/html": [
              "<div>\n",
              "<style scoped>\n",
              "    .dataframe tbody tr th:only-of-type {\n",
              "        vertical-align: middle;\n",
              "    }\n",
              "\n",
              "    .dataframe tbody tr th {\n",
              "        vertical-align: top;\n",
              "    }\n",
              "\n",
              "    .dataframe thead th {\n",
              "        text-align: right;\n",
              "    }\n",
              "</style>\n",
              "<table border=\"1\" class=\"dataframe\">\n",
              "  <thead>\n",
              "    <tr style=\"text-align: right;\">\n",
              "      <th></th>\n",
              "      <th>home_ownership</th>\n",
              "      <th>nrow</th>\n",
              "      <th>mean_bad_loan</th>\n",
              "    </tr>\n",
              "  </thead>\n",
              "  <tbody>\n",
              "    <tr>\n",
              "      <th>0</th>\n",
              "      <td>ANY</td>\n",
              "      <td>1</td>\n",
              "      <td>0.000000</td>\n",
              "    </tr>\n",
              "    <tr>\n",
              "      <th>1</th>\n",
              "      <td>MORTGAGE</td>\n",
              "      <td>79714</td>\n",
              "      <td>0.164137</td>\n",
              "    </tr>\n",
              "    <tr>\n",
              "      <th>2</th>\n",
              "      <td>NONE</td>\n",
              "      <td>30</td>\n",
              "      <td>0.233333</td>\n",
              "    </tr>\n",
              "    <tr>\n",
              "      <th>3</th>\n",
              "      <td>OTHER</td>\n",
              "      <td>156</td>\n",
              "      <td>0.224359</td>\n",
              "    </tr>\n",
              "    <tr>\n",
              "      <th>4</th>\n",
              "      <td>OWN</td>\n",
              "      <td>13560</td>\n",
              "      <td>0.188348</td>\n",
              "    </tr>\n",
              "    <tr>\n",
              "      <th>5</th>\n",
              "      <td>RENT</td>\n",
              "      <td>70526</td>\n",
              "      <td>0.203273</td>\n",
              "    </tr>\n",
              "  </tbody>\n",
              "</table>\n",
              "</div>"
            ],
            "text/plain": [
              "  home_ownership   nrow  mean_bad_loan\n",
              "0            ANY      1       0.000000\n",
              "1       MORTGAGE  79714       0.164137\n",
              "2           NONE     30       0.233333\n",
              "3          OTHER    156       0.224359\n",
              "4            OWN  13560       0.188348\n",
              "5           RENT  70526       0.203273"
            ]
          },
          "metadata": {
            "tags": []
          },
          "execution_count": 44
        }
      ]
    },
    {
      "cell_type": "markdown",
      "metadata": {
        "id": "LpGUbyGv3Dqm",
        "colab_type": "text"
      },
      "source": [
        "Although there are 6 recorded categories within home ownership, only three had over 200 observations: OWN, MORTGAGE, and RENT \n",
        "\n",
        "The remaining three are so infrequent we will combine them {ANY, NONE, OTHER} with RENT to form an enlarged OTHER category\n",
        "\n",
        "This new home_ownership_3cat variable will have values in {MORTGAGE, OTHER, OWN}"
      ]
    },
    {
      "cell_type": "code",
      "metadata": {
        "id": "-h77_RWeXGvA",
        "colab_type": "code",
        "colab": {}
      },
      "source": [
        "lvls = ['OTHER', 'MORTGAGE', 'OTHER', 'OTHER', 'OWN', 'OTHER'] # levels of home_ownership\n",
        "train['home_ownership_3cat'] = train['home_ownership'].set_levels(lvls).ascharacter().asfactor()"
      ],
      "execution_count": 0,
      "outputs": []
    },
    {
      "cell_type": "code",
      "metadata": {
        "id": "RfrQjvFMZAc4",
        "colab_type": "code",
        "outputId": "3c492ab5-162e-4213-86f2-fb116666d19d",
        "colab": {
          "base_uri": "https://localhost:8080/",
          "height": 144
        }
      },
      "source": [
        "train[['home_ownership', 'home_ownership_3cat']].table()"
      ],
      "execution_count": 46,
      "outputs": [
        {
          "output_type": "display_data",
          "data": {
            "text/html": [
              "<table>\n",
              "<thead>\n",
              "<tr><th>home_ownership  </th><th>home_ownership_3cat  </th><th style=\"text-align: right;\">  Counts</th></tr>\n",
              "</thead>\n",
              "<tbody>\n",
              "<tr><td>ANY             </td><td>OTHER                </td><td style=\"text-align: right;\">       1</td></tr>\n",
              "<tr><td>MORTGAGE        </td><td>MORTGAGE             </td><td style=\"text-align: right;\">   79714</td></tr>\n",
              "<tr><td>NONE            </td><td>OTHER                </td><td style=\"text-align: right;\">      30</td></tr>\n",
              "<tr><td>OTHER           </td><td>OTHER                </td><td style=\"text-align: right;\">     156</td></tr>\n",
              "<tr><td>OWN             </td><td>OWN                  </td><td style=\"text-align: right;\">   13560</td></tr>\n",
              "<tr><td>RENT            </td><td>OTHER                </td><td style=\"text-align: right;\">   70526</td></tr>\n",
              "</tbody>\n",
              "</table>"
            ]
          },
          "metadata": {
            "tags": []
          }
        },
        {
          "output_type": "execute_result",
          "data": {
            "text/plain": [
              ""
            ]
          },
          "metadata": {
            "tags": []
          },
          "execution_count": 46
        }
      ]
    },
    {
      "cell_type": "code",
      "metadata": {
        "id": "izqbEAJfZZDH",
        "colab_type": "code",
        "outputId": "29d6143b-9307-425c-a3ff-39e38f64cab9",
        "colab": {
          "base_uri": "https://localhost:8080/",
          "height": 132
        }
      },
      "source": [
        "mean_target(train, 'home_ownership_3cat')"
      ],
      "execution_count": 47,
      "outputs": [
        {
          "output_type": "execute_result",
          "data": {
            "text/html": [
              "<div>\n",
              "<style scoped>\n",
              "    .dataframe tbody tr th:only-of-type {\n",
              "        vertical-align: middle;\n",
              "    }\n",
              "\n",
              "    .dataframe tbody tr th {\n",
              "        vertical-align: top;\n",
              "    }\n",
              "\n",
              "    .dataframe thead th {\n",
              "        text-align: right;\n",
              "    }\n",
              "</style>\n",
              "<table border=\"1\" class=\"dataframe\">\n",
              "  <thead>\n",
              "    <tr style=\"text-align: right;\">\n",
              "      <th></th>\n",
              "      <th>home_ownership_3cat</th>\n",
              "      <th>nrow</th>\n",
              "      <th>mean_bad_loan</th>\n",
              "    </tr>\n",
              "  </thead>\n",
              "  <tbody>\n",
              "    <tr>\n",
              "      <th>0</th>\n",
              "      <td>MORTGAGE</td>\n",
              "      <td>79714</td>\n",
              "      <td>0.164137</td>\n",
              "    </tr>\n",
              "    <tr>\n",
              "      <th>1</th>\n",
              "      <td>OTHER</td>\n",
              "      <td>70713</td>\n",
              "      <td>0.203329</td>\n",
              "    </tr>\n",
              "    <tr>\n",
              "      <th>2</th>\n",
              "      <td>OWN</td>\n",
              "      <td>13560</td>\n",
              "      <td>0.188348</td>\n",
              "    </tr>\n",
              "  </tbody>\n",
              "</table>\n",
              "</div>"
            ],
            "text/plain": [
              "  home_ownership_3cat   nrow  mean_bad_loan\n",
              "0            MORTGAGE  79714       0.164137\n",
              "1               OTHER  70713       0.203329\n",
              "2                 OWN  13560       0.188348"
            ]
          },
          "metadata": {
            "tags": []
          },
          "execution_count": 47
        }
      ]
    },
    {
      "cell_type": "code",
      "metadata": {
        "id": "UkC-zBGqZvp0",
        "colab_type": "code",
        "colab": {}
      },
      "source": [
        "x_train.remove('home_ownership')\n",
        "x_train.append('home_ownership_3cat')"
      ],
      "execution_count": 0,
      "outputs": []
    },
    {
      "cell_type": "markdown",
      "metadata": {
        "id": "TLHnZgRLasZg",
        "colab_type": "text"
      },
      "source": [
        "### 5. Separating Typical from Extreme Annual Income"
      ]
    },
    {
      "cell_type": "code",
      "metadata": {
        "id": "nODKcfU_aJQa",
        "colab_type": "code",
        "outputId": "f8849ad2-6f4d-42b5-a2d7-28450a720cea",
        "colab": {
          "base_uri": "https://localhost:8080/",
          "height": 162
        }
      },
      "source": [
        "train['annual_inc'].quantile([0, 0.05, 0.25, 0.5, 0.75, 0.95, 1])"
      ],
      "execution_count": 49,
      "outputs": [
        {
          "output_type": "display_data",
          "data": {
            "text/html": [
              "<table>\n",
              "<thead>\n",
              "<tr><th style=\"text-align: right;\">  Probs</th><th style=\"text-align: right;\">  annual_incQuantiles</th></tr>\n",
              "</thead>\n",
              "<tbody>\n",
              "<tr><td style=\"text-align: right;\">   0   </td><td style=\"text-align: right;\">       1896          </td></tr>\n",
              "<tr><td style=\"text-align: right;\">   0.05</td><td style=\"text-align: right;\">      27000          </td></tr>\n",
              "<tr><td style=\"text-align: right;\">   0.25</td><td style=\"text-align: right;\">      45000          </td></tr>\n",
              "<tr><td style=\"text-align: right;\">   0.5 </td><td style=\"text-align: right;\">      61000          </td></tr>\n",
              "<tr><td style=\"text-align: right;\">   0.75</td><td style=\"text-align: right;\">      85000          </td></tr>\n",
              "<tr><td style=\"text-align: right;\">   0.95</td><td style=\"text-align: right;\">     145000          </td></tr>\n",
              "<tr><td style=\"text-align: right;\">   1   </td><td style=\"text-align: right;\">          7.14178e+06</td></tr>\n",
              "</tbody>\n",
              "</table>"
            ]
          },
          "metadata": {
            "tags": []
          }
        },
        {
          "output_type": "execute_result",
          "data": {
            "text/plain": [
              ""
            ]
          },
          "metadata": {
            "tags": []
          },
          "execution_count": 49
        }
      ]
    },
    {
      "cell_type": "code",
      "metadata": {
        "id": "G7Qutt_ebPMe",
        "colab_type": "code",
        "colab": {}
      },
      "source": [
        "breaks = np.linspace(0, 150000, 31).tolist()\n",
        "train['annual_inc_cat'] = train['annual_inc'].cut(breaks=breaks)"
      ],
      "execution_count": 0,
      "outputs": []
    },
    {
      "cell_type": "code",
      "metadata": {
        "id": "gJQzBhOrcEOo",
        "colab_type": "code",
        "colab": {}
      },
      "source": [
        "df = mean_target(train, 'annual_inc_cat')"
      ],
      "execution_count": 0,
      "outputs": []
    },
    {
      "cell_type": "code",
      "metadata": {
        "id": "xMDCek4ecSee",
        "colab_type": "code",
        "outputId": "be576b5a-ed8e-4d3d-da76-814d186ee659",
        "colab": {
          "base_uri": "https://localhost:8080/",
          "height": 270
        }
      },
      "source": [
        "plt.yscale('logit')\n",
        "plt.plot(df['annual_inc_cat'].index, df['mean_bad_loan'])\n",
        "plt.show()"
      ],
      "execution_count": 52,
      "outputs": [
        {
          "output_type": "display_data",
          "data": {
            "image/png": "[encoded data removed]",
            "text/plain": [
              "<Figure size 432x288 with 1 Axes>"
            ]
          },
          "metadata": {
            "tags": [],
            "needs_background": "light"
          }
        }
      ]
    },
    {
      "cell_type": "markdown",
      "metadata": {
        "id": "ybp3Zzrr2wVu",
        "colab_type": "text"
      },
      "source": [
        "Looking at the occurance of bad loans on a logit scale reveal that the chance of a bad loan roughly decreases linearly in annual income from \\$10,000 to \\$105,000 and is relatively flat above \\$105,000\n",
        "\n",
        "To reflect this finding in the modeling, we will replace the original annual_inc measure with two derived measures"
      ]
    },
    {
      "cell_type": "code",
      "metadata": {
        "id": "YojGEoutcrzw",
        "colab_type": "code",
        "outputId": "c4a93594-dc23-4fc6-ea5b-5d847dad7ded",
        "colab": {
          "base_uri": "https://localhost:8080/",
          "height": 217
        }
      },
      "source": [
        "df[0:6]"
      ],
      "execution_count": 53,
      "outputs": [
        {
          "output_type": "execute_result",
          "data": {
            "text/html": [
              "<div>\n",
              "<style scoped>\n",
              "    .dataframe tbody tr th:only-of-type {\n",
              "        vertical-align: middle;\n",
              "    }\n",
              "\n",
              "    .dataframe tbody tr th {\n",
              "        vertical-align: top;\n",
              "    }\n",
              "\n",
              "    .dataframe thead th {\n",
              "        text-align: right;\n",
              "    }\n",
              "</style>\n",
              "<table border=\"1\" class=\"dataframe\">\n",
              "  <thead>\n",
              "    <tr style=\"text-align: right;\">\n",
              "      <th></th>\n",
              "      <th>annual_inc_cat</th>\n",
              "      <th>nrow</th>\n",
              "      <th>mean_bad_loan</th>\n",
              "    </tr>\n",
              "  </thead>\n",
              "  <tbody>\n",
              "    <tr>\n",
              "      <th>0</th>\n",
              "      <td>NaN</td>\n",
              "      <td>0</td>\n",
              "      <td>0.126695</td>\n",
              "    </tr>\n",
              "    <tr>\n",
              "      <th>1</th>\n",
              "      <td>(0.0,5000.0]</td>\n",
              "      <td>25</td>\n",
              "      <td>0.240000</td>\n",
              "    </tr>\n",
              "    <tr>\n",
              "      <th>2</th>\n",
              "      <td>(5000.0,10000.0]</td>\n",
              "      <td>192</td>\n",
              "      <td>0.213542</td>\n",
              "    </tr>\n",
              "    <tr>\n",
              "      <th>3</th>\n",
              "      <td>(10000.0,15000.0]</td>\n",
              "      <td>868</td>\n",
              "      <td>0.288018</td>\n",
              "    </tr>\n",
              "    <tr>\n",
              "      <th>4</th>\n",
              "      <td>(15000.0,20000.0]</td>\n",
              "      <td>1847</td>\n",
              "      <td>0.251760</td>\n",
              "    </tr>\n",
              "    <tr>\n",
              "      <th>5</th>\n",
              "      <td>(20000.0,25000.0]</td>\n",
              "      <td>3975</td>\n",
              "      <td>0.241509</td>\n",
              "    </tr>\n",
              "  </tbody>\n",
              "</table>\n",
              "</div>"
            ],
            "text/plain": [
              "      annual_inc_cat  nrow  mean_bad_loan\n",
              "0                NaN     0       0.126695\n",
              "1       (0.0,5000.0]    25       0.240000\n",
              "2   (5000.0,10000.0]   192       0.213542\n",
              "3  (10000.0,15000.0]   868       0.288018\n",
              "4  (15000.0,20000.0]  1847       0.251760\n",
              "5  (20000.0,25000.0]  3975       0.241509"
            ]
          },
          "metadata": {
            "tags": []
          },
          "execution_count": 53
        }
      ]
    },
    {
      "cell_type": "code",
      "metadata": {
        "id": "WeqtvWRoc3jM",
        "colab_type": "code",
        "outputId": "4e020a9a-f1e2-498d-89e4-b40ed811afa1",
        "colab": {
          "base_uri": "https://localhost:8080/",
          "height": 360
        }
      },
      "source": [
        "df[20:31]"
      ],
      "execution_count": 54,
      "outputs": [
        {
          "output_type": "execute_result",
          "data": {
            "text/html": [
              "<div>\n",
              "<style scoped>\n",
              "    .dataframe tbody tr th:only-of-type {\n",
              "        vertical-align: middle;\n",
              "    }\n",
              "\n",
              "    .dataframe tbody tr th {\n",
              "        vertical-align: top;\n",
              "    }\n",
              "\n",
              "    .dataframe thead th {\n",
              "        text-align: right;\n",
              "    }\n",
              "</style>\n",
              "<table border=\"1\" class=\"dataframe\">\n",
              "  <thead>\n",
              "    <tr style=\"text-align: right;\">\n",
              "      <th></th>\n",
              "      <th>annual_inc_cat</th>\n",
              "      <th>nrow</th>\n",
              "      <th>mean_bad_loan</th>\n",
              "    </tr>\n",
              "  </thead>\n",
              "  <tbody>\n",
              "    <tr>\n",
              "      <th>20</th>\n",
              "      <td>(95000.0,100000.0]</td>\n",
              "      <td>5473</td>\n",
              "      <td>0.138315</td>\n",
              "    </tr>\n",
              "    <tr>\n",
              "      <th>21</th>\n",
              "      <td>(100000.0,105000.0]</td>\n",
              "      <td>2860</td>\n",
              "      <td>0.129021</td>\n",
              "    </tr>\n",
              "    <tr>\n",
              "      <th>22</th>\n",
              "      <td>(105000.0,110000.0]</td>\n",
              "      <td>3275</td>\n",
              "      <td>0.133740</td>\n",
              "    </tr>\n",
              "    <tr>\n",
              "      <th>23</th>\n",
              "      <td>(110000.0,115000.0]</td>\n",
              "      <td>1908</td>\n",
              "      <td>0.108491</td>\n",
              "    </tr>\n",
              "    <tr>\n",
              "      <th>24</th>\n",
              "      <td>(115000.0,120000.0]</td>\n",
              "      <td>3009</td>\n",
              "      <td>0.147557</td>\n",
              "    </tr>\n",
              "    <tr>\n",
              "      <th>25</th>\n",
              "      <td>(120000.0,125000.0]</td>\n",
              "      <td>1741</td>\n",
              "      <td>0.125790</td>\n",
              "    </tr>\n",
              "    <tr>\n",
              "      <th>26</th>\n",
              "      <td>(125000.0,130000.0]</td>\n",
              "      <td>1642</td>\n",
              "      <td>0.107186</td>\n",
              "    </tr>\n",
              "    <tr>\n",
              "      <th>27</th>\n",
              "      <td>(130000.0,135000.0]</td>\n",
              "      <td>974</td>\n",
              "      <td>0.120123</td>\n",
              "    </tr>\n",
              "    <tr>\n",
              "      <th>28</th>\n",
              "      <td>(135000.0,140000.0]</td>\n",
              "      <td>1235</td>\n",
              "      <td>0.132794</td>\n",
              "    </tr>\n",
              "    <tr>\n",
              "      <th>29</th>\n",
              "      <td>(140000.0,145000.0]</td>\n",
              "      <td>746</td>\n",
              "      <td>0.107239</td>\n",
              "    </tr>\n",
              "    <tr>\n",
              "      <th>30</th>\n",
              "      <td>(145000.0,150000.0]</td>\n",
              "      <td>1492</td>\n",
              "      <td>0.136729</td>\n",
              "    </tr>\n",
              "  </tbody>\n",
              "</table>\n",
              "</div>"
            ],
            "text/plain": [
              "         annual_inc_cat  nrow  mean_bad_loan\n",
              "20   (95000.0,100000.0]  5473       0.138315\n",
              "21  (100000.0,105000.0]  2860       0.129021\n",
              "22  (105000.0,110000.0]  3275       0.133740\n",
              "23  (110000.0,115000.0]  1908       0.108491\n",
              "24  (115000.0,120000.0]  3009       0.147557\n",
              "25  (120000.0,125000.0]  1741       0.125790\n",
              "26  (125000.0,130000.0]  1642       0.107186\n",
              "27  (130000.0,135000.0]   974       0.120123\n",
              "28  (135000.0,140000.0]  1235       0.132794\n",
              "29  (140000.0,145000.0]   746       0.107239\n",
              "30  (145000.0,150000.0]  1492       0.136729"
            ]
          },
          "metadata": {
            "tags": []
          },
          "execution_count": 54
        }
      ]
    },
    {
      "cell_type": "code",
      "metadata": {
        "id": "YREXTyOcdB6o",
        "colab_type": "code",
        "colab": {}
      },
      "source": [
        "x_train.remove('annual_inc')\n",
        "x_train.append('annual_inc_core')\n",
        "x_train.append('annual_inc_delta')\n",
        "\n",
        "train['annual_inc_core'] = h2o.H2OFrame.ifelse(train['annual_inc'] <= 10000, 10000, train['annual_inc'])\n",
        "train['annual_inc_core'] = h2o.H2OFrame.ifelse(train['annual_inc_core'] <= 105000,\n",
        "                                               train['annual_inc_core'], 105000)\n",
        "\n",
        "train['annual_inc_delta'] = train['annual_inc'] - train['annual_inc_core']"
      ],
      "execution_count": 0,
      "outputs": []
    },
    {
      "cell_type": "markdown",
      "metadata": {
        "id": "b_0nB9gIdzzu",
        "colab_type": "text"
      },
      "source": [
        "### 6. Target Encoding for Loan Purpose"
      ]
    },
    {
      "cell_type": "code",
      "metadata": {
        "id": "WAT2m_3tdtg5",
        "colab_type": "code",
        "outputId": "18b25b76-187c-4a6a-9289-de60414c3c26",
        "colab": {
          "base_uri": "https://localhost:8080/",
          "height": 264
        }
      },
      "source": [
        "tbl = train['purpose'].table().as_data_frame()\n",
        "tbl['Percent'] = np.round((100 * tbl['Count'] / train.nrows), 2)\n",
        "tbl = tbl.sort_values(by='Count', ascending=0)\n",
        "tbl = tbl.reset_index(drop=True)\n",
        "print(tbl)"
      ],
      "execution_count": 56,
      "outputs": [
        {
          "output_type": "stream",
          "text": [
            "               purpose  Count  Percent\n",
            "0   debt_consolidation  93261    56.87\n",
            "1          credit_card  30792    18.78\n",
            "2                other  10492     6.40\n",
            "3     home_improvement   9872     6.02\n",
            "4       major_purchase   4686     2.86\n",
            "5       small_business   3841     2.34\n",
            "6                  car   2842     1.73\n",
            "7              medical   2029     1.24\n",
            "8              wedding   1751     1.07\n",
            "9               moving   1464     0.89\n",
            "10               house   1245     0.76\n",
            "11            vacation   1096     0.67\n",
            "12         educational    418     0.25\n",
            "13    renewable_energy    198     0.12\n"
          ],
          "name": "stdout"
        }
      ]
    },
    {
      "cell_type": "markdown",
      "metadata": {
        "id": "bPqilWzs2kqu",
        "colab_type": "text"
      },
      "source": [
        "Given that there is a high concentration of loans for debt consolidation (56.87%), a sizable number for credit card (18.78%), and the remaining 24.35% loans are spread amongst 12 other purposes, we will use mean target encoding to avoid overfitting of the later group"
      ]
    },
    {
      "cell_type": "code",
      "metadata": {
        "id": "4rq1jENsfXLi",
        "colab_type": "code",
        "outputId": "3f8ac96e-0e7c-475f-94cd-678f2598e39d",
        "colab": {
          "base_uri": "https://localhost:8080/",
          "height": 445
        }
      },
      "source": [
        "mean_target(train, 'purpose')"
      ],
      "execution_count": 57,
      "outputs": [
        {
          "output_type": "execute_result",
          "data": {
            "text/html": [
              "<div>\n",
              "<style scoped>\n",
              "    .dataframe tbody tr th:only-of-type {\n",
              "        vertical-align: middle;\n",
              "    }\n",
              "\n",
              "    .dataframe tbody tr th {\n",
              "        vertical-align: top;\n",
              "    }\n",
              "\n",
              "    .dataframe thead th {\n",
              "        text-align: right;\n",
              "    }\n",
              "</style>\n",
              "<table border=\"1\" class=\"dataframe\">\n",
              "  <thead>\n",
              "    <tr style=\"text-align: right;\">\n",
              "      <th></th>\n",
              "      <th>purpose</th>\n",
              "      <th>nrow</th>\n",
              "      <th>mean_bad_loan</th>\n",
              "    </tr>\n",
              "  </thead>\n",
              "  <tbody>\n",
              "    <tr>\n",
              "      <th>0</th>\n",
              "      <td>car</td>\n",
              "      <td>2842</td>\n",
              "      <td>0.125968</td>\n",
              "    </tr>\n",
              "    <tr>\n",
              "      <th>1</th>\n",
              "      <td>credit_card</td>\n",
              "      <td>30792</td>\n",
              "      <td>0.157281</td>\n",
              "    </tr>\n",
              "    <tr>\n",
              "      <th>2</th>\n",
              "      <td>debt_consolidation</td>\n",
              "      <td>93261</td>\n",
              "      <td>0.189479</td>\n",
              "    </tr>\n",
              "    <tr>\n",
              "      <th>3</th>\n",
              "      <td>educational</td>\n",
              "      <td>418</td>\n",
              "      <td>0.210526</td>\n",
              "    </tr>\n",
              "    <tr>\n",
              "      <th>4</th>\n",
              "      <td>home_improvement</td>\n",
              "      <td>9872</td>\n",
              "      <td>0.155895</td>\n",
              "    </tr>\n",
              "    <tr>\n",
              "      <th>5</th>\n",
              "      <td>house</td>\n",
              "      <td>1245</td>\n",
              "      <td>0.182329</td>\n",
              "    </tr>\n",
              "    <tr>\n",
              "      <th>6</th>\n",
              "      <td>major_purchase</td>\n",
              "      <td>4686</td>\n",
              "      <td>0.137217</td>\n",
              "    </tr>\n",
              "    <tr>\n",
              "      <th>7</th>\n",
              "      <td>medical</td>\n",
              "      <td>2029</td>\n",
              "      <td>0.203056</td>\n",
              "    </tr>\n",
              "    <tr>\n",
              "      <th>8</th>\n",
              "      <td>moving</td>\n",
              "      <td>1464</td>\n",
              "      <td>0.207650</td>\n",
              "    </tr>\n",
              "    <tr>\n",
              "      <th>9</th>\n",
              "      <td>other</td>\n",
              "      <td>10492</td>\n",
              "      <td>0.214354</td>\n",
              "    </tr>\n",
              "    <tr>\n",
              "      <th>10</th>\n",
              "      <td>renewable_energy</td>\n",
              "      <td>198</td>\n",
              "      <td>0.227273</td>\n",
              "    </tr>\n",
              "    <tr>\n",
              "      <th>11</th>\n",
              "      <td>small_business</td>\n",
              "      <td>3841</td>\n",
              "      <td>0.309034</td>\n",
              "    </tr>\n",
              "    <tr>\n",
              "      <th>12</th>\n",
              "      <td>vacation</td>\n",
              "      <td>1096</td>\n",
              "      <td>0.178832</td>\n",
              "    </tr>\n",
              "    <tr>\n",
              "      <th>13</th>\n",
              "      <td>wedding</td>\n",
              "      <td>1751</td>\n",
              "      <td>0.145060</td>\n",
              "    </tr>\n",
              "  </tbody>\n",
              "</table>\n",
              "</div>"
            ],
            "text/plain": [
              "               purpose   nrow  mean_bad_loan\n",
              "0                  car   2842       0.125968\n",
              "1          credit_card  30792       0.157281\n",
              "2   debt_consolidation  93261       0.189479\n",
              "3          educational    418       0.210526\n",
              "4     home_improvement   9872       0.155895\n",
              "5                house   1245       0.182329\n",
              "6       major_purchase   4686       0.137217\n",
              "7              medical   2029       0.203056\n",
              "8               moving   1464       0.207650\n",
              "9                other  10492       0.214354\n",
              "10    renewable_energy    198       0.227273\n",
              "11      small_business   3841       0.309034\n",
              "12            vacation   1096       0.178832\n",
              "13             wedding   1751       0.145060"
            ]
          },
          "metadata": {
            "tags": []
          },
          "execution_count": 57
        }
      ]
    },
    {
      "cell_type": "code",
      "metadata": {
        "id": "09OwqA0Ofol9",
        "colab_type": "code",
        "outputId": "0bf58d40-08df-4a51-efb7-1ee61a618697",
        "colab": {
          "base_uri": "https://localhost:8080/",
          "height": 33
        }
      },
      "source": [
        "te_purpose = mean_target_encoding(train, 'purpose')"
      ],
      "execution_count": 58,
      "outputs": [
        {
          "output_type": "stream",
          "text": [
            "Parse progress: |█████████████████████████████████████████████████████████| 100%\n"
          ],
          "name": "stdout"
        }
      ]
    },
    {
      "cell_type": "code",
      "metadata": {
        "id": "dxHxBsVhf12h",
        "colab_type": "code",
        "colab": {}
      },
      "source": [
        "train = train.merge(te_purpose, all_x=True)"
      ],
      "execution_count": 0,
      "outputs": []
    },
    {
      "cell_type": "code",
      "metadata": {
        "id": "BmHxMaHAgM3p",
        "colab_type": "code",
        "colab": {}
      },
      "source": [
        "x_train.remove('purpose')\n",
        "x_train.append('te_purpose')"
      ],
      "execution_count": 0,
      "outputs": []
    },
    {
      "cell_type": "code",
      "metadata": {
        "id": "lws-z8d6gpFu",
        "colab_type": "code",
        "outputId": "90dbfa08-c3fe-4f30-9d0a-388e88643dc1",
        "colab": {
          "base_uri": "https://localhost:8080/",
          "height": 295
        }
      },
      "source": [
        "train['te_purpose'].hist()"
      ],
      "execution_count": 61,
      "outputs": [
        {
          "output_type": "display_data",
          "data": {
            "image/png": "[encoded data removed]",
            "text/plain": [
              "<Figure size 432x288 with 1 Axes>"
            ]
          },
          "metadata": {
            "tags": [],
            "needs_background": "light"
          }
        }
      ]
    },
    {
      "cell_type": "markdown",
      "metadata": {
        "id": "x5kM9_Ewi_Ca",
        "colab_type": "text"
      },
      "source": [
        "### 7. Target Encoding for State of Residence\n",
        "We will also use a mean target encoding for state of residence for a reason similar to that for purpose\n"
      ]
    },
    {
      "cell_type": "code",
      "metadata": {
        "id": "g0KBVsW6gwQl",
        "colab_type": "code",
        "outputId": "714deb7d-7aca-4587-ba54-74b983b12094",
        "colab": {
          "base_uri": "https://localhost:8080/",
          "height": 858
        }
      },
      "source": [
        "tbl = train['addr_state'].table().as_data_frame()\n",
        "tbl['Percent'] = np.round((100 * tbl['Count'] / train.nrows), 2)\n",
        "tbl = tbl.sort_values(by='Count', ascending=0)\n",
        "tbl = tbl.reset_index(drop=True)\n",
        "print(tbl)"
      ],
      "execution_count": 62,
      "outputs": [
        {
          "output_type": "stream",
          "text": [
            "   addr_state  Count  Percent\n",
            "0          CA  28702    17.50\n",
            "1          NY  14285     8.71\n",
            "2          TX  12128     7.40\n",
            "3          FL  11396     6.95\n",
            "4          NJ   6457     3.94\n",
            "5          IL   6099     3.72\n",
            "6          PA   5427     3.31\n",
            "7          VA   5282     3.22\n",
            "8          GA   5189     3.16\n",
            "9          OH   4896     2.99\n",
            "10         NC   4393     2.68\n",
            "11         MA   4164     2.54\n",
            "12         AZ   3941     2.40\n",
            "13         MD   3890     2.37\n",
            "14         WA   3823     2.33\n",
            "15         MI   3762     2.29\n",
            "16         CO   3531     2.15\n",
            "17         MN   2771     1.69\n",
            "18         MO   2627     1.60\n",
            "19         CT   2563     1.56\n",
            "20         NV   2387     1.46\n",
            "21         OR   2149     1.31\n",
            "22         WI   1980     1.21\n",
            "23         AL   1965     1.20\n",
            "24         LA   1885     1.15\n",
            "25         SC   1826     1.11\n",
            "26         KY   1477     0.90\n",
            "27         IN   1463     0.89\n",
            "28         UT   1389     0.85\n",
            "29         KS   1335     0.81\n",
            "30         OK   1331     0.81\n",
            "31         TN   1327     0.81\n",
            "32         AR   1104     0.67\n",
            "33         HI    955     0.58\n",
            "34         NM    839     0.51\n",
            "35         NH    752     0.46\n",
            "36         WV    714     0.44\n",
            "37         RI    695     0.42\n",
            "38         DC    584     0.36\n",
            "39         MT    483     0.29\n",
            "40         DE    445     0.27\n",
            "41         AK    413     0.25\n",
            "42         WY    376     0.23\n",
            "43         SD    317     0.19\n",
            "44         VT    270     0.16\n",
            "45         MS    163     0.10\n",
            "46         NE     13     0.01\n",
            "47         IA     12     0.01\n",
            "48         ID      9     0.01\n",
            "49         ME      3     0.00\n"
          ],
          "name": "stdout"
        }
      ]
    },
    {
      "cell_type": "code",
      "metadata": {
        "id": "P-rcEjCJBvw3",
        "colab_type": "code",
        "colab": {}
      },
      "source": [
        "df = mean_target(train, 'addr_state')"
      ],
      "execution_count": 0,
      "outputs": []
    },
    {
      "cell_type": "code",
      "metadata": {
        "id": "n-bSQJyaB7H_",
        "colab_type": "code",
        "outputId": "f26c982c-3d19-40aa-dae4-91b743ba0bbf",
        "colab": {
          "base_uri": "https://localhost:8080/",
          "height": 264
        }
      },
      "source": [
        "plt.yscale('logit')\n",
        "plt.plot(df['addr_state'], df['mean_bad_loan'])\n",
        "plt.show()"
      ],
      "execution_count": 64,
      "outputs": [
        {
          "output_type": "display_data",
          "data": {
            "image/png": "[encoded data removed]",
            "text/plain": [
              "<Figure size 432x288 with 1 Axes>"
            ]
          },
          "metadata": {
            "tags": [],
            "needs_background": "light"
          }
        }
      ]
    },
    {
      "cell_type": "code",
      "metadata": {
        "id": "eNnzNt_dCTNo",
        "colab_type": "code",
        "outputId": "cee9690d-31f3-40f3-9a35-a034d30dd3c1",
        "colab": {
          "base_uri": "https://localhost:8080/",
          "height": 33
        }
      },
      "source": [
        "te_addr_state = mean_target_encoding(train, 'addr_state', prior_count=30)"
      ],
      "execution_count": 65,
      "outputs": [
        {
          "output_type": "stream",
          "text": [
            "Parse progress: |█████████████████████████████████████████████████████████| 100%\n"
          ],
          "name": "stdout"
        }
      ]
    },
    {
      "cell_type": "code",
      "metadata": {
        "id": "hnxoZ9ErCsoR",
        "colab_type": "code",
        "colab": {}
      },
      "source": [
        "train = train.merge(te_addr_state, all_x=True)"
      ],
      "execution_count": 0,
      "outputs": []
    },
    {
      "cell_type": "code",
      "metadata": {
        "id": "EBsYxT1SC4LE",
        "colab_type": "code",
        "colab": {}
      },
      "source": [
        "x_train.remove('addr_state')\n",
        "x_train.append('te_addr_state')"
      ],
      "execution_count": 0,
      "outputs": []
    },
    {
      "cell_type": "code",
      "metadata": {
        "id": "-E1dlKniDD2l",
        "colab_type": "code",
        "outputId": "de11b226-f325-49db-c82b-aa8b742931bd",
        "colab": {
          "base_uri": "https://localhost:8080/",
          "height": 295
        }
      },
      "source": [
        "train['te_addr_state'].hist()"
      ],
      "execution_count": 68,
      "outputs": [
        {
          "output_type": "display_data",
          "data": {
            "image/png": "[encoded data removed]",
            "text/plain": [
              "<Figure size 432x288 with 1 Axes>"
            ]
          },
          "metadata": {
            "tags": [],
            "needs_background": "light"
          }
        }
      ]
    },
    {
      "cell_type": "markdown",
      "metadata": {
        "id": "H0L69sAmDUcw",
        "colab_type": "text"
      },
      "source": [
        "### 8. Separating Typical from Extreme Debt to Income Ratio"
      ]
    },
    {
      "cell_type": "code",
      "metadata": {
        "id": "B2y7gGJdDKuY",
        "colab_type": "code",
        "outputId": "b3954fa9-1c06-4998-a6a4-54afd202282f",
        "colab": {
          "base_uri": "https://localhost:8080/",
          "height": 162
        }
      },
      "source": [
        "train['dti'].quantile([0, 0.05, 0.25, 0.5, 0.75, 0.95, 1])"
      ],
      "execution_count": 69,
      "outputs": [
        {
          "output_type": "display_data",
          "data": {
            "text/html": [
              "<table>\n",
              "<thead>\n",
              "<tr><th style=\"text-align: right;\">  Probs</th><th style=\"text-align: right;\">  dtiQuantiles</th></tr>\n",
              "</thead>\n",
              "<tbody>\n",
              "<tr><td style=\"text-align: right;\">   0   </td><td style=\"text-align: right;\">          0   </td></tr>\n",
              "<tr><td style=\"text-align: right;\">   0.05</td><td style=\"text-align: right;\">          3.79</td></tr>\n",
              "<tr><td style=\"text-align: right;\">   0.25</td><td style=\"text-align: right;\">         10.23</td></tr>\n",
              "<tr><td style=\"text-align: right;\">   0.5 </td><td style=\"text-align: right;\">         15.62</td></tr>\n",
              "<tr><td style=\"text-align: right;\">   0.75</td><td style=\"text-align: right;\">         21.26</td></tr>\n",
              "<tr><td style=\"text-align: right;\">   0.95</td><td style=\"text-align: right;\">         29.02</td></tr>\n",
              "<tr><td style=\"text-align: right;\">   1   </td><td style=\"text-align: right;\">         39.99</td></tr>\n",
              "</tbody>\n",
              "</table>"
            ]
          },
          "metadata": {
            "tags": []
          }
        },
        {
          "output_type": "execute_result",
          "data": {
            "text/plain": [
              ""
            ]
          },
          "metadata": {
            "tags": []
          },
          "execution_count": 69
        }
      ]
    },
    {
      "cell_type": "code",
      "metadata": {
        "id": "t2nqVjrKDzYI",
        "colab_type": "code",
        "colab": {}
      },
      "source": [
        "breaks = np.linspace(0, 40, 41).tolist()\n",
        "train['dti_cat'] = train['dti'].cut(breaks=breaks)"
      ],
      "execution_count": 0,
      "outputs": []
    },
    {
      "cell_type": "code",
      "metadata": {
        "id": "t4xsi8MDEebX",
        "colab_type": "code",
        "colab": {}
      },
      "source": [
        "df = mean_target(train, 'dti_cat')"
      ],
      "execution_count": 0,
      "outputs": []
    },
    {
      "cell_type": "code",
      "metadata": {
        "id": "cX512EVfEnSJ",
        "colab_type": "code",
        "outputId": "de4b4c6d-dc8d-42b0-c9fd-13ff5effee5e",
        "colab": {
          "base_uri": "https://localhost:8080/",
          "height": 280
        }
      },
      "source": [
        "plt.yscale('logit')\n",
        "plt.plot(df['dti_cat'].index, df['mean_bad_loan'])\n",
        "plt.show"
      ],
      "execution_count": 72,
      "outputs": [
        {
          "output_type": "execute_result",
          "data": {
            "text/plain": [
              "<function matplotlib.pyplot.show>"
            ]
          },
          "metadata": {
            "tags": []
          },
          "execution_count": 72
        },
        {
          "output_type": "display_data",
          "data": {
            "image/png": "[encoded data removed]",
            "text/plain": [
              "<Figure size 432x288 with 1 Axes>"
            ]
          },
          "metadata": {
            "tags": [],
            "needs_background": "light"
          }
        }
      ]
    },
    {
      "cell_type": "markdown",
      "metadata": {
        "id": "xSAlQiQl2Gm9",
        "colab_type": "text"
      },
      "source": [
        "Looking at the occurance of bad loans on a logit scale reveal that the chance of a bad loan roughly increases linearly in debt-to-income from 5% to 30% and is highly volatile outside of that range due to small numbers of observations. To reflect this finding in the modeling, we will replace the original dti measure with two derived measures"
      ]
    },
    {
      "cell_type": "code",
      "metadata": {
        "id": "MIG2gQ1TE2Cz",
        "colab_type": "code",
        "outputId": "9ed1b38c-c8ac-493c-d7d9-ce179c0d553a",
        "colab": {
          "base_uri": "https://localhost:8080/",
          "height": 360
        }
      },
      "source": [
        "df[30:41]"
      ],
      "execution_count": 73,
      "outputs": [
        {
          "output_type": "execute_result",
          "data": {
            "text/html": [
              "<div>\n",
              "<style scoped>\n",
              "    .dataframe tbody tr th:only-of-type {\n",
              "        vertical-align: middle;\n",
              "    }\n",
              "\n",
              "    .dataframe tbody tr th {\n",
              "        vertical-align: top;\n",
              "    }\n",
              "\n",
              "    .dataframe thead th {\n",
              "        text-align: right;\n",
              "    }\n",
              "</style>\n",
              "<table border=\"1\" class=\"dataframe\">\n",
              "  <thead>\n",
              "    <tr style=\"text-align: right;\">\n",
              "      <th></th>\n",
              "      <th>dti_cat</th>\n",
              "      <th>nrow</th>\n",
              "      <th>mean_bad_loan</th>\n",
              "    </tr>\n",
              "  </thead>\n",
              "  <tbody>\n",
              "    <tr>\n",
              "      <th>30</th>\n",
              "      <td>(29.0,30.0]</td>\n",
              "      <td>2329</td>\n",
              "      <td>0.280378</td>\n",
              "    </tr>\n",
              "    <tr>\n",
              "      <th>31</th>\n",
              "      <td>(30.0,31.0]</td>\n",
              "      <td>1496</td>\n",
              "      <td>0.293449</td>\n",
              "    </tr>\n",
              "    <tr>\n",
              "      <th>32</th>\n",
              "      <td>(31.0,32.0]</td>\n",
              "      <td>1282</td>\n",
              "      <td>0.287051</td>\n",
              "    </tr>\n",
              "    <tr>\n",
              "      <th>33</th>\n",
              "      <td>(32.0,33.0]</td>\n",
              "      <td>1051</td>\n",
              "      <td>0.308278</td>\n",
              "    </tr>\n",
              "    <tr>\n",
              "      <th>34</th>\n",
              "      <td>(33.0,34.0]</td>\n",
              "      <td>1025</td>\n",
              "      <td>0.290732</td>\n",
              "    </tr>\n",
              "    <tr>\n",
              "      <th>35</th>\n",
              "      <td>(34.0,35.0]</td>\n",
              "      <td>750</td>\n",
              "      <td>0.318667</td>\n",
              "    </tr>\n",
              "    <tr>\n",
              "      <th>36</th>\n",
              "      <td>(35.0,36.0]</td>\n",
              "      <td>75</td>\n",
              "      <td>0.160000</td>\n",
              "    </tr>\n",
              "    <tr>\n",
              "      <th>37</th>\n",
              "      <td>(36.0,37.0]</td>\n",
              "      <td>66</td>\n",
              "      <td>0.227273</td>\n",
              "    </tr>\n",
              "    <tr>\n",
              "      <th>38</th>\n",
              "      <td>(37.0,38.0]</td>\n",
              "      <td>65</td>\n",
              "      <td>0.123077</td>\n",
              "    </tr>\n",
              "    <tr>\n",
              "      <th>39</th>\n",
              "      <td>(38.0,39.0]</td>\n",
              "      <td>59</td>\n",
              "      <td>0.322034</td>\n",
              "    </tr>\n",
              "    <tr>\n",
              "      <th>40</th>\n",
              "      <td>(39.0,40.0]</td>\n",
              "      <td>47</td>\n",
              "      <td>0.063830</td>\n",
              "    </tr>\n",
              "  </tbody>\n",
              "</table>\n",
              "</div>"
            ],
            "text/plain": [
              "        dti_cat  nrow  mean_bad_loan\n",
              "30  (29.0,30.0]  2329       0.280378\n",
              "31  (30.0,31.0]  1496       0.293449\n",
              "32  (31.0,32.0]  1282       0.287051\n",
              "33  (32.0,33.0]  1051       0.308278\n",
              "34  (33.0,34.0]  1025       0.290732\n",
              "35  (34.0,35.0]   750       0.318667\n",
              "36  (35.0,36.0]    75       0.160000\n",
              "37  (36.0,37.0]    66       0.227273\n",
              "38  (37.0,38.0]    65       0.123077\n",
              "39  (38.0,39.0]    59       0.322034\n",
              "40  (39.0,40.0]    47       0.063830"
            ]
          },
          "metadata": {
            "tags": []
          },
          "execution_count": 73
        }
      ]
    },
    {
      "cell_type": "code",
      "metadata": {
        "id": "f1Gx46FkFISQ",
        "colab_type": "code",
        "colab": {}
      },
      "source": [
        "x_train.remove('dti')\n",
        "x_train.append('dti_core')\n",
        "x_train.append('dti_delta')\n",
        "\n",
        "train['dti_core'] = h2o.H2OFrame.ifelse(train['dti'] <= 5, 5, train['dti'])\n",
        "train['dti_core'] = h2o.H2OFrame.ifelse(train['dti_core'] <= 30, train['dti_core'], 30)\n",
        "\n",
        "train['dti_delta'] = train['dti'] - train['dti_core']"
      ],
      "execution_count": 0,
      "outputs": []
    },
    {
      "cell_type": "markdown",
      "metadata": {
        "id": "NKT4JZJRFzME",
        "colab_type": "text"
      },
      "source": [
        "### 9. Separating Typical from Extreme Number of Delinquencies in the Past 2 Years\n",
        "\n",
        "The chance of a bad loan seems to max out at 3 delinquent payments in the past two years. To reflect this finding in the modeling, we will replace the original delinq_2yrs measure with two derived measures:"
      ]
    },
    {
      "cell_type": "code",
      "metadata": {
        "id": "m8JUtjrPFnGN",
        "colab_type": "code",
        "outputId": "5b0941be-c46d-4d2c-cbbf-12f7801b85b0",
        "colab": {
          "base_uri": "https://localhost:8080/",
          "height": 162
        }
      },
      "source": [
        "train['delinq_2yrs'].quantile([0, 0.05, 0.25, 0.5, 0.75, 0.95, 1])"
      ],
      "execution_count": 75,
      "outputs": [
        {
          "output_type": "display_data",
          "data": {
            "text/html": [
              "<table>\n",
              "<thead>\n",
              "<tr><th style=\"text-align: right;\">  Probs</th><th style=\"text-align: right;\">  delinq_2yrsQuantiles</th></tr>\n",
              "</thead>\n",
              "<tbody>\n",
              "<tr><td style=\"text-align: right;\">   0   </td><td style=\"text-align: right;\">                     0</td></tr>\n",
              "<tr><td style=\"text-align: right;\">   0.05</td><td style=\"text-align: right;\">                     0</td></tr>\n",
              "<tr><td style=\"text-align: right;\">   0.25</td><td style=\"text-align: right;\">                     0</td></tr>\n",
              "<tr><td style=\"text-align: right;\">   0.5 </td><td style=\"text-align: right;\">                     0</td></tr>\n",
              "<tr><td style=\"text-align: right;\">   0.75</td><td style=\"text-align: right;\">                     0</td></tr>\n",
              "<tr><td style=\"text-align: right;\">   0.95</td><td style=\"text-align: right;\">                     1</td></tr>\n",
              "<tr><td style=\"text-align: right;\">   1   </td><td style=\"text-align: right;\">                    29</td></tr>\n",
              "</tbody>\n",
              "</table>"
            ]
          },
          "metadata": {
            "tags": []
          }
        },
        {
          "output_type": "execute_result",
          "data": {
            "text/plain": [
              ""
            ]
          },
          "metadata": {
            "tags": []
          },
          "execution_count": 75
        }
      ]
    },
    {
      "cell_type": "code",
      "metadata": {
        "id": "FEX3_NzSGydN",
        "colab_type": "code",
        "colab": {}
      },
      "source": [
        "breaks = np.linspace(0, 5, 6).tolist()\n",
        "train['delinq_2yrs_cat'] = train['delinq_2yrs'].cut(breaks=breaks)"
      ],
      "execution_count": 0,
      "outputs": []
    },
    {
      "cell_type": "code",
      "metadata": {
        "id": "WUxLrsb0ILfl",
        "colab_type": "code",
        "outputId": "16e9f050-fba3-42fc-cc78-4e27755ff3ba",
        "colab": {
          "base_uri": "https://localhost:8080/",
          "height": 217
        }
      },
      "source": [
        "mean_target(train, 'delinq_2yrs_cat')"
      ],
      "execution_count": 77,
      "outputs": [
        {
          "output_type": "execute_result",
          "data": {
            "text/html": [
              "<div>\n",
              "<style scoped>\n",
              "    .dataframe tbody tr th:only-of-type {\n",
              "        vertical-align: middle;\n",
              "    }\n",
              "\n",
              "    .dataframe tbody tr th {\n",
              "        vertical-align: top;\n",
              "    }\n",
              "\n",
              "    .dataframe thead th {\n",
              "        text-align: right;\n",
              "    }\n",
              "</style>\n",
              "<table border=\"1\" class=\"dataframe\">\n",
              "  <thead>\n",
              "    <tr style=\"text-align: right;\">\n",
              "      <th></th>\n",
              "      <th>delinq_2yrs_cat</th>\n",
              "      <th>nrow</th>\n",
              "      <th>mean_bad_loan</th>\n",
              "    </tr>\n",
              "  </thead>\n",
              "  <tbody>\n",
              "    <tr>\n",
              "      <th>0</th>\n",
              "      <td>NaN</td>\n",
              "      <td>0</td>\n",
              "      <td>0.181037</td>\n",
              "    </tr>\n",
              "    <tr>\n",
              "      <th>1</th>\n",
              "      <td>(0.0,1.0]</td>\n",
              "      <td>17158</td>\n",
              "      <td>0.189299</td>\n",
              "    </tr>\n",
              "    <tr>\n",
              "      <th>2</th>\n",
              "      <td>(1.0,2.0]</td>\n",
              "      <td>4635</td>\n",
              "      <td>0.201510</td>\n",
              "    </tr>\n",
              "    <tr>\n",
              "      <th>3</th>\n",
              "      <td>(2.0,3.0]</td>\n",
              "      <td>1488</td>\n",
              "      <td>0.221774</td>\n",
              "    </tr>\n",
              "    <tr>\n",
              "      <th>4</th>\n",
              "      <td>(3.0,4.0]</td>\n",
              "      <td>579</td>\n",
              "      <td>0.215889</td>\n",
              "    </tr>\n",
              "    <tr>\n",
              "      <th>5</th>\n",
              "      <td>(4.0,5.0]</td>\n",
              "      <td>310</td>\n",
              "      <td>0.216129</td>\n",
              "    </tr>\n",
              "  </tbody>\n",
              "</table>\n",
              "</div>"
            ],
            "text/plain": [
              "  delinq_2yrs_cat   nrow  mean_bad_loan\n",
              "0             NaN      0       0.181037\n",
              "1       (0.0,1.0]  17158       0.189299\n",
              "2       (1.0,2.0]   4635       0.201510\n",
              "3       (2.0,3.0]   1488       0.221774\n",
              "4       (3.0,4.0]    579       0.215889\n",
              "5       (4.0,5.0]    310       0.216129"
            ]
          },
          "metadata": {
            "tags": []
          },
          "execution_count": 77
        }
      ]
    },
    {
      "cell_type": "code",
      "metadata": {
        "id": "-Z7580T-IjMP",
        "colab_type": "code",
        "colab": {}
      },
      "source": [
        "x_train.remove('delinq_2yrs')\n",
        "x_train.append('delinq_2yrs_core')\n",
        "x_train.append('delinq_2yrs_delta')\n",
        "\n",
        "train['delinq_2yrs_core'] = h2o.H2OFrame.ifelse(train['delinq_2yrs'] <= 3, train['delinq_2yrs'], 3)\n",
        "\n",
        "train['delinq_2yrs_delta'] = train['delinq_2yrs'] - train['delinq_2yrs_core']"
      ],
      "execution_count": 0,
      "outputs": []
    },
    {
      "cell_type": "markdown",
      "metadata": {
        "id": "wEHgHHuHZhQF",
        "colab_type": "text"
      },
      "source": [
        "### 10. Separating Typical from Extreme Revolving Credit Line Utilized"
      ]
    },
    {
      "cell_type": "code",
      "metadata": {
        "id": "yIJG4JwFZVyC",
        "colab_type": "code",
        "outputId": "0fc5bbac-92f2-42e7-a590-f8866274142c",
        "colab": {
          "base_uri": "https://localhost:8080/",
          "height": 162
        }
      },
      "source": [
        "train['revol_util'].quantile([0, 0.05, 0.25, 0.5, 0.75, 0.95, 1])"
      ],
      "execution_count": 79,
      "outputs": [
        {
          "output_type": "display_data",
          "data": {
            "text/html": [
              "<table>\n",
              "<thead>\n",
              "<tr><th style=\"text-align: right;\">  Probs</th><th style=\"text-align: right;\">  revol_utilQuantiles</th></tr>\n",
              "</thead>\n",
              "<tbody>\n",
              "<tr><td style=\"text-align: right;\">   0   </td><td style=\"text-align: right;\">                  0  </td></tr>\n",
              "<tr><td style=\"text-align: right;\">   0.05</td><td style=\"text-align: right;\">                  8.7</td></tr>\n",
              "<tr><td style=\"text-align: right;\">   0.25</td><td style=\"text-align: right;\">                 35.6</td></tr>\n",
              "<tr><td style=\"text-align: right;\">   0.5 </td><td style=\"text-align: right;\">                 55.8</td></tr>\n",
              "<tr><td style=\"text-align: right;\">   0.75</td><td style=\"text-align: right;\">                 74.2</td></tr>\n",
              "<tr><td style=\"text-align: right;\">   0.95</td><td style=\"text-align: right;\">                 92.5</td></tr>\n",
              "<tr><td style=\"text-align: right;\">   1   </td><td style=\"text-align: right;\">                150.7</td></tr>\n",
              "</tbody>\n",
              "</table>"
            ]
          },
          "metadata": {
            "tags": []
          }
        },
        {
          "output_type": "execute_result",
          "data": {
            "text/plain": [
              ""
            ]
          },
          "metadata": {
            "tags": []
          },
          "execution_count": 79
        }
      ]
    },
    {
      "cell_type": "code",
      "metadata": {
        "id": "msMW8CUBZ_Fm",
        "colab_type": "code",
        "colab": {}
      },
      "source": [
        "breaks = np.linspace(0, 120, 25).tolist()\n",
        "train['revol_util_cat'] = train['revol_util'].cut(breaks=breaks)"
      ],
      "execution_count": 0,
      "outputs": []
    },
    {
      "cell_type": "code",
      "metadata": {
        "id": "sINXyYU-ahdm",
        "colab_type": "code",
        "colab": {}
      },
      "source": [
        "df = mean_target(train, 'revol_util_cat')"
      ],
      "execution_count": 0,
      "outputs": []
    },
    {
      "cell_type": "code",
      "metadata": {
        "id": "O6Iilz1Pay6a",
        "colab_type": "code",
        "outputId": "0b9a5a54-b9cb-4b8a-a174-f3f7a57c5828",
        "colab": {
          "base_uri": "https://localhost:8080/",
          "height": 270
        }
      },
      "source": [
        "plt.yscale('logit')\n",
        "plt.plot(df['revol_util_cat'].index, df['mean_bad_loan'])\n",
        "plt.show()"
      ],
      "execution_count": 82,
      "outputs": [
        {
          "output_type": "display_data",
          "data": {
            "image/png": "[encoded data removed]",
            "text/plain": [
              "<Figure size 432x288 with 1 Axes>"
            ]
          },
          "metadata": {
            "tags": [],
            "needs_background": "light"
          }
        }
      ]
    },
    {
      "cell_type": "markdown",
      "metadata": {
        "id": "rQbecRCtywJh",
        "colab_type": "text"
      },
      "source": [
        "The relationship between credit line utilized is somewhat interesting. There appears to be a higher rate for a bad loan when 0% of the credit lines are utilized, then it drops down slightly and roughly increases linearly in credit line utilized up to 100%. To reflect this finding in the modeling, we will replace the original revol_util measure with three derived measures:"
      ]
    },
    {
      "cell_type": "code",
      "metadata": {
        "id": "vJ9rRiCRbFdo",
        "colab_type": "code",
        "outputId": "d17c1a78-1e12-45a6-c4ba-71564a4ab3e1",
        "colab": {
          "base_uri": "https://localhost:8080/",
          "height": 189
        }
      },
      "source": [
        "df[20:25]"
      ],
      "execution_count": 83,
      "outputs": [
        {
          "output_type": "execute_result",
          "data": {
            "text/html": [
              "<div>\n",
              "<style scoped>\n",
              "    .dataframe tbody tr th:only-of-type {\n",
              "        vertical-align: middle;\n",
              "    }\n",
              "\n",
              "    .dataframe tbody tr th {\n",
              "        vertical-align: top;\n",
              "    }\n",
              "\n",
              "    .dataframe thead th {\n",
              "        text-align: right;\n",
              "    }\n",
              "</style>\n",
              "<table border=\"1\" class=\"dataframe\">\n",
              "  <thead>\n",
              "    <tr style=\"text-align: right;\">\n",
              "      <th></th>\n",
              "      <th>revol_util_cat</th>\n",
              "      <th>nrow</th>\n",
              "      <th>mean_bad_loan</th>\n",
              "    </tr>\n",
              "  </thead>\n",
              "  <tbody>\n",
              "    <tr>\n",
              "      <th>20</th>\n",
              "      <td>(95.0,100.0]</td>\n",
              "      <td>4316</td>\n",
              "      <td>0.255097</td>\n",
              "    </tr>\n",
              "    <tr>\n",
              "      <th>21</th>\n",
              "      <td>(100.0,105.0]</td>\n",
              "      <td>238</td>\n",
              "      <td>0.260504</td>\n",
              "    </tr>\n",
              "    <tr>\n",
              "      <th>22</th>\n",
              "      <td>(105.0,110.0]</td>\n",
              "      <td>35</td>\n",
              "      <td>0.200000</td>\n",
              "    </tr>\n",
              "    <tr>\n",
              "      <th>23</th>\n",
              "      <td>(110.0,115.0]</td>\n",
              "      <td>9</td>\n",
              "      <td>0.333333</td>\n",
              "    </tr>\n",
              "    <tr>\n",
              "      <th>24</th>\n",
              "      <td>(115.0,120.0]</td>\n",
              "      <td>3</td>\n",
              "      <td>0.000000</td>\n",
              "    </tr>\n",
              "  </tbody>\n",
              "</table>\n",
              "</div>"
            ],
            "text/plain": [
              "   revol_util_cat  nrow  mean_bad_loan\n",
              "20   (95.0,100.0]  4316       0.255097\n",
              "21  (100.0,105.0]   238       0.260504\n",
              "22  (105.0,110.0]    35       0.200000\n",
              "23  (110.0,115.0]     9       0.333333\n",
              "24  (115.0,120.0]     3       0.000000"
            ]
          },
          "metadata": {
            "tags": []
          },
          "execution_count": 83
        }
      ]
    },
    {
      "cell_type": "code",
      "metadata": {
        "id": "wFlSWbRobJj0",
        "colab_type": "code",
        "colab": {}
      },
      "source": [
        "x_train.remove('revol_util')\n",
        "x_train.append('revol_util_0')\n",
        "x_train.append('revol_util_core')\n",
        "x_train.append('revol_util_delta')\n",
        "\n",
        "train['revol_util_0'] = train['revol_util'] == 0\n",
        "\n",
        "train['revol_util_core'] = h2o.H2OFrame.ifelse(train['revol_util'] <= 100, train['revol_util'], 100)\n",
        "\n",
        "train['revol_util_delta'] = train['revol_util'] - train['revol_util_core']"
      ],
      "execution_count": 0,
      "outputs": []
    },
    {
      "cell_type": "markdown",
      "metadata": {
        "id": "3ZRx2PaKbva9",
        "colab_type": "text"
      },
      "source": [
        "### 11. Separating Typical from Extreme Number of Credit Lines"
      ]
    },
    {
      "cell_type": "code",
      "metadata": {
        "id": "o6YZ5j97bn56",
        "colab_type": "code",
        "outputId": "6ed104c8-4464-410b-8ecb-15af1e5e4141",
        "colab": {
          "base_uri": "https://localhost:8080/",
          "height": 162
        }
      },
      "source": [
        "train['total_acc'].quantile([0, 0.05, 0.25, 0.5, 0.75, 0.95, 1])"
      ],
      "execution_count": 85,
      "outputs": [
        {
          "output_type": "display_data",
          "data": {
            "text/html": [
              "<table>\n",
              "<thead>\n",
              "<tr><th style=\"text-align: right;\">  Probs</th><th style=\"text-align: right;\">  total_accQuantiles</th></tr>\n",
              "</thead>\n",
              "<tbody>\n",
              "<tr><td style=\"text-align: right;\">   0   </td><td style=\"text-align: right;\">                   1</td></tr>\n",
              "<tr><td style=\"text-align: right;\">   0.05</td><td style=\"text-align: right;\">                   8</td></tr>\n",
              "<tr><td style=\"text-align: right;\">   0.25</td><td style=\"text-align: right;\">                  16</td></tr>\n",
              "<tr><td style=\"text-align: right;\">   0.5 </td><td style=\"text-align: right;\">                  23</td></tr>\n",
              "<tr><td style=\"text-align: right;\">   0.75</td><td style=\"text-align: right;\">                  31</td></tr>\n",
              "<tr><td style=\"text-align: right;\">   0.95</td><td style=\"text-align: right;\">                  46</td></tr>\n",
              "<tr><td style=\"text-align: right;\">   1   </td><td style=\"text-align: right;\">                 118</td></tr>\n",
              "</tbody>\n",
              "</table>"
            ]
          },
          "metadata": {
            "tags": []
          }
        },
        {
          "output_type": "execute_result",
          "data": {
            "text/plain": [
              ""
            ]
          },
          "metadata": {
            "tags": []
          },
          "execution_count": 85
        }
      ]
    },
    {
      "cell_type": "code",
      "metadata": {
        "id": "iR6pvnV1fNnr",
        "colab_type": "code",
        "colab": {}
      },
      "source": [
        "breaks = np.linspace(0, 60, 13).tolist()\n",
        "train['total_acc_cat'] = train['total_acc'].cut(breaks=breaks)"
      ],
      "execution_count": 0,
      "outputs": []
    },
    {
      "cell_type": "code",
      "metadata": {
        "id": "lgE0MNd4fYqw",
        "colab_type": "code",
        "colab": {}
      },
      "source": [
        "df = mean_target(train, 'total_acc_cat')"
      ],
      "execution_count": 0,
      "outputs": []
    },
    {
      "cell_type": "code",
      "metadata": {
        "id": "GF0VnH_hfhD7",
        "colab_type": "code",
        "outputId": "2d4655bc-2ea2-4cc9-ebe5-c43970fae5fb",
        "colab": {
          "base_uri": "https://localhost:8080/",
          "height": 264
        }
      },
      "source": [
        "plt.yscale('logit')\n",
        "plt.plot(df['total_acc_cat'].index, df['mean_bad_loan'])\n",
        "plt.show()"
      ],
      "execution_count": 88,
      "outputs": [
        {
          "output_type": "display_data",
          "data": {
            "image/png": "[encoded data removed]",
            "text/plain": [
              "<Figure size 432x288 with 1 Axes>"
            ]
          },
          "metadata": {
            "tags": [],
            "needs_background": "light"
          }
        }
      ]
    },
    {
      "cell_type": "markdown",
      "metadata": {
        "id": "2RF9lOPW0V_s",
        "colab_type": "text"
      },
      "source": [
        "Looking at the occurance of bad loans on a logit scale reveal that the chance of a bad loan roughly decreases linearly in number of lines of credit up to about 50. To reflect this finding in the modeling, we will replace the original total_acc measure with two derived measures"
      ]
    },
    {
      "cell_type": "code",
      "metadata": {
        "id": "OI79tsTQfoaz",
        "colab_type": "code",
        "outputId": "3d041dd5-226b-4f44-d2f5-1b3e84fd6074",
        "colab": {
          "base_uri": "https://localhost:8080/",
          "height": 72
        }
      },
      "source": [
        "(train['total_acc'] == None).table()"
      ],
      "execution_count": 89,
      "outputs": [
        {
          "output_type": "display_data",
          "data": {
            "text/html": [
              "<table>\n",
              "<thead>\n",
              "<tr><th style=\"text-align: right;\">  C1</th><th style=\"text-align: right;\">  Count</th></tr>\n",
              "</thead>\n",
              "<tbody>\n",
              "<tr><td style=\"text-align: right;\">   0</td><td style=\"text-align: right;\"> 163958</td></tr>\n",
              "<tr><td style=\"text-align: right;\">   1</td><td style=\"text-align: right;\">     29</td></tr>\n",
              "</tbody>\n",
              "</table>"
            ]
          },
          "metadata": {
            "tags": []
          }
        },
        {
          "output_type": "execute_result",
          "data": {
            "text/plain": [
              ""
            ]
          },
          "metadata": {
            "tags": []
          },
          "execution_count": 89
        }
      ]
    },
    {
      "cell_type": "code",
      "metadata": {
        "id": "3rgaBH21f12r",
        "colab_type": "code",
        "outputId": "e66c39e5-3b3b-4b51-f0e3-661a9ae7bfe6",
        "colab": {
          "base_uri": "https://localhost:8080/",
          "height": 132
        }
      },
      "source": [
        "df[0:3]"
      ],
      "execution_count": 90,
      "outputs": [
        {
          "output_type": "execute_result",
          "data": {
            "text/html": [
              "<div>\n",
              "<style scoped>\n",
              "    .dataframe tbody tr th:only-of-type {\n",
              "        vertical-align: middle;\n",
              "    }\n",
              "\n",
              "    .dataframe tbody tr th {\n",
              "        vertical-align: top;\n",
              "    }\n",
              "\n",
              "    .dataframe thead th {\n",
              "        text-align: right;\n",
              "    }\n",
              "</style>\n",
              "<table border=\"1\" class=\"dataframe\">\n",
              "  <thead>\n",
              "    <tr style=\"text-align: right;\">\n",
              "      <th></th>\n",
              "      <th>total_acc_cat</th>\n",
              "      <th>nrow</th>\n",
              "      <th>mean_bad_loan</th>\n",
              "    </tr>\n",
              "  </thead>\n",
              "  <tbody>\n",
              "    <tr>\n",
              "      <th>0</th>\n",
              "      <td>NaN</td>\n",
              "      <td>0</td>\n",
              "      <td>0.153788</td>\n",
              "    </tr>\n",
              "    <tr>\n",
              "      <th>1</th>\n",
              "      <td>(0.0,5.0]</td>\n",
              "      <td>2309</td>\n",
              "      <td>0.226072</td>\n",
              "    </tr>\n",
              "    <tr>\n",
              "      <th>2</th>\n",
              "      <td>(5.0,10.0]</td>\n",
              "      <td>12717</td>\n",
              "      <td>0.210034</td>\n",
              "    </tr>\n",
              "  </tbody>\n",
              "</table>\n",
              "</div>"
            ],
            "text/plain": [
              "  total_acc_cat   nrow  mean_bad_loan\n",
              "0           NaN      0       0.153788\n",
              "1     (0.0,5.0]   2309       0.226072\n",
              "2    (5.0,10.0]  12717       0.210034"
            ]
          },
          "metadata": {
            "tags": []
          },
          "execution_count": 90
        }
      ]
    },
    {
      "cell_type": "code",
      "metadata": {
        "id": "7hpgnckNf4y7",
        "colab_type": "code",
        "outputId": "53cabc4a-715f-42c8-d04a-07c505835327",
        "colab": {
          "base_uri": "https://localhost:8080/",
          "height": 189
        }
      },
      "source": [
        "df[8:13]"
      ],
      "execution_count": 91,
      "outputs": [
        {
          "output_type": "execute_result",
          "data": {
            "text/html": [
              "<div>\n",
              "<style scoped>\n",
              "    .dataframe tbody tr th:only-of-type {\n",
              "        vertical-align: middle;\n",
              "    }\n",
              "\n",
              "    .dataframe tbody tr th {\n",
              "        vertical-align: top;\n",
              "    }\n",
              "\n",
              "    .dataframe thead th {\n",
              "        text-align: right;\n",
              "    }\n",
              "</style>\n",
              "<table border=\"1\" class=\"dataframe\">\n",
              "  <thead>\n",
              "    <tr style=\"text-align: right;\">\n",
              "      <th></th>\n",
              "      <th>total_acc_cat</th>\n",
              "      <th>nrow</th>\n",
              "      <th>mean_bad_loan</th>\n",
              "    </tr>\n",
              "  </thead>\n",
              "  <tbody>\n",
              "    <tr>\n",
              "      <th>8</th>\n",
              "      <td>(35.0,40.0]</td>\n",
              "      <td>11251</td>\n",
              "      <td>0.163719</td>\n",
              "    </tr>\n",
              "    <tr>\n",
              "      <th>9</th>\n",
              "      <td>(40.0,45.0]</td>\n",
              "      <td>7174</td>\n",
              "      <td>0.161137</td>\n",
              "    </tr>\n",
              "    <tr>\n",
              "      <th>10</th>\n",
              "      <td>(45.0,50.0]</td>\n",
              "      <td>4203</td>\n",
              "      <td>0.157507</td>\n",
              "    </tr>\n",
              "    <tr>\n",
              "      <th>11</th>\n",
              "      <td>(50.0,55.0]</td>\n",
              "      <td>2350</td>\n",
              "      <td>0.140426</td>\n",
              "    </tr>\n",
              "    <tr>\n",
              "      <th>12</th>\n",
              "      <td>(55.0,60.0]</td>\n",
              "      <td>1287</td>\n",
              "      <td>0.165501</td>\n",
              "    </tr>\n",
              "  </tbody>\n",
              "</table>\n",
              "</div>"
            ],
            "text/plain": [
              "   total_acc_cat   nrow  mean_bad_loan\n",
              "8    (35.0,40.0]  11251       0.163719\n",
              "9    (40.0,45.0]   7174       0.161137\n",
              "10   (45.0,50.0]   4203       0.157507\n",
              "11   (50.0,55.0]   2350       0.140426\n",
              "12   (55.0,60.0]   1287       0.165501"
            ]
          },
          "metadata": {
            "tags": []
          },
          "execution_count": 91
        }
      ]
    },
    {
      "cell_type": "code",
      "metadata": {
        "id": "98VYrOD4gALy",
        "colab_type": "code",
        "colab": {}
      },
      "source": [
        "x_train.remove('total_acc')\n",
        "x_train.append('total_acc_core')\n",
        "x_train.append('total_acc_delta')\n",
        "\n",
        "train['total_acc_core'] = h2o.H2OFrame.ifelse(train['total_acc'] <= 50, train['total_acc'], 50)\n",
        "\n",
        "train['total_acc_delta'] = train['total_acc'] - train['total_acc_core']"
      ],
      "execution_count": 0,
      "outputs": []
    },
    {
      "cell_type": "markdown",
      "metadata": {
        "id": "1PrD0jacgZBd",
        "colab_type": "text"
      },
      "source": [
        "### 12. Separating Typical from Extreme Longest Credit Length"
      ]
    },
    {
      "cell_type": "code",
      "metadata": {
        "id": "vTFWFr6IgUxP",
        "colab_type": "code",
        "outputId": "8217a9e4-8dc1-4de7-bc1a-b0129107b561",
        "colab": {
          "base_uri": "https://localhost:8080/",
          "height": 162
        }
      },
      "source": [
        "train['longest_credit_length'].quantile([0, 0.05, 0.25, 0.5, 0.75, 0.95, 1])"
      ],
      "execution_count": 93,
      "outputs": [
        {
          "output_type": "display_data",
          "data": {
            "text/html": [
              "<table>\n",
              "<thead>\n",
              "<tr><th style=\"text-align: right;\">  Probs</th><th style=\"text-align: right;\">  longest_credit_lengthQuantiles</th></tr>\n",
              "</thead>\n",
              "<tbody>\n",
              "<tr><td style=\"text-align: right;\">   0   </td><td style=\"text-align: right;\">                               0</td></tr>\n",
              "<tr><td style=\"text-align: right;\">   0.05</td><td style=\"text-align: right;\">                               6</td></tr>\n",
              "<tr><td style=\"text-align: right;\">   0.25</td><td style=\"text-align: right;\">                              10</td></tr>\n",
              "<tr><td style=\"text-align: right;\">   0.5 </td><td style=\"text-align: right;\">                              14</td></tr>\n",
              "<tr><td style=\"text-align: right;\">   0.75</td><td style=\"text-align: right;\">                              18</td></tr>\n",
              "<tr><td style=\"text-align: right;\">   0.95</td><td style=\"text-align: right;\">                              28</td></tr>\n",
              "<tr><td style=\"text-align: right;\">   1   </td><td style=\"text-align: right;\">                              65</td></tr>\n",
              "</tbody>\n",
              "</table>"
            ]
          },
          "metadata": {
            "tags": []
          }
        },
        {
          "output_type": "execute_result",
          "data": {
            "text/plain": [
              ""
            ]
          },
          "metadata": {
            "tags": []
          },
          "execution_count": 93
        }
      ]
    },
    {
      "cell_type": "code",
      "metadata": {
        "id": "JHgpq4xagq79",
        "colab_type": "code",
        "colab": {}
      },
      "source": [
        "breaks = np.linspace(0, 25, 26).tolist()\n",
        "train['longest_credit_length_cat'] = train['longest_credit_length'].cut(breaks=breaks)"
      ],
      "execution_count": 0,
      "outputs": []
    },
    {
      "cell_type": "code",
      "metadata": {
        "id": "OzZKIRuOgzcN",
        "colab_type": "code",
        "colab": {}
      },
      "source": [
        "df = mean_target(train, 'longest_credit_length_cat')"
      ],
      "execution_count": 0,
      "outputs": []
    },
    {
      "cell_type": "code",
      "metadata": {
        "id": "HpQ21Regg7u1",
        "colab_type": "code",
        "outputId": "874b3332-ed40-42c2-b266-75b2130a273e",
        "colab": {
          "base_uri": "https://localhost:8080/",
          "height": 264
        }
      },
      "source": [
        "plt.yscale('logit')\n",
        "plt.plot(df['longest_credit_length_cat'].index, df['mean_bad_loan'])\n",
        "plt.show()"
      ],
      "execution_count": 96,
      "outputs": [
        {
          "output_type": "display_data",
          "data": {
            "image/png": "[encoded data removed]",
            "text/plain": [
              "<Figure size 432x288 with 1 Axes>"
            ]
          },
          "metadata": {
            "tags": [],
            "needs_background": "light"
          }
        }
      ]
    },
    {
      "cell_type": "markdown",
      "metadata": {
        "id": "QedFKtnO00bH",
        "colab_type": "text"
      },
      "source": [
        "Looking at the occurance of bad loans on a logit scale reveal that the chance of a bad loan roughly decreases linearly in longest credit length from 3 to 20 years and is highly volatile outside of that range due to small numbers of observations. To reflect this finding in the modeling, we will replace the original longest_credit_length measure with two derived measures"
      ]
    },
    {
      "cell_type": "code",
      "metadata": {
        "id": "AfAc1c4ahCLj",
        "colab_type": "code",
        "outputId": "5e843d7f-fc1b-4700-be0d-2e4c4bcd8f09",
        "colab": {
          "base_uri": "https://localhost:8080/",
          "height": 160
        }
      },
      "source": [
        "df[0:4]"
      ],
      "execution_count": 97,
      "outputs": [
        {
          "output_type": "execute_result",
          "data": {
            "text/html": [
              "<div>\n",
              "<style scoped>\n",
              "    .dataframe tbody tr th:only-of-type {\n",
              "        vertical-align: middle;\n",
              "    }\n",
              "\n",
              "    .dataframe tbody tr th {\n",
              "        vertical-align: top;\n",
              "    }\n",
              "\n",
              "    .dataframe thead th {\n",
              "        text-align: right;\n",
              "    }\n",
              "</style>\n",
              "<table border=\"1\" class=\"dataframe\">\n",
              "  <thead>\n",
              "    <tr style=\"text-align: right;\">\n",
              "      <th></th>\n",
              "      <th>longest_credit_length_cat</th>\n",
              "      <th>nrow</th>\n",
              "      <th>mean_bad_loan</th>\n",
              "    </tr>\n",
              "  </thead>\n",
              "  <tbody>\n",
              "    <tr>\n",
              "      <th>0</th>\n",
              "      <td>NaN</td>\n",
              "      <td>0</td>\n",
              "      <td>0.171094</td>\n",
              "    </tr>\n",
              "    <tr>\n",
              "      <th>1</th>\n",
              "      <td>(0.0,1.0]</td>\n",
              "      <td>67</td>\n",
              "      <td>0.253731</td>\n",
              "    </tr>\n",
              "    <tr>\n",
              "      <th>2</th>\n",
              "      <td>(1.0,2.0]</td>\n",
              "      <td>100</td>\n",
              "      <td>0.300000</td>\n",
              "    </tr>\n",
              "    <tr>\n",
              "      <th>3</th>\n",
              "      <td>(2.0,3.0]</td>\n",
              "      <td>914</td>\n",
              "      <td>0.205689</td>\n",
              "    </tr>\n",
              "  </tbody>\n",
              "</table>\n",
              "</div>"
            ],
            "text/plain": [
              "  longest_credit_length_cat  nrow  mean_bad_loan\n",
              "0                       NaN     0       0.171094\n",
              "1                 (0.0,1.0]    67       0.253731\n",
              "2                 (1.0,2.0]   100       0.300000\n",
              "3                 (2.0,3.0]   914       0.205689"
            ]
          },
          "metadata": {
            "tags": []
          },
          "execution_count": 97
        }
      ]
    },
    {
      "cell_type": "code",
      "metadata": {
        "id": "ZGAwDjw6hF8j",
        "colab_type": "code",
        "outputId": "542ddb10-3a23-4ad3-97db-27adf20c2b17",
        "colab": {
          "base_uri": "https://localhost:8080/",
          "height": 217
        }
      },
      "source": [
        "df[20:26]"
      ],
      "execution_count": 98,
      "outputs": [
        {
          "output_type": "execute_result",
          "data": {
            "text/html": [
              "<div>\n",
              "<style scoped>\n",
              "    .dataframe tbody tr th:only-of-type {\n",
              "        vertical-align: middle;\n",
              "    }\n",
              "\n",
              "    .dataframe tbody tr th {\n",
              "        vertical-align: top;\n",
              "    }\n",
              "\n",
              "    .dataframe thead th {\n",
              "        text-align: right;\n",
              "    }\n",
              "</style>\n",
              "<table border=\"1\" class=\"dataframe\">\n",
              "  <thead>\n",
              "    <tr style=\"text-align: right;\">\n",
              "      <th></th>\n",
              "      <th>longest_credit_length_cat</th>\n",
              "      <th>nrow</th>\n",
              "      <th>mean_bad_loan</th>\n",
              "    </tr>\n",
              "  </thead>\n",
              "  <tbody>\n",
              "    <tr>\n",
              "      <th>20</th>\n",
              "      <td>(19.0,20.0]</td>\n",
              "      <td>4682</td>\n",
              "      <td>0.163392</td>\n",
              "    </tr>\n",
              "    <tr>\n",
              "      <th>21</th>\n",
              "      <td>(20.0,21.0]</td>\n",
              "      <td>3892</td>\n",
              "      <td>0.157760</td>\n",
              "    </tr>\n",
              "    <tr>\n",
              "      <th>22</th>\n",
              "      <td>(21.0,22.0]</td>\n",
              "      <td>3350</td>\n",
              "      <td>0.160000</td>\n",
              "    </tr>\n",
              "    <tr>\n",
              "      <th>23</th>\n",
              "      <td>(22.0,23.0]</td>\n",
              "      <td>3092</td>\n",
              "      <td>0.167206</td>\n",
              "    </tr>\n",
              "    <tr>\n",
              "      <th>24</th>\n",
              "      <td>(23.0,24.0]</td>\n",
              "      <td>2856</td>\n",
              "      <td>0.176821</td>\n",
              "    </tr>\n",
              "    <tr>\n",
              "      <th>25</th>\n",
              "      <td>(24.0,25.0]</td>\n",
              "      <td>2471</td>\n",
              "      <td>0.164711</td>\n",
              "    </tr>\n",
              "  </tbody>\n",
              "</table>\n",
              "</div>"
            ],
            "text/plain": [
              "   longest_credit_length_cat  nrow  mean_bad_loan\n",
              "20               (19.0,20.0]  4682       0.163392\n",
              "21               (20.0,21.0]  3892       0.157760\n",
              "22               (21.0,22.0]  3350       0.160000\n",
              "23               (22.0,23.0]  3092       0.167206\n",
              "24               (23.0,24.0]  2856       0.176821\n",
              "25               (24.0,25.0]  2471       0.164711"
            ]
          },
          "metadata": {
            "tags": []
          },
          "execution_count": 98
        }
      ]
    },
    {
      "cell_type": "code",
      "metadata": {
        "id": "igZRsNnKhJKN",
        "colab_type": "code",
        "colab": {}
      },
      "source": [
        "x_train.remove('longest_credit_length')\n",
        "x_train.append('longest_credit_length_core')\n",
        "x_train.append('longest_credit_length_delta')\n",
        "\n",
        "train['longest_credit_length_core'] = h2o.H2OFrame.ifelse(train['longest_credit_length'] <= 3,\n",
        "                                                          3, train['longest_credit_length'])\n",
        "train['longest_credit_length_core'] = h2o.H2OFrame.ifelse(train['longest_credit_length_core'] <= 20,\n",
        "                                                          train['longest_credit_length_core'], 20)\n",
        "\n",
        "train['longest_credit_length_delta'] = train['longest_credit_length'] - train['longest_credit_length_core']"
      ],
      "execution_count": 0,
      "outputs": []
    },
    {
      "cell_type": "markdown",
      "metadata": {
        "id": "gJhxR4weh2E-",
        "colab_type": "text"
      },
      "source": [
        "### 13. Converting Income Verification Status to a 0/1 Indicator\n",
        "Given that incomes are either verified or not verified, we will create a simplifed verified binary indicator that is 1 when income has been verified"
      ]
    },
    {
      "cell_type": "code",
      "metadata": {
        "id": "XeUm5F9whls2",
        "colab_type": "code",
        "outputId": "ed8d1f52-c8d5-47c0-e455-72051ef02771",
        "colab": {
          "base_uri": "https://localhost:8080/",
          "height": 72
        }
      },
      "source": [
        "train['verification_status'].table()"
      ],
      "execution_count": 100,
      "outputs": [
        {
          "output_type": "display_data",
          "data": {
            "text/html": [
              "<table>\n",
              "<thead>\n",
              "<tr><th>verification_status  </th><th style=\"text-align: right;\">  Count</th></tr>\n",
              "</thead>\n",
              "<tbody>\n",
              "<tr><td>not verified         </td><td style=\"text-align: right;\">  59155</td></tr>\n",
              "<tr><td>verified             </td><td style=\"text-align: right;\"> 104832</td></tr>\n",
              "</tbody>\n",
              "</table>"
            ]
          },
          "metadata": {
            "tags": []
          }
        },
        {
          "output_type": "execute_result",
          "data": {
            "text/plain": [
              ""
            ]
          },
          "metadata": {
            "tags": []
          },
          "execution_count": 100
        }
      ]
    },
    {
      "cell_type": "code",
      "metadata": {
        "id": "HOuuHGMxh85k",
        "colab_type": "code",
        "colab": {}
      },
      "source": [
        "x_train.remove('verification_status')\n",
        "x_train.append('verified')\n",
        "\n",
        "train['verified'] = train['verification_status'] == 'verified'"
      ],
      "execution_count": 0,
      "outputs": []
    },
    {
      "cell_type": "code",
      "metadata": {
        "id": "kp0SPdO5iJI7",
        "colab_type": "code",
        "outputId": "b8ebff21-130e-48c7-873f-2acd676bf1ab",
        "colab": {
          "base_uri": "https://localhost:8080/",
          "height": 72
        }
      },
      "source": [
        "train['verified'].table()"
      ],
      "execution_count": 102,
      "outputs": [
        {
          "output_type": "display_data",
          "data": {
            "text/html": [
              "<table>\n",
              "<thead>\n",
              "<tr><th style=\"text-align: right;\">  verified</th><th style=\"text-align: right;\">  Count</th></tr>\n",
              "</thead>\n",
              "<tbody>\n",
              "<tr><td style=\"text-align: right;\">         0</td><td style=\"text-align: right;\">  59155</td></tr>\n",
              "<tr><td style=\"text-align: right;\">         1</td><td style=\"text-align: right;\"> 104832</td></tr>\n",
              "</tbody>\n",
              "</table>"
            ]
          },
          "metadata": {
            "tags": []
          }
        },
        {
          "output_type": "execute_result",
          "data": {
            "text/plain": [
              ""
            ]
          },
          "metadata": {
            "tags": []
          },
          "execution_count": 102
        }
      ]
    },
    {
      "cell_type": "markdown",
      "metadata": {
        "id": "RxJlvIsyiWhI",
        "colab_type": "text"
      },
      "source": [
        "### Saving the Transformed Data to a Known Key\n",
        "To make it easier to find the data in the cluster, we will assign the transformed dataset to a known key and then retrieving that frame using the get_frame function"
      ]
    },
    {
      "cell_type": "code",
      "metadata": {
        "id": "Ycb5EMgsiNha",
        "colab_type": "code",
        "outputId": "88064589-e1d0-4841-f82e-2c7f65fc0771",
        "colab": {
          "base_uri": "https://localhost:8080/",
          "height": 33
        }
      },
      "source": [
        "print(train.frame_id)"
      ],
      "execution_count": 103,
      "outputs": [
        {
          "output_type": "stream",
          "text": [
            "py_205_sid_9199\n"
          ],
          "name": "stdout"
        }
      ]
    },
    {
      "cell_type": "code",
      "metadata": {
        "id": "lWhpgbY7ieNu",
        "colab_type": "code",
        "outputId": "7675e6e8-d3c9-453a-d330-dce47d2d4c7e",
        "colab": {
          "base_uri": "https://localhost:8080/",
          "height": 33
        }
      },
      "source": [
        "h2o.assign(train, 'loan_transformed')\n",
        "train = h2o.get_frame('loan_transformed')\n",
        "print(train.frame_id)"
      ],
      "execution_count": 104,
      "outputs": [
        {
          "output_type": "stream",
          "text": [
            "loan_transformed\n"
          ],
          "name": "stdout"
        }
      ]
    },
    {
      "cell_type": "code",
      "metadata": {
        "id": "ctD5zyQXi15n",
        "colab_type": "code",
        "outputId": "69e72b74-a812-44c0-b1f4-a1eaed4a3a9a",
        "colab": {
          "base_uri": "https://localhost:8080/",
          "height": 86
        }
      },
      "source": [
        "print(\"Response = \" + y)\n",
        "print(\"Predictors (Orig) = \" + str(x_orig))\n",
        "print(\"Predictors (Train) = \" + str(x_train))"
      ],
      "execution_count": 105,
      "outputs": [
        {
          "output_type": "stream",
          "text": [
            "Response = bad_loan\n",
            "Predictors (Orig) = ['loan_amnt', 'term', 'emp_length', 'home_ownership', 'annual_inc', 'purpose', 'addr_state', 'dti', 'delinq_2yrs', 'revol_util', 'total_acc', 'longest_credit_length', 'verification_status']\n",
            "Predictors (Train) = ['emp_length', 'loan_amnt_core', 'loan_amnt_delta', 'term_60months', 'emp_length_missing', 'home_ownership_3cat', 'annual_inc_core', 'annual_inc_delta', 'te_purpose', 'te_addr_state', 'dti_core', 'dti_delta', 'delinq_2yrs_core', 'delinq_2yrs_delta', 'revol_util_0', 'revol_util_core', 'revol_util_delta', 'total_acc_core', 'total_acc_delta', 'longest_credit_length_core', 'longest_credit_length_delta', 'verified']\n"
          ],
          "name": "stdout"
        }
      ]
    },
    {
      "cell_type": "code",
      "metadata": {
        "id": "VAuIN3Ej1bX4",
        "colab_type": "code",
        "colab": {}
      },
      "source": [
        ""
      ],
      "execution_count": 0,
      "outputs": []
    }
  ]
}