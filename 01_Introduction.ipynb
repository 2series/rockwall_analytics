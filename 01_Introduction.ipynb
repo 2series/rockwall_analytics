{
  "nbformat": 4,
  "nbformat_minor": 0,
  "metadata": {
    "colab": {
      "name": "01_Introduction.ipynb",
      "provenance": [],
      "collapsed_sections": [],
      "mount_file_id": "10Y2HEY0oTWlSvGJNx44ximtXCOi48F5j",
      "authorship_tag": "ABX9TyMX3O+d1p2CeA9QVBSiWnWW",
      "include_colab_link": true
    },
    "kernelspec": {
      "name": "python3",
      "display_name": "Python 3"
    }
  },
  "cells": [
    {
      "cell_type": "markdown",
      "metadata": {
        "id": "view-in-github",
        "colab_type": "text"
      },
      "source": [
        "<a href=\"https://colab.research.google.com/github/2series/rockwall_analytics/blob/master/01_Introduction.ipynb\" target=\"_parent\"><img src=\"https://colab.research.google.com/assets/colab-badge.svg\" alt=\"Open In Colab\"/></a>"
      ]
    },
    {
      "cell_type": "markdown",
      "metadata": {
        "id": "1oWxADPojROr",
        "colab_type": "text"
      },
      "source": [
        "# Python Practical Course\n",
        "## June 2, 2020\n",
        "# 1.1 Python\n",
        "\n",
        "### What is Python?\n",
        "\n",
        "Python is an interpreted high level programming language.  It is often classified as a\n",
        "[\"scripting language\"](https://en.wikipedia.org/wiki/Scripting_language) and\n",
        "is considered similar to languages such as Perl, Tcl, or Ruby.  The syntax\n",
        "of Python is loosely inspired by elements of C programming.\n",
        "\n",
        "Python was created by Guido van Rossum around 1990 who named it in honor of Monty Python.\n",
        "\n",
        "### Where to get Python?\n",
        "\n",
        "[Python.org](https://www.python.org/) is where you obtain Python.  For the purposes of this course, you\n",
        "only need a basic installation.  I recommend installing Python 3.6 or newer. Python 3.6 is used in the notes\n",
        "and solutions.\n",
        "\n",
        "### Why was Python created?\n",
        "\n",
        "In the words of Python's creator:\n",
        "\n",
        "> My original motivation for creating Python was the perceived need\n",
        "> for a higher level language in the Amoeba [Operating Systems]\n",
        "> project. I realized that the development of system administration\n",
        "> utilities in C was taking too long. Moreover, doing these things in\n",
        "> the Bourne shell wouldn't work for a variety of reasons. ... So,\n",
        "> there was a need for a language that would bridge the gap between C\n",
        "> and the shell.\n",
        ">\n",
        "> - Guido van Rossum\n",
        "\n",
        "### Where is Python on my Machine?\n",
        "\n",
        "Although there are many environments in which you might run Python,\n",
        "Python is typically installed on your machine as a program that runs\n",
        "from the terminal or command shell. From the terminal, you should be\n",
        "able to type `python` like this:\n",
        "\n",
        "```\n",
        "bash $ python\n",
        "Python 3.8.1 (default, Feb 20 2020, 09:29:22)\n",
        "[Clang 10.0.0 (clang-1000.10.44.4)] on darwin\n",
        "Type \"help\", \"copyright\", \"credits\" or \"license\" for more information.\n",
        ">>> print(\"hello world\")\n",
        "hello world\n",
        ">>>\n",
        "```\n",
        "\n",
        "If you are new to using the shell or a terminal, you should probably\n",
        "stop, finish a short tutorial on that first, and then return here.\n",
        "\n",
        "Although there are many non-shell environments where you can code\n",
        "Python, you will be a stronger Python programmer if you are able to\n",
        "run, debug, and interact with Python at the terminal.  This is\n",
        "Python's native environment.  If you are able to use Python here, you\n",
        "will be able to use it everywhere else.\n",
        "\n",
        "## Exercises\n",
        "\n",
        "### Exercise 1.1: Using Python as a Calculator\n",
        "\n",
        "On your machine, start Python and use it as a calulator to solve the\n",
        "following problem.\n",
        "\n",
        "Lucky Larry bought 75 shares of Google stock at a price of $235.14 per\n",
        "share. Today, shares of Google are priced at $711.25. Using Python’s\n",
        "interactive mode as a calculator, figure out how much profit Larry would\n",
        "make if he sold all of his shares."
      ]
    },
    {
      "cell_type": "code",
      "metadata": {
        "id": "vGeTGP9TGUuQ",
        "colab_type": "code",
        "colab": {
          "base_uri": "https://localhost:8080/",
          "height": 33
        },
        "outputId": "0c87634c-b5e0-46e1-ea84-1bccfd1fcd24"
      },
      "source": [
        "(711.25 - 235.14) * 75 "
      ],
      "execution_count": 1,
      "outputs": [
        {
          "output_type": "execute_result",
          "data": {
            "text/plain": [
              "35708.25"
            ]
          },
          "metadata": {
            "tags": []
          },
          "execution_count": 1
        }
      ]
    },
    {
      "cell_type": "markdown",
      "metadata": {
        "id": "-ils_QTBj382",
        "colab_type": "text"
      },
      "source": [
        "Pro-tip: Use the underscore (\\_) variable to use the result of the last\n",
        "calculation. For example, how much profit does Larry make after his evil\n",
        "broker takes their 20% cut?"
      ]
    },
    {
      "cell_type": "code",
      "metadata": {
        "id": "PZD2ksVnfHp6",
        "colab_type": "code",
        "colab": {
          "base_uri": "https://localhost:8080/",
          "height": 33
        },
        "outputId": "846f197d-5af5-4ab3-ca8a-d32fbd620c05"
      },
      "source": [
        "_ * 0.8"
      ],
      "execution_count": 2,
      "outputs": [
        {
          "output_type": "execute_result",
          "data": {
            "text/plain": [
              "28566.600000000002"
            ]
          },
          "metadata": {
            "tags": []
          },
          "execution_count": 2
        }
      ]
    },
    {
      "cell_type": "markdown",
      "metadata": {
        "id": "mPiG-VS8j-Cx",
        "colab_type": "text"
      },
      "source": [
        "### Exercise 1.2: Getting help\n",
        "\n",
        "Use the `help()` command to get help on the `abs()` function. Then use\n",
        "`help()` to get help on the `round()` function. Type `help()` just by\n",
        "itself with no value to enter the interactive help viewer.\n",
        "\n",
        "One caution with `help()` is that it doesn’t work for basic Python\n",
        "statements such as `for`, `if`, `while`, and so forth (i.e., if you type\n",
        "`help(for)` you’ll get a syntax error). You can try putting the help\n",
        "topic in quotes such as `help(\"for\")` instead. If that doesn’t work,\n",
        "you’ll have to turn to an internet search.\n",
        "\n",
        "Followup: Go to <http://docs.python.org> and find the documentation for\n",
        "the `abs()` function (hint: it’s found under the library reference\n",
        "related to built-in functions).\n",
        "\n",
        "### Exercise 1.3: Cutting and Pasting\n",
        "\n",
        "This course is structured as a series of traditional web pages where\n",
        "you are encouraged to try interactive Python code samples **by typing\n",
        "them out by hand.** If you are learning Python for the first time,\n",
        "this \"slow approach\" is encouraged.  You will get a better feel for\n",
        "the language by slowing down, typing things in, and thinking about\n",
        "what you are doing.\n",
        "\n",
        "If you must \"cut and paste\" code samples, select code\n",
        "starting after the `>>>` prompt and going up to, but not any further\n",
        "than the first blank line or the next `>>>` prompt (whichever appears\n",
        "first). Select \"copy\" from the browser, go to the Python window, and\n",
        "select \"paste\" to copy it into the Python shell. To get the code to\n",
        "run, you may have to hit \"Return\" once after you’ve pasted it in.\n",
        "\n",
        "Use cut-and-paste to execute the Python statements in this session:"
      ]
    },
    {
      "cell_type": "code",
      "metadata": {
        "id": "tx2wIlGCfQs3",
        "colab_type": "code",
        "colab": {
          "base_uri": "https://localhost:8080/",
          "height": 98
        },
        "outputId": "ee5c1bde-6feb-4f61-fc4d-213bcfbef615"
      },
      "source": [
        "32\n",
        "18\n",
        "for i in range(5):\n",
        "  print(i)"
      ],
      "execution_count": 3,
      "outputs": [
        {
          "output_type": "stream",
          "text": [
            "0\n",
            "1\n",
            "2\n",
            "3\n",
            "4\n"
          ],
          "name": "stdout"
        }
      ]
    },
    {
      "cell_type": "markdown",
      "metadata": {
        "id": "lKsItwImkDxB",
        "colab_type": "text"
      },
      "source": [
        "Warning: It is never possible to paste more than one Python command\n",
        "(statements that appear after `>>>`) to the basic Python shell at a\n",
        "time. You have to paste each command one at a time.\n",
        "\n",
        "Now that you've done this, just remember that you will get more out of\n",
        "the class by typing in code slowly and thinking about it--not cut and pasting.\n",
        "\n",
        "### Exercise 1.4: Where is My Bus?\n",
        "\n",
        "Try something more advanced and type these statements to find out how\n",
        "long people waiting on the corner of Clark street and Balmoral in\n",
        "Chicago will have to wait for the next northbound CTA \\#22 bus:"
      ]
    },
    {
      "cell_type": "code",
      "metadata": {
        "id": "z-bpG87-gHZZ",
        "colab_type": "code",
        "colab": {}
      },
      "source": [
        "import urllib.request\n",
        "u = urllib.request.urlopen('http://ctabustracker.com/bustime/map/getStopPredictions.jsp?stop=14791&route=22')\n",
        "from xml.etree.ElementTree import parse\n",
        "doc = parse(u)\n",
        "for pt in doc.findall('.//pt'):\n",
        "  print(pt.text)"
      ],
      "execution_count": 0,
      "outputs": []
    },
    {
      "cell_type": "markdown",
      "metadata": {
        "id": "CyfNEfkwkL63",
        "colab_type": "text"
      },
      "source": [
        "Yes, you just downloaded a web page, parsed an XML document, and\n",
        "extracted some useful information in about 6 lines of code. The data\n",
        "you accessed is actually feeding the website\n",
        "<http://ctabustracker.com/bustime/home.jsp>. Try it again and watch\n",
        "the predictions change.\n",
        "\n",
        "Note: This service only reports arrival times within the next 30 minutes.\n",
        "If you're in a different timezone and it happens to be 3am in Chicago, you\n",
        "might not get any output.  You use the tracker link above to double check.\n",
        "\n",
        "If the first import statement `import urllib.request` fails, you’re\n",
        "probably using Python 2. For this course, you need to make sure you’re\n",
        "using Python 3.6 or newer. Go to <https://www.python.org> to download\n",
        "it if you need it.\n",
        "\n",
        "If your work environment requires the use of an HTTP proxy server, you may need\n",
        "to set the `HTTP_PROXY` environment variable to make this part of the\n",
        "exercise work. For example:\n",
        "\n",
        "```python\n",
        ">>> import os\n",
        ">>> os.environ['HTTP_PROXY'] = 'http://yourproxy.server.com'\n",
        ">>>\n",
        "```\n",
        "\n",
        "If you can't make this work, don't worry about it.  The rest of this course\n",
        "has nothing to do with parsing XML."
      ]
    }
  ]
}