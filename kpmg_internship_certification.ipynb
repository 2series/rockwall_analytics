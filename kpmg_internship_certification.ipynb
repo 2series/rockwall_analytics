{
  "nbformat": 4,
  "nbformat_minor": 0,
  "metadata": {
    "colab": {
      "name": "kpmg_internship_certification.ipynb",
      "provenance": [],
      "authorship_tag": "ABX9TyNXK4tYBhym8Zu2FD6U/3re",
      "include_colab_link": true
    },
    "kernelspec": {
      "name": "python3",
      "display_name": "Python 3"
    }
  },
  "cells": [
    {
      "cell_type": "markdown",
      "metadata": {
        "id": "view-in-github",
        "colab_type": "text"
      },
      "source": [
        "<a href=\"https://colab.research.google.com/github/2series/self_analysis/blob/master/kpmg_internship_certification.ipynb\" target=\"_parent\"><img src=\"https://colab.research.google.com/assets/colab-badge.svg\" alt=\"Open In Colab\"/></a>"
      ]
    },
    {
      "cell_type": "markdown",
      "metadata": {
        "id": "7_S-LARpPWiY",
        "colab_type": "text"
      },
      "source": [
        "### Take the mystery out of big data and learn what it’s like to produce business results with the KPMG data analytics team\n",
        "\n",
        "\n",
        "\n",
        "![](https://drive.google.com/uc?id=1t6GXp3ly38rlUR4Z6esjdctZItfJT-AV)\n",
        "\n",
        "\n",
        "\n"
      ]
    }
  ]
}