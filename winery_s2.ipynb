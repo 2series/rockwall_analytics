{
  "nbformat": 4,
  "nbformat_minor": 0,
  "metadata": {
    "colab": {
      "name": "winery_s2.ipynb",
      "provenance": [],
      "collapsed_sections": [],
      "authorship_tag": "ABX9TyP7YlcXSqv0b4l7ANW3IkWi",
      "include_colab_link": true
    },
    "kernelspec": {
      "name": "python3",
      "display_name": "Python 3"
    }
  },
  "cells": [
    {
      "cell_type": "markdown",
      "metadata": {
        "id": "view-in-github",
        "colab_type": "text"
      },
      "source": [
        "<a href=\"https://colab.research.google.com/github/2series/rockwall_analytics/blob/master/winery_s2.ipynb\" target=\"_parent\"><img src=\"https://colab.research.google.com/assets/colab-badge.svg\" alt=\"Open In Colab\"/></a>"
      ]
    },
    {
      "cell_type": "markdown",
      "metadata": {
        "id": "DsfrJlEeD13a",
        "colab_type": "text"
      },
      "source": [
        "# Building a wineRatingPredictor\n",
        "## Part 2: Set Metric & Baseline, Selection & Tuning of Models\n",
        "## 17 May 2020\n",
        "## About RIHAD VARIAWA\n",
        "> As a Data Scientist and former head of global fintech research at Malastare.ai, I find fulfillment tacking challenges to solve complex problems using data\n",
        "\n",
        "![](https://media.giphy.com/media/3ohhwpzf1EmlkTUsO4/giphy.gif)\n",
        "\n",
        "ML workflow to building a **wineRantingPredictor**:\n",
        "\n",
        "1. Data Preprocessing\n",
        "2. EDA\n",
        "3. Feature Engineering & Feature Selection\n",
        "4. Set Evaluation Metric & Establish Baseline\n",
        "5. Selecting Models based on Evaluation Metric\n",
        "6. Perform Hyperparameter Tuning on the Selected Model\n",
        "7. Train & Evaluate the Model\n",
        "8. Interpret Model Predictions\n",
        "9. Draw Conclusions\n",
        "\n",
        "## This notebook covers steps 4 to 6"
      ]
    },
    {
      "cell_type": "code",
      "metadata": {
        "id": "hb3QLQbJDoVf",
        "colab_type": "code",
        "colab": {
          "base_uri": "https://localhost:8080/",
          "height": 72
        },
        "outputId": "9ea160cf-d328-4c6b-9b7b-851ccdb87e8e"
      },
      "source": [
        "# manipulation libraries\n",
        "import pandas as pd\n",
        "import numpy as np\n",
        "\n",
        "# visualization libraries\n",
        "import matplotlib.pyplot as plt\n",
        "import seaborn as sns\n",
        "\n",
        "%matplotlib inline\n",
        "# to display visuals in the notebook\n",
        "\n",
        "%config InlineBackend.figure_format='retina'\n",
        "# to enable high resolution plots\n",
        "\n",
        "# normalization and random-search and error metric\n",
        "from sklearn.model_selection import RandomizedSearchCV\n",
        "from sklearn.preprocessing import StandardScaler\n",
        "from sklearn.metrics import mean_squared_error\n",
        "\n",
        "# potential machine Learning Models\n",
        "from sklearn.linear_model import LinearRegression\n",
        "from sklearn.neighbors import KNeighborsRegressor\n",
        "from sklearn.svm import SVR\n",
        "from sklearn.ensemble import RandomForestRegressor\n",
        "from sklearn.ensemble import ExtraTreesRegressor\n",
        "import lightgbm as lgb\n",
        "\n",
        "# to save ML models\n",
        "# import pickle"
      ],
      "execution_count": null,
      "outputs": [
        {
          "output_type": "stream",
          "text": [
            "/usr/local/lib/python3.6/dist-packages/statsmodels/tools/_testing.py:19: FutureWarning: pandas.util.testing is deprecated. Use the functions in the public API at pandas.testing instead.\n",
            "  import pandas.util.testing as tm\n"
          ],
          "name": "stderr"
        }
      ]
    },
    {
      "cell_type": "code",
      "metadata": {
        "id": "wqfOaAhWEYP_",
        "colab_type": "code",
        "colab": {}
      },
      "source": [
        "# functions to use in the notebook\n",
        "def fit_evaluate_model(model, X_train, y_train, X_valid, y_valid):\n",
        "    # function to train a given model\n",
        "    # return mean squared error of the\n",
        "    # actuals and predictions\n",
        "    model.fit(X_train, y_train)\n",
        "    y_predicted = model.predict(X_valid)\n",
        "\n",
        "    return mean_squared_error(y_valid, y_predicted)\n",
        "\n",
        "def convert_features_to_array(features):\n",
        "    # function to convert feature df\n",
        "    # to an array\n",
        "    num_rows = len(features)\n",
        "    num_cols = len(features.columns)\n",
        "    \n",
        "    features_array = (np.array(features).reshape((num_rows, num_cols)))\n",
        "\n",
        "    return features_array\n",
        "\n",
        "def convert_target_to_array(target):\n",
        "    # function to convert target df\n",
        "    # to an array\n",
        "    target_array = (np.array(target).reshape((-1, )))\n",
        "    \n",
        "    return target_array"
      ],
      "execution_count": null,
      "outputs": []
    },
    {
      "cell_type": "code",
      "metadata": {
        "id": "koEKSO82HeTO",
        "colab_type": "code",
        "colab": {}
      },
      "source": [
        "# load data\n",
        "X_train = pd.read_csv('X_train.csv')\n",
        "y_train = pd.read_csv('y_train.csv')\n",
        "\n",
        "X_valid = pd.read_csv('X_valid.csv')\n",
        "y_valid = pd.read_csv('y_valid.csv')"
      ],
      "execution_count": null,
      "outputs": []
    },
    {
      "cell_type": "code",
      "metadata": {
        "id": "3mHN33aeHyOe",
        "colab_type": "code",
        "colab": {}
      },
      "source": [
        "# convert data to an array\n",
        "X_train_array = convert_features_to_array(X_train)\n",
        "X_valid_array = convert_features_to_array(X_valid)\n",
        "\n",
        "y_train_array = convert_target_to_array(y_train)\n",
        "y_valid_array = convert_target_to_array(y_valid)"
      ],
      "execution_count": null,
      "outputs": []
    },
    {
      "cell_type": "markdown",
      "metadata": {
        "id": "LoQfDJsLX9zY",
        "colab_type": "text"
      },
      "source": [
        "# 4. Set Evaluation Metric & Establish Baseline\n",
        "\n",
        "### **Set Evaluation Metric**\n",
        "\n",
        "![](https://drive.google.com/uc?export=view&id=1NGNnF9yDL6gxZcI2ZWnZHzB2uKFE9gpz)\n",
        "\n",
        "> Gradient descent is the process of gradually decreasing the cost function (i.e. MSE) by tweaking parameter(s) iteratively until you have reached a minimum\n",
        "\n",
        "**MSE (Mean square error)** is the average of the squared error that is used as the loss function for least squares regression: It is the sum, over all the data points, of the square of the difference between the predicted and actual target variables, divided by the number of data points\n",
        "\n",
        "## Steps to find the MSE\n",
        "\n",
        "1. Find the equation for the regression line\n",
        "     \\begin{equation*}   \\hat{Y}_i = \\hat{\\beta}_0 + \\hat{\\beta}_1 X_i + \\hat{\\epsilon}_i   \\end{equation*}\n",
        "\n",
        "2. Insert X values in the equation found in step 1 in order to get the respective Y values i.e.\n",
        "    \\begin{equation*} \\hat{Y}_i \\end{equation*}\n",
        "\n",
        "3. Now subtract the new Y values $$(i.e. \\hat{Y}_i)$$ from the original Y values. Thus, found values are the error terms. It is also known as the vertical distance of the given point from the regression line\n",
        "    \\begin{equation*}  Y_i - \\hat{Y}_i  \\end{equation*} \n",
        "\n",
        "4. Square the errors found in step 3\n",
        "    \\begin{equation*}  {(Y_i - \\hat{Y}_i)}^2  \\end{equation*} \n",
        "\n",
        "5. Sum up all the squares\n",
        "    \\begin{equation*}  \\sum_{i=1}^{N}(Y_i - \\hat{Y}_i)^2  \\end{equation*} \n",
        "\n",
        "6. Divide the value found in step 5 by the total number of observations\n",
        "    \\begin{equation*}  MSE = \\frac{1}{N}\\sum_{i=1}^{N}(Y_i - \\hat{Y}_i)^2  \\end{equation*} \n",
        "\n",
        "*In other words, we are evaluating our model by looking at the measure of how large the squared errors (residuals) are spread out*\n",
        "\n",
        "**MSE** is selected as an *error metric*, because it is interpretable, it is analogous to variance and it also aligns with our selected algorithm's error minimization criteria\n",
        "\n",
        "On the other hand, this *error metric* is sensitive to extreme values or outliers, as it takes the square of the differences between the actual and predicted values, in the presence of extreme values and outliers difference that grows quadratically\n",
        "\n",
        "### **Establish Baseline**\n",
        "Prior to model selection we are going to construct a *baseline metric* with MSE\n",
        "\n",
        "A *baseline metric* can be explained as generating a naive guess of the target value\n",
        "\n",
        "> Before you resort to ML, set up a baseline to solve the problem as if you know zero data science. You may be amazed at how effective this baseline is. It can be as simple as recommending the top N popular items or other rule-based logic. This baseline can also server as a good benchmark for ML\n",
        "\n",
        "**We are going to select and tune the models that beats our baseline by a significant margin**\n",
        "\n",
        "*Should our models be unable to beat our baleline, then ML may not be the best approach to solving this problem or the entire data pre-processing steps needs re-consideration*\n",
        "\n",
        "**For our regression problem, a simple baseline is to predict the variance of the mean of the training set to the validation set. This approach aligns with our evaluation metric MSE as well!**"
      ]
    },
    {
      "cell_type": "code",
      "metadata": {
        "id": "v5BtxLFjH-eU",
        "colab_type": "code",
        "colab": {
          "base_uri": "https://localhost:8080/",
          "height": 34
        },
        "outputId": "e7ceaffb-016e-4670-cb97-a24122f00b28"
      },
      "source": [
        "# set baseline as mean of training set's target value\n",
        "baseline = (np.mean(y_train_array))\n",
        "baseline"
      ],
      "execution_count": null,
      "outputs": [
        {
          "output_type": "execute_result",
          "data": {
            "text/plain": [
              "88.45000745045448"
            ]
          },
          "metadata": {
            "tags": []
          },
          "execution_count": 6
        }
      ]
    },
    {
      "cell_type": "code",
      "metadata": {
        "id": "akDsI7_7aX2n",
        "colab_type": "code",
        "colab": {
          "base_uri": "https://localhost:8080/",
          "height": 34
        },
        "outputId": "f57554a1-df1c-4876-865c-59ef999293fc"
      },
      "source": [
        "# calculate MSE baseline\n",
        "# variance of the mean from our Training set to Validation set\n",
        "mse_baseline = (np.mean(np.square(baseline - y_valid_array)))\n",
        "\n",
        "print(\"Baseline error is:\", round(mse_baseline, 2))"
      ],
      "execution_count": null,
      "outputs": [
        {
          "output_type": "stream",
          "text": [
            "Baseline error is: 9.01\n"
          ],
          "name": "stdout"
        }
      ]
    },
    {
      "cell_type": "markdown",
      "metadata": {
        "id": "yGEVrU1Hb5EO",
        "colab_type": "text"
      },
      "source": [
        "This shows the average variance between training points and validation points is 9.01. i.e, the sum of squared residuals on average of training points to validation points is 9.01\n",
        "\n",
        "# 5. Selecting Models based on Evaluation Metric\n",
        "We are going to try 1 Linear Algorithm, 2 Distance-based Algorithms, and 3 Tree-based algorithms\n",
        "\n",
        "+ Linear regression\n",
        "+ K-nearest neighbors\n",
        "+ Support vector machines\n",
        "+ Random forests regressor\n",
        "+ Extra trees regressor\n",
        "+ Light gradient boosting machines\n",
        "\n",
        "We are going to train our models using the training set, and compare their performances by looking at the **MSE** for predictions on the validation set\n",
        "\n",
        "For now, we will not go into the details of each model, we will observe the run time and the **MSE** reported by each model. We will elaborate on the best model in the last notebook\n",
        "\n",
        "### **Linear Regression Algo**"
      ]
    },
    {
      "cell_type": "code",
      "metadata": {
        "id": "UOWeByXlbjtm",
        "colab_type": "code",
        "colab": {
          "base_uri": "https://localhost:8080/",
          "height": 69
        },
        "outputId": "5849e3c3-35ed-468f-fed5-03a46852612d"
      },
      "source": [
        "# we begin our exploration with small samples\n",
        "# before scaling it to production volume\n",
        "# hence, its logical to gauge the time on how long the algo runs\n",
        "%%time\n",
        "lr = LinearRegression()\n",
        "mse_lr=fit_evaluate_model(lr, \n",
        "                          X_train_array, \n",
        "                          y_train_array, \n",
        "                          X_valid_array, \n",
        "                          y_valid_array)\n",
        "\n",
        "print(\"MSE of linear regression:\", mse_lr)"
      ],
      "execution_count": null,
      "outputs": [
        {
          "output_type": "stream",
          "text": [
            "MSE of linear regression: 7.27029102659392\n",
            "CPU times: user 6.38 ms, sys: 7.09 ms, total: 13.5 ms\n",
            "Wall time: 34.9 ms\n"
          ],
          "name": "stdout"
        }
      ]
    },
    {
      "cell_type": "markdown",
      "metadata": {
        "id": "_0L0pS3schK9",
        "colab_type": "text"
      },
      "source": [
        "This algo beats our baseline metric, 9.01, indicating that it may be a candidate for a good predictor"
      ]
    },
    {
      "cell_type": "markdown",
      "metadata": {
        "id": "84CjJKREi8L8",
        "colab_type": "text"
      },
      "source": [
        "### **Normalize Datasets for KNN and SVM**\n",
        "Distance-based algos uses the euclidian distance to train models, thus varying ranges causes distance-based algos to generate inaccurate predictions\n",
        "\n",
        "In order to differentiate between distance-based models, we are going to scale down the features with normalization"
      ]
    },
    {
      "cell_type": "code",
      "metadata": {
        "id": "g27EGxUacaXv",
        "colab_type": "code",
        "colab": {}
      },
      "source": [
        "# create scaler\n",
        "scaler = StandardScaler()\n",
        "\n",
        "# apply normalization to training set and transform training set\n",
        "X_train_array_scaled = (scaler.fit_transform(X_train_array, y_train_array))\n",
        "\n",
        "# transform validation set\n",
        "X_valid_array_scaled = scaler.transform(X_valid_array)"
      ],
      "execution_count": null,
      "outputs": []
    },
    {
      "cell_type": "markdown",
      "metadata": {
        "id": "s2vIlDjbdNjp",
        "colab_type": "text"
      },
      "source": [
        "### **KNN Regressor**"
      ]
    },
    {
      "cell_type": "code",
      "metadata": {
        "id": "hyhNK9wndJ6i",
        "colab_type": "code",
        "colab": {
          "base_uri": "https://localhost:8080/",
          "height": 69
        },
        "outputId": "e90a203b-ef26-4e60-a258-505e7ea8c7ee"
      },
      "source": [
        "# we begin our exploration with small samples\n",
        "# before scaling it to production volume\n",
        "# hence, its logical to gauge the time on how long the algo runs\n",
        "%%time\n",
        "knn = KNeighborsRegressor()\n",
        "mse_knn = fit_evaluate_model(knn,\n",
        "                             X_train_array_scaled, \n",
        "                             y_train_array, \n",
        "                             X_valid_array_scaled, \n",
        "                             y_valid_array)\n",
        "\n",
        "print(\"MSE of knn regressor:\", mse_knn)"
      ],
      "execution_count": null,
      "outputs": [
        {
          "output_type": "stream",
          "text": [
            "MSE of knn regressor: 6.379597675458203\n",
            "CPU times: user 284 ms, sys: 55.2 ms, total: 339 ms\n",
            "Wall time: 283 ms\n"
          ],
          "name": "stdout"
        }
      ]
    },
    {
      "cell_type": "markdown",
      "metadata": {
        "id": "Tfzbb9aPmNPH",
        "colab_type": "text"
      },
      "source": [
        "This algo performs better than our linear regression algo, indicating that it may be a candidate for a good predictor"
      ]
    },
    {
      "cell_type": "markdown",
      "metadata": {
        "id": "069scz-KdYTI",
        "colab_type": "text"
      },
      "source": [
        "\n",
        "\n",
        "\n",
        "### **SVM Regressor**"
      ]
    },
    {
      "cell_type": "code",
      "metadata": {
        "id": "quTQHhm1dUSi",
        "colab_type": "code",
        "colab": {
          "base_uri": "https://localhost:8080/",
          "height": 69
        },
        "outputId": "641cf7e2-5154-4e19-8d2a-fdd812466524"
      },
      "source": [
        "# we begin our exploration with small samples\n",
        "# before scaling it to production volume\n",
        "# hence, its logical to gauge the time on how long the algo runs\n",
        "%%time\n",
        "svm = SVR()\n",
        "mse_svm = fit_evaluate_model(svm,\n",
        "                             X_train_array_scaled, \n",
        "                             y_train_array, \n",
        "                             X_valid_array_scaled, \n",
        "                             y_valid_array)\n",
        "\n",
        "print('MSE of Support Vector Machines:', mse_svm)"
      ],
      "execution_count": null,
      "outputs": [
        {
          "output_type": "stream",
          "text": [
            "MSE of Support Vector Machines: 5.860601491906348\n",
            "CPU times: user 4.09 s, sys: 181 ms, total: 4.27 s\n",
            "Wall time: 4.28 s\n"
          ],
          "name": "stdout"
        }
      ]
    },
    {
      "cell_type": "markdown",
      "metadata": {
        "id": "AcLthnciduGa",
        "colab_type": "text"
      },
      "source": [
        "This algo performed better than the KNN at a higher run-time. All in all MSE decreased 35% showing that this algorithm might be a candidate for building a good predictor\n",
        "\n",
        "### **Random Forest Regressor**"
      ]
    },
    {
      "cell_type": "code",
      "metadata": {
        "id": "UeJ3A12HdqXD",
        "colab_type": "code",
        "colab": {
          "base_uri": "https://localhost:8080/",
          "height": 69
        },
        "outputId": "001f1ef9-dd7e-4d4a-c5ac-8ce2a4a6279f"
      },
      "source": [
        "# we begin our exploration with small samples\n",
        "# before scaling it to production volume\n",
        "# hence, its logical to gauge the time on how long the algo runs\n",
        "%%time\n",
        "rf = RandomForestRegressor(random_state=42)\n",
        "mse_rf = fit_evaluate_model(rf,\n",
        "                            X_train_array,\n",
        "                            y_train_array,\n",
        "                            X_valid_array,\n",
        "                            y_valid_array)\n",
        "\n",
        "print(\"MSE of Random Forests\", mse_rf)"
      ],
      "execution_count": null,
      "outputs": [
        {
          "output_type": "stream",
          "text": [
            "MSE of Random Forests 5.405547117765815\n",
            "CPU times: user 2.7 s, sys: 5.9 ms, total: 2.7 s\n",
            "Wall time: 2.7 s\n"
          ],
          "name": "stdout"
        }
      ]
    },
    {
      "cell_type": "markdown",
      "metadata": {
        "id": "JZBotF4deDcj",
        "colab_type": "text"
      },
      "source": [
        "This algo performed better than SVM at less run-times. It decreased the MSE 44%, and displaces SVM from the good-predictor list\n",
        "\n",
        "### **Extra Trees Regressor**"
      ]
    },
    {
      "cell_type": "code",
      "metadata": {
        "id": "VqJrZdP9eAaz",
        "colab_type": "code",
        "colab": {
          "base_uri": "https://localhost:8080/",
          "height": 69
        },
        "outputId": "0d587d79-429d-471c-a100-581dbe462622"
      },
      "source": [
        "# we begin our exploration with small samples\n",
        "# before scaling it to production volume\n",
        "# hence, its logical to gauge the time on how long the algo runs\n",
        "%%time\n",
        "xrf = ExtraTreesRegressor(random_state=42)\n",
        "mse_xrf = fit_evaluate_model(xrf,\n",
        "                             X_train_array,\n",
        "                             y_train_array,\n",
        "                             X_valid_array,\n",
        "                             y_valid_array)\n",
        "\n",
        "print(\"MSE of Random Forests\", mse_xrf)"
      ],
      "execution_count": null,
      "outputs": [
        {
          "output_type": "stream",
          "text": [
            "MSE of Random Forests 5.925980256295634\n",
            "CPU times: user 1.89 s, sys: 12.9 ms, total: 1.9 s\n",
            "Wall time: 1.9 s\n"
          ],
          "name": "stdout"
        }
      ]
    },
    {
      "cell_type": "markdown",
      "metadata": {
        "id": "p66m8Kw5eXkg",
        "colab_type": "text"
      },
      "source": [
        "This algo performed worse than the Random Forest and SVM, thus indicating it is not a good candidate for a good predictor\n",
        "\n",
        "### **Light Gradient Boosting Regressor**"
      ]
    },
    {
      "cell_type": "code",
      "metadata": {
        "id": "SsI_R8_oeTGE",
        "colab_type": "code",
        "colab": {
          "base_uri": "https://localhost:8080/",
          "height": 69
        },
        "outputId": "e87a366d-1efc-49e9-f291-61f960f30224"
      },
      "source": [
        "# we begin our exploration with small samples\n",
        "# before scaling it to production volume\n",
        "# hence, its logical to gauge the time on how long the algo runs\n",
        "%%time\n",
        "lgbm = lgb.LGBMRegressor(random_state=42)\n",
        "mse_lgbm = fit_evaluate_model(lgbm,\n",
        "                              X_train_array,\n",
        "                              y_train_array,\n",
        "                              X_valid_array,\n",
        "                              y_valid_array)\n",
        "\n",
        "print(\"MSE of light gradient boosting algorithm\", mse_lgbm)"
      ],
      "execution_count": null,
      "outputs": [
        {
          "output_type": "stream",
          "text": [
            "MSE of light gradient boosting algorithm 4.968934649974784\n",
            "CPU times: user 307 ms, sys: 19.9 ms, total: 327 ms\n",
            "Wall time: 174 ms\n"
          ],
          "name": "stdout"
        }
      ]
    },
    {
      "cell_type": "markdown",
      "metadata": {
        "id": "cA5GrIcaew2c",
        "colab_type": "text"
      },
      "source": [
        "This algo has the best performance of all tree models. It lowered the baseline MSE by 45% and indicates that it is a potential candidate for a good predictor at a lower run time\n",
        "\n",
        "# Visualize Model Selection Output "
      ]
    },
    {
      "cell_type": "code",
      "metadata": {
        "id": "tXUQJ2_PeuZH",
        "colab_type": "code",
        "colab": {
          "base_uri": "https://localhost:8080/",
          "height": 645
        },
        "outputId": "417eb76b-4c93-4008-c94a-317a66d9de7c"
      },
      "source": [
        "# create dataframe of mse and model and sort values\n",
        "performance_comparison = pd.DataFrame({'Model': \n",
        "                                       ['Linear Regression', 'K-Nearest Neighbor', \n",
        "                                        'Support Vector Machines', 'Random Forest', \n",
        "                                        'Extra Trees', 'LightGBM'],\n",
        "                                       'MSE': \n",
        "                                       [mse_lr, mse_knn, mse_svm, \n",
        "                                        mse_rf, mse_xrf, mse_lgbm]})\n",
        "\n",
        "performance_comparison = performance_comparison.sort_values(by='MSE', ascending=True)\n",
        "\n",
        "\n",
        "\n",
        "# the plot\n",
        "plt.figure(figsize=(10,10))\n",
        "ax = sns.barplot(x='MSE', y='Model', data=performance_comparison, palette='PuRd_d')\n",
        "\n",
        "# title arrange labels\n",
        "plt.yticks(size=14)\n",
        "plt.xticks(size=14)\n",
        "plt.title('MSE for Different Model Selection', size=16)"
      ],
      "execution_count": null,
      "outputs": [
        {
          "output_type": "execute_result",
          "data": {
            "text/plain": [
              "Text(0.5, 1.0, 'MSE for Different Model Selection')"
            ]
          },
          "metadata": {
            "tags": []
          },
          "execution_count": 41
        },
        {
          "output_type": "display_data",
          "data": {
            "image/png": "[encoded data removed]",
            "text/plain": [
              "<Figure size 720x720 with 1 Axes>"
            ]
          },
          "metadata": {
            "tags": [],
            "image/png": {
              "width": 767,
              "height": 610
            },
            "needs_background": "light"
          }
        }
      ]
    },
    {
      "cell_type": "markdown",
      "metadata": {
        "id": "92m2_zKKBHht",
        "colab_type": "text"
      },
      "source": [
        "Random forest and Light GBM algos showed they are potentially good predictors for our **wineRatingPredictor**\n",
        "\n",
        "Both algos decreased baseline MSE by more than 40%\n",
        "\n",
        "Next, we attempt to make additional improvements to RF and LGBM using Random Search with Cross Validation, and Hyperparameter Tuning\n",
        "\n",
        "# 6. Perform Hyperparameter Tuning on Selected Model\n",
        "We are going to search for the best set of parameters with **random search and k-fold cross validation**\n",
        "\n",
        "**Random search** is the process of randomly combining the defined parameters and comparing the defined score, *MSE, for this problem*, with iterations. So, the most optimal dataset might be different than the *random search* results. However, this search algo is fast and run-time efficient\n",
        "\n",
        "**K-fold cv** is the method used to assess the performance of hyperparameters on the entire dataset. Rather than splitting the dataset into 2 static subsets of training and validation sets, the dataset is divided equally for the given K. The model is trained with K-1 subsets and tested on Kth subset iteratively. This process makes each process more robust"
      ]
    },
    {
      "cell_type": "code",
      "metadata": {
        "id": "rgtrBcoOA7UI",
        "colab_type": "code",
        "colab": {}
      },
      "source": [
        "# add back df to perform Random Search + CV\n",
        "X = pd.concat([X_train, X_valid])\n",
        "y = pd.concat([y_train, y_valid])\n",
        "\n",
        "X_array = convert_features_to_array(X)\n",
        "y_array = convert_target_to_array(y)"
      ],
      "execution_count": null,
      "outputs": []
    },
    {
      "cell_type": "markdown",
      "metadata": {
        "id": "O4AZVtUJEd7e",
        "colab_type": "text"
      },
      "source": [
        "### **Light GBM**\n",
        "Parameters to optimized\n",
        "\n",
        "+ **boosting type**: tree optimization method, default is gdbt\n",
        "+ **n_estimators**: number of trees to be used in the model, default is 100\n",
        "+ **learning_rate**: how fast algorithm optimizes the built trees, default is 0.1\n",
        "+ **colsample_bytree**: sub-sample ratio of columns when constructing each tree, default is 1"
      ]
    },
    {
      "cell_type": "code",
      "metadata": {
        "id": "bHTuKBX5EaFY",
        "colab_type": "code",
        "colab": {}
      },
      "source": [
        "# define search parameters\n",
        "boosting_type = ['gbdt', 'dart', 'goss', 'rf']\n",
        "n_estimators = [100, 200, 300, 500, 1000]\n",
        "learning_rate = [0.01, 0.02, 0.05, 0.1]\n",
        "colsample_bytree = [0.5, 0.6, 0.7, 0.8, 0.9, 1]\n",
        "\n",
        "# define the grid for hyperparameters to search\n",
        "hyperparameter_grid = {'boosting_type': boosting_type,\n",
        "                       'n_estimators': n_estimators,\n",
        "                       'learning_rate': learning_rate,\n",
        "                       'colsample_bytree': colsample_bytree}"
      ],
      "execution_count": null,
      "outputs": []
    },
    {
      "cell_type": "code",
      "metadata": {
        "id": "1uWnIrgmFNSx",
        "colab_type": "code",
        "colab": {}
      },
      "source": [
        "# create randomized search object\n",
        "lgbm_random_cv = RandomizedSearchCV(estimator=lgbm,\n",
        "                                    param_distributions=hyperparameter_grid,\n",
        "                                    cv=4, \n",
        "                                    n_iter=25,\n",
        "                                    scoring='neg_mean_squared_error',\n",
        "                                    n_jobs=-1, \n",
        "                                    verbose=1,\n",
        "                                    return_train_score=True,\n",
        "                                    random_state=42)\n",
        "\n",
        "lgbm_random_cv.fit(X, y)"
      ],
      "execution_count": null,
      "outputs": []
    },
    {
      "cell_type": "code",
      "metadata": {
        "id": "5-_Rn4XeFXbs",
        "colab_type": "code",
        "colab": {
          "base_uri": "https://localhost:8080/",
          "height": 115
        },
        "outputId": "1c5b8586-56b7-47d2-9b8c-08ab1594fbf4"
      },
      "source": [
        "lgbm_random_cv.best_estimator_"
      ],
      "execution_count": null,
      "outputs": [
        {
          "output_type": "execute_result",
          "data": {
            "text/plain": [
              "LGBMRegressor(boosting_type='gbdt', class_weight=None, colsample_bytree=0.5,\n",
              "              importance_type='split', learning_rate=0.02, max_depth=-1,\n",
              "              min_child_samples=20, min_child_weight=0.001, min_split_gain=0.0,\n",
              "              n_estimators=1000, n_jobs=-1, num_leaves=31, objective=None,\n",
              "              random_state=42, reg_alpha=0.0, reg_lambda=0.0, silent=True,\n",
              "              subsample=1.0, subsample_for_bin=200000, subsample_freq=0)"
            ]
          },
          "metadata": {
            "tags": []
          },
          "execution_count": 20
        }
      ]
    },
    {
      "cell_type": "markdown",
      "metadata": {
        "id": "J8HGMH7EFxsL",
        "colab_type": "text"
      },
      "source": [
        "After hyperparameter tuning, best set of hyperpramaters are determined as:\n",
        "\n",
        "+ **boosting_type**: gbdt\n",
        "+ **n_estimators**: 1000\n",
        "+ **colsample_bytree**: 0.5\n",
        "+ **learning_rate**: 0.02\n",
        "\n",
        "### **Revisit MSE**"
      ]
    },
    {
      "cell_type": "code",
      "metadata": {
        "id": "I0WxzSk4Fp_0",
        "colab_type": "code",
        "colab": {}
      },
      "source": [
        "lgbm_random_cv_model = lgbm_random_cv.best_estimator_"
      ],
      "execution_count": null,
      "outputs": []
    },
    {
      "cell_type": "code",
      "metadata": {
        "id": "noOVmHWFG38k",
        "colab_type": "code",
        "colab": {
          "base_uri": "https://localhost:8080/",
          "height": 66
        },
        "outputId": "c176ae86-a002-402b-d44f-3b9c5c174e71"
      },
      "source": [
        "# we begin our exploration with small samples\n",
        "# before scaling it to production volume\n",
        "# hence, its logical to gauge the time on how long the algo runs\n",
        "%%time\n",
        "lgbm = lgb.LGBMRegressor(random_state=42)\n",
        "mse_lgbm_rcv = fit_evaluate_model(lgbm_random_cv_model,\n",
        "                                  X_train_array,\n",
        "                                  y_train_array,\n",
        "                                  X_valid_array,\n",
        "                                  y_valid_array)\n",
        "\n",
        "print('MSE of light gradient boosting algorithm', mse_lgbm_rcv)"
      ],
      "execution_count": null,
      "outputs": [
        {
          "output_type": "stream",
          "text": [
            "MSE of light gradient boosting algorithm 4.853705411207822\n",
            "CPU times: user 2.35 s, sys: 157 ms, total: 2.51 s\n",
            "Wall time: 1.28 s\n"
          ],
          "name": "stdout"
        }
      ]
    },
    {
      "cell_type": "markdown",
      "metadata": {
        "id": "y5OLN0uZHFK_",
        "colab_type": "text"
      },
      "source": [
        "MSE for lgbm decreased from 4.97 to 4.85, which is a 3% improvement compared to light gbm built with default parameters, at a higher run-time\n",
        "\n",
        "### **Random Forest**\n",
        "Parameters to be optimized\n",
        "\n",
        "+ **n_estimators**: number of trees to be used in the model, default is 100\n",
        "+ **min_samples_split**: minimum number of samples required to split an internal node, default value is 2\n",
        "+ **min_samples_leaf**: minimum number of samples required to be at a leaf node, default value is 1\n",
        "+ **max_features**: number of features to consider when looking for the best split, default value is auto"
      ]
    },
    {
      "cell_type": "code",
      "metadata": {
        "id": "pgY2jvY2G_W2",
        "colab_type": "code",
        "colab": {}
      },
      "source": [
        "# define search parameters\n",
        "n_estimators = [100, 200, 300, 500, 1000]\n",
        "min_samples_split = [2, 4, 6, 10]\n",
        "min_samples_leaf = [1, 2, 4, 6, 8]\n",
        "max_features = ['auto', 'sqrt', 'log2', None]\n",
        "\n",
        "# define the grid of hyperparameters to search\n",
        "hyperparameter_grid = {'n_estimators': n_estimators,\n",
        "                       'min_samples_split': min_samples_split,\n",
        "                       'min_samples_leaf': min_samples_leaf,\n",
        "                       'max_features': max_features}"
      ],
      "execution_count": null,
      "outputs": []
    },
    {
      "cell_type": "code",
      "metadata": {
        "id": "zEiLM0B9HpgG",
        "colab_type": "code",
        "colab": {}
      },
      "source": [
        "# create randomized search object\n",
        "rf_random_cv = RandomizedSearchCV(estimator=rf,\n",
        "                                  param_distributions=hyperparameter_grid,\n",
        "                                  cv=4, \n",
        "                                  n_iter=25,\n",
        "                                  scoring='neg_mean_squared_error',\n",
        "                                  n_jobs=-1, \n",
        "                                  verbose=1,\n",
        "                                  return_train_score=True,\n",
        "                                  random_state=42)\n",
        "\n",
        "rf_random_cv.fit(X, y)"
      ],
      "execution_count": null,
      "outputs": []
    },
    {
      "cell_type": "code",
      "metadata": {
        "id": "ENxRG0wVHx0z",
        "colab_type": "code",
        "colab": {
          "base_uri": "https://localhost:8080/",
          "height": 132
        },
        "outputId": "8e9cfab8-5cd6-42cb-a2fa-35109da43017"
      },
      "source": [
        "rf_random_cv.best_estimator_"
      ],
      "execution_count": null,
      "outputs": [
        {
          "output_type": "execute_result",
          "data": {
            "text/plain": [
              "RandomForestRegressor(bootstrap=True, ccp_alpha=0.0, criterion='mse',\n",
              "                      max_depth=None, max_features='sqrt', max_leaf_nodes=None,\n",
              "                      max_samples=None, min_impurity_decrease=0.0,\n",
              "                      min_impurity_split=None, min_samples_leaf=2,\n",
              "                      min_samples_split=4, min_weight_fraction_leaf=0.0,\n",
              "                      n_estimators=200, n_jobs=None, oob_score=False,\n",
              "                      random_state=42, verbose=0, warm_start=False)"
            ]
          },
          "metadata": {
            "tags": []
          },
          "execution_count": 25
        }
      ]
    },
    {
      "cell_type": "markdown",
      "metadata": {
        "id": "jZ7caPrNIGMr",
        "colab_type": "text"
      },
      "source": [
        "After hyperparameter tuning, best set of hyperpramaters are determined as\n",
        "\n",
        "+ **n_estimators**: 200\n",
        "+ **min_samples_split**: 4\n",
        "+ **min_samples_leaf**: 2\n",
        "+ **max_features**: sqrt\n",
        "\n",
        "### **Revisit MSE**"
      ]
    },
    {
      "cell_type": "code",
      "metadata": {
        "id": "RWv0vP4UJyH4",
        "colab_type": "code",
        "colab": {}
      },
      "source": [
        "rf_random_cv_model = rf_random_cv.best_estimator_"
      ],
      "execution_count": null,
      "outputs": []
    },
    {
      "cell_type": "code",
      "metadata": {
        "id": "-vss_slaJ4Fd",
        "colab_type": "code",
        "colab": {
          "base_uri": "https://localhost:8080/",
          "height": 66
        },
        "outputId": "313d105e-b623-4905-8bc4-ebb4874d940d"
      },
      "source": [
        "%%time\n",
        "mse_rf_rcv = fit_evaluate_model(rf_random_cv_model,\n",
        "                                X_train_array,\n",
        "                                y_train_array,\n",
        "                                X_valid_array,\n",
        "                                y_valid_array)\n",
        "\n",
        "print('MSE of random forests algorithm', mse_rf_rcv)"
      ],
      "execution_count": null,
      "outputs": [
        {
          "output_type": "stream",
          "text": [
            "MSE of random forests algorithm 4.990440242105872\n",
            "CPU times: user 1.46 s, sys: 5.67 ms, total: 1.46 s\n",
            "Wall time: 1.47 s\n"
          ],
          "name": "stdout"
        }
      ]
    },
    {
      "cell_type": "markdown",
      "metadata": {
        "id": "44WNS6noKC5o",
        "colab_type": "text"
      },
      "source": [
        "# Conclusion\n",
        "We started out with the baseline MSE of 9.01. linear regression, knn, svm, and extra trees regressor could only beat the baseline metric with a slight difference. Thus, eliminating them from the potential good predictor model list\n",
        "\n",
        "*RF and light GBM* have beaten the baseline MSE by more than 40% which is a significant improvement. Thus they are selected as potential good predictors\n",
        "\n",
        "Hyperparameter tuning was performed on the potential good predictors, where we searched for more suitable parameters for a given feature set. Light GBM's MSE improved from 4.97 to 4.85, and the tuned model run-time resulted in 1.17 seconds \n",
        "\n",
        "On the other hand, RF MSE improved more after the hyperparamater tuning. Its MSE decreased from 5.41 to 4.99 and the tuned model run-time resulted in 1.13 seconds which is lower than the initial RF model\n",
        "\n",
        "Although tuned light GBM's MSE is lower than the tuned RF model, I'll select the RF algo as my predictor. My goal was to illustrate a good prediction for wine points are possible by using **machine learning**, and my tuned RF model has already satisfied that requirement\n",
        "\n",
        "Other important considerations for our model selection are:\n",
        "+ the improvement on the MSE between the initial and tuned model,\n",
        "+ algorithm explainability and \n",
        "+ model run-times\n",
        "\n",
        "Let's save our fine-tuned RF model as output for this file, and continue by training our model on the entire training set in the last notebook"
      ]
    },
    {
      "cell_type": "code",
      "metadata": {
        "id": "bugZKOA6J9h7",
        "colab_type": "code",
        "colab": {}
      },
      "source": [
        "# filename = 'random_forests_model.sav'\n",
        "# pickle.dump(rf_random_cv_model, open(filename, 'wb'))"
      ],
      "execution_count": null,
      "outputs": []
    },
    {
      "cell_type": "markdown",
      "metadata": {
        "id": "zHqLowBHD0mP",
        "colab_type": "text"
      },
      "source": [
        "![](https://drive.google.com/uc?export=view&id=1i7fzIUxz-oEs8V4uMdoZCQUl51NMrbVz)"
      ]
    },
    {
      "cell_type": "code",
      "metadata": {
        "id": "mVV7MFlsTlpW",
        "colab_type": "code",
        "colab": {}
      },
      "source": [
        ""
      ],
      "execution_count": null,
      "outputs": []
    }
  ]
}